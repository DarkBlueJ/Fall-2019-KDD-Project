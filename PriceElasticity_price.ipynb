{
 "cells": [
  {
   "cell_type": "markdown",
   "metadata": {},
   "source": [
    "# Analysis on Price Elasticity"
   ]
  },
  {
   "cell_type": "markdown",
   "metadata": {},
   "source": [
    "## Exploratory Data Analysis\n",
    "When approaching a data mining problem, a data mining analyst will have a priori hypothesis (one formed beforehand) that he or she would like to test regarding the relationships between variables. However, analysts do not always have these notions of the expected relationships among variables. When given an unknown large database, analysts often prefer to use Exploratory Data Analysis(EDA) or graphical analysis to understand the data.\n",
    "\n",
    "### EDA \n",
    "Allows the analyst to identify the interesting subsets of the observations\n",
    "and develop an initial idea of possible associations among the predictors, as well as between the predictors and target variable."
   ]
  },
  {
   "cell_type": "code",
   "execution_count": 1,
   "metadata": {
    "ExecuteTime": {
     "end_time": "2019-12-11T04:57:36.151671Z",
     "start_time": "2019-12-11T04:57:33.180201Z"
    }
   },
   "outputs": [],
   "source": [
    "import pandas as pd\n",
    "from pandas.plotting import scatter_matrix\n",
    "import matplotlib.pyplot as plt\n",
    "import numpy as np\n",
    "from sklearn import datasets, model_selection\n",
    "import warnings\n",
    "warnings.filterwarnings('ignore')\n",
    "from sklearn import model_selection\n",
    "import seaborn as sns\n",
    "from scipy import stats\n",
    "import matplotlib.pyplot as plt"
   ]
  },
  {
   "cell_type": "code",
   "execution_count": 2,
   "metadata": {
    "ExecuteTime": {
     "end_time": "2019-12-11T04:57:37.002378Z",
     "start_time": "2019-12-11T04:57:36.154673Z"
    }
   },
   "outputs": [],
   "source": [
    "ecom_data = pd.read_csv('DatafinitiElectronicsProductsPricingData.csv')"
   ]
  },
  {
   "cell_type": "code",
   "execution_count": 3,
   "metadata": {
    "ExecuteTime": {
     "end_time": "2019-12-11T04:57:37.058228Z",
     "start_time": "2019-12-11T04:57:37.006335Z"
    },
    "scrolled": false
   },
   "outputs": [
    {
     "data": {
      "text/html": [
       "<div>\n",
       "<style scoped>\n",
       "    .dataframe tbody tr th:only-of-type {\n",
       "        vertical-align: middle;\n",
       "    }\n",
       "\n",
       "    .dataframe tbody tr th {\n",
       "        vertical-align: top;\n",
       "    }\n",
       "\n",
       "    .dataframe thead th {\n",
       "        text-align: right;\n",
       "    }\n",
       "</style>\n",
       "<table border=\"1\" class=\"dataframe\">\n",
       "  <thead>\n",
       "    <tr style=\"text-align: right;\">\n",
       "      <th></th>\n",
       "      <th>id</th>\n",
       "      <th>prices.amountMax</th>\n",
       "      <th>prices.amountMin</th>\n",
       "      <th>prices.availability</th>\n",
       "      <th>prices.condition</th>\n",
       "      <th>prices.currency</th>\n",
       "      <th>prices.dateSeen</th>\n",
       "      <th>prices.isSale</th>\n",
       "      <th>prices.merchant</th>\n",
       "      <th>prices.shipping</th>\n",
       "      <th>...</th>\n",
       "      <th>ean</th>\n",
       "      <th>imageURLs</th>\n",
       "      <th>keys</th>\n",
       "      <th>manufacturer</th>\n",
       "      <th>manufacturerNumber</th>\n",
       "      <th>name</th>\n",
       "      <th>primaryCategories</th>\n",
       "      <th>sourceURLs</th>\n",
       "      <th>upc</th>\n",
       "      <th>weight</th>\n",
       "    </tr>\n",
       "  </thead>\n",
       "  <tbody>\n",
       "    <tr>\n",
       "      <th>0</th>\n",
       "      <td>AVphzgbJLJeJML43fA0o</td>\n",
       "      <td>104.99</td>\n",
       "      <td>104.99</td>\n",
       "      <td>Yes</td>\n",
       "      <td>New</td>\n",
       "      <td>USD</td>\n",
       "      <td>2017-03-30T06:00:00Z,2017-03-10T22:00:00Z,2017...</td>\n",
       "      <td>False</td>\n",
       "      <td>Bestbuy.com</td>\n",
       "      <td>NaN</td>\n",
       "      <td>...</td>\n",
       "      <td>NaN</td>\n",
       "      <td>https://images-na.ssl-images-amazon.com/images...</td>\n",
       "      <td>sanusvlf410b110inchsuperslimfullmotionmountfor...</td>\n",
       "      <td>NaN</td>\n",
       "      <td>VLF410B1</td>\n",
       "      <td>Sanus VLF410B1 10-Inch Super Slim Full-Motion ...</td>\n",
       "      <td>Electronics</td>\n",
       "      <td>https://www.amazon.com/Sanus-VLF410B1-10-Inch-...</td>\n",
       "      <td>7.94E+11</td>\n",
       "      <td>32.8 pounds</td>\n",
       "    </tr>\n",
       "    <tr>\n",
       "      <th>1</th>\n",
       "      <td>AVpgMuGwLJeJML43KY_c</td>\n",
       "      <td>69.00</td>\n",
       "      <td>64.99</td>\n",
       "      <td>In Stock</td>\n",
       "      <td>New</td>\n",
       "      <td>USD</td>\n",
       "      <td>2017-12-14T06:00:00Z</td>\n",
       "      <td>True</td>\n",
       "      <td>Walmart.com</td>\n",
       "      <td>Expedited</td>\n",
       "      <td>...</td>\n",
       "      <td>NaN</td>\n",
       "      <td>https://images-na.ssl-images-amazon.com/images...</td>\n",
       "      <td>boytone2500w21chhometheatersystemblackdiamond/...</td>\n",
       "      <td>Boytone</td>\n",
       "      <td>BT-210F</td>\n",
       "      <td>Boytone - 2500W 2.1-Ch. Home Theater System - ...</td>\n",
       "      <td>Electronics</td>\n",
       "      <td>http://reviews.bestbuy.com/3545/4784804/review...</td>\n",
       "      <td>6.42E+11</td>\n",
       "      <td>14 pounds</td>\n",
       "    </tr>\n",
       "    <tr>\n",
       "      <th>2</th>\n",
       "      <td>AVpgMuGwLJeJML43KY_c</td>\n",
       "      <td>69.00</td>\n",
       "      <td>69.00</td>\n",
       "      <td>In Stock</td>\n",
       "      <td>New</td>\n",
       "      <td>USD</td>\n",
       "      <td>2017-09-08T05:00:00Z</td>\n",
       "      <td>False</td>\n",
       "      <td>Walmart.com</td>\n",
       "      <td>Expedited</td>\n",
       "      <td>...</td>\n",
       "      <td>NaN</td>\n",
       "      <td>https://images-na.ssl-images-amazon.com/images...</td>\n",
       "      <td>boytone2500w21chhometheatersystemblackdiamond/...</td>\n",
       "      <td>Boytone</td>\n",
       "      <td>BT-210F</td>\n",
       "      <td>Boytone - 2500W 2.1-Ch. Home Theater System - ...</td>\n",
       "      <td>Electronics</td>\n",
       "      <td>http://reviews.bestbuy.com/3545/4784804/review...</td>\n",
       "      <td>6.42E+11</td>\n",
       "      <td>14 pounds</td>\n",
       "    </tr>\n",
       "    <tr>\n",
       "      <th>3</th>\n",
       "      <td>AVpgMuGwLJeJML43KY_c</td>\n",
       "      <td>69.99</td>\n",
       "      <td>69.99</td>\n",
       "      <td>Yes</td>\n",
       "      <td>New</td>\n",
       "      <td>USD</td>\n",
       "      <td>2017-10-10T05:00:00Z</td>\n",
       "      <td>False</td>\n",
       "      <td>Bestbuy.com</td>\n",
       "      <td>NaN</td>\n",
       "      <td>...</td>\n",
       "      <td>NaN</td>\n",
       "      <td>https://images-na.ssl-images-amazon.com/images...</td>\n",
       "      <td>boytone2500w21chhometheatersystemblackdiamond/...</td>\n",
       "      <td>Boytone</td>\n",
       "      <td>BT-210F</td>\n",
       "      <td>Boytone - 2500W 2.1-Ch. Home Theater System - ...</td>\n",
       "      <td>Electronics</td>\n",
       "      <td>http://reviews.bestbuy.com/3545/4784804/review...</td>\n",
       "      <td>6.42E+11</td>\n",
       "      <td>14 pounds</td>\n",
       "    </tr>\n",
       "    <tr>\n",
       "      <th>4</th>\n",
       "      <td>AVpgMuGwLJeJML43KY_c</td>\n",
       "      <td>66.99</td>\n",
       "      <td>66.99</td>\n",
       "      <td>Yes</td>\n",
       "      <td>New</td>\n",
       "      <td>USD</td>\n",
       "      <td>2017-08-28T07:00:00Z</td>\n",
       "      <td>False</td>\n",
       "      <td>Bestbuy.com</td>\n",
       "      <td>NaN</td>\n",
       "      <td>...</td>\n",
       "      <td>NaN</td>\n",
       "      <td>https://images-na.ssl-images-amazon.com/images...</td>\n",
       "      <td>boytone2500w21chhometheatersystemblackdiamond/...</td>\n",
       "      <td>Boytone</td>\n",
       "      <td>BT-210F</td>\n",
       "      <td>Boytone - 2500W 2.1-Ch. Home Theater System - ...</td>\n",
       "      <td>Electronics</td>\n",
       "      <td>http://reviews.bestbuy.com/3545/4784804/review...</td>\n",
       "      <td>6.42E+11</td>\n",
       "      <td>14 pounds</td>\n",
       "    </tr>\n",
       "  </tbody>\n",
       "</table>\n",
       "<p>5 rows × 26 columns</p>\n",
       "</div>"
      ],
      "text/plain": [
       "                     id  prices.amountMax  prices.amountMin  \\\n",
       "0  AVphzgbJLJeJML43fA0o            104.99            104.99   \n",
       "1  AVpgMuGwLJeJML43KY_c             69.00             64.99   \n",
       "2  AVpgMuGwLJeJML43KY_c             69.00             69.00   \n",
       "3  AVpgMuGwLJeJML43KY_c             69.99             69.99   \n",
       "4  AVpgMuGwLJeJML43KY_c             66.99             66.99   \n",
       "\n",
       "  prices.availability prices.condition prices.currency  \\\n",
       "0                 Yes              New             USD   \n",
       "1            In Stock              New             USD   \n",
       "2            In Stock              New             USD   \n",
       "3                 Yes              New             USD   \n",
       "4                 Yes              New             USD   \n",
       "\n",
       "                                     prices.dateSeen  prices.isSale  \\\n",
       "0  2017-03-30T06:00:00Z,2017-03-10T22:00:00Z,2017...          False   \n",
       "1                               2017-12-14T06:00:00Z           True   \n",
       "2                               2017-09-08T05:00:00Z          False   \n",
       "3                               2017-10-10T05:00:00Z          False   \n",
       "4                               2017-08-28T07:00:00Z          False   \n",
       "\n",
       "  prices.merchant prices.shipping  ...  ean  \\\n",
       "0     Bestbuy.com             NaN  ...  NaN   \n",
       "1     Walmart.com       Expedited  ...  NaN   \n",
       "2     Walmart.com       Expedited  ...  NaN   \n",
       "3     Bestbuy.com             NaN  ...  NaN   \n",
       "4     Bestbuy.com             NaN  ...  NaN   \n",
       "\n",
       "                                           imageURLs  \\\n",
       "0  https://images-na.ssl-images-amazon.com/images...   \n",
       "1  https://images-na.ssl-images-amazon.com/images...   \n",
       "2  https://images-na.ssl-images-amazon.com/images...   \n",
       "3  https://images-na.ssl-images-amazon.com/images...   \n",
       "4  https://images-na.ssl-images-amazon.com/images...   \n",
       "\n",
       "                                                keys manufacturer  \\\n",
       "0  sanusvlf410b110inchsuperslimfullmotionmountfor...          NaN   \n",
       "1  boytone2500w21chhometheatersystemblackdiamond/...      Boytone   \n",
       "2  boytone2500w21chhometheatersystemblackdiamond/...      Boytone   \n",
       "3  boytone2500w21chhometheatersystemblackdiamond/...      Boytone   \n",
       "4  boytone2500w21chhometheatersystemblackdiamond/...      Boytone   \n",
       "\n",
       "  manufacturerNumber                                               name  \\\n",
       "0           VLF410B1  Sanus VLF410B1 10-Inch Super Slim Full-Motion ...   \n",
       "1            BT-210F  Boytone - 2500W 2.1-Ch. Home Theater System - ...   \n",
       "2            BT-210F  Boytone - 2500W 2.1-Ch. Home Theater System - ...   \n",
       "3            BT-210F  Boytone - 2500W 2.1-Ch. Home Theater System - ...   \n",
       "4            BT-210F  Boytone - 2500W 2.1-Ch. Home Theater System - ...   \n",
       "\n",
       "  primaryCategories                                         sourceURLs  \\\n",
       "0       Electronics  https://www.amazon.com/Sanus-VLF410B1-10-Inch-...   \n",
       "1       Electronics  http://reviews.bestbuy.com/3545/4784804/review...   \n",
       "2       Electronics  http://reviews.bestbuy.com/3545/4784804/review...   \n",
       "3       Electronics  http://reviews.bestbuy.com/3545/4784804/review...   \n",
       "4       Electronics  http://reviews.bestbuy.com/3545/4784804/review...   \n",
       "\n",
       "        upc       weight  \n",
       "0  7.94E+11  32.8 pounds  \n",
       "1  6.42E+11    14 pounds  \n",
       "2  6.42E+11    14 pounds  \n",
       "3  6.42E+11    14 pounds  \n",
       "4  6.42E+11    14 pounds  \n",
       "\n",
       "[5 rows x 26 columns]"
      ]
     },
     "execution_count": 3,
     "metadata": {},
     "output_type": "execute_result"
    }
   ],
   "source": [
    "ecom_data.head()"
   ]
  },
  {
   "cell_type": "code",
   "execution_count": 4,
   "metadata": {
    "ExecuteTime": {
     "end_time": "2019-12-11T04:57:37.095129Z",
     "start_time": "2019-12-11T04:57:37.062186Z"
    },
    "scrolled": false
   },
   "outputs": [
    {
     "name": "stdout",
     "output_type": "stream",
     "text": [
      "<class 'pandas.core.frame.DataFrame'>\n",
      "RangeIndex: 7249 entries, 0 to 7248\n",
      "Data columns (total 26 columns):\n",
      "id                     7249 non-null object\n",
      "prices.amountMax       7249 non-null float64\n",
      "prices.amountMin       7249 non-null float64\n",
      "prices.availability    7249 non-null object\n",
      "prices.condition       7249 non-null object\n",
      "prices.currency        7249 non-null object\n",
      "prices.dateSeen        7249 non-null object\n",
      "prices.isSale          7249 non-null bool\n",
      "prices.merchant        7249 non-null object\n",
      "prices.shipping        4277 non-null object\n",
      "prices.sourceURLs      7249 non-null object\n",
      "asins                  7249 non-null object\n",
      "brand                  7249 non-null object\n",
      "categories             7249 non-null object\n",
      "dateAdded              7249 non-null object\n",
      "dateUpdated            7249 non-null object\n",
      "ean                    1543 non-null object\n",
      "imageURLs              7249 non-null object\n",
      "keys                   7249 non-null object\n",
      "manufacturer           3235 non-null object\n",
      "manufacturerNumber     7249 non-null object\n",
      "name                   7249 non-null object\n",
      "primaryCategories      7249 non-null object\n",
      "sourceURLs             7249 non-null object\n",
      "upc                    7249 non-null object\n",
      "weight                 7249 non-null object\n",
      "dtypes: bool(1), float64(2), object(23)\n",
      "memory usage: 1.4+ MB\n"
     ]
    }
   ],
   "source": [
    "#Summarize the dataset\n",
    "# Provides the number of rows and columns in a dataset. There are 26 columns in ecom_data dataset and a total of 7249 records.\n",
    "ecom_data.info()"
   ]
  },
  {
   "cell_type": "markdown",
   "metadata": {},
   "source": [
    "EAN - The EAN codes for this product. There may be more than one EAN in the list when a product has multiple variations,\n",
    "each using a different EAN.\n",
    "> we can drop the column since there will be no impact on the data modeling."
   ]
  },
  {
   "cell_type": "code",
   "execution_count": 5,
   "metadata": {
    "ExecuteTime": {
     "end_time": "2019-12-11T04:57:37.104072Z",
     "start_time": "2019-12-11T04:57:37.098089Z"
    }
   },
   "outputs": [
    {
     "name": "stdout",
     "output_type": "stream",
     "text": [
      "(7249, 26)\n"
     ]
    }
   ],
   "source": [
    "print(ecom_data.shape)"
   ]
  },
  {
   "cell_type": "code",
   "execution_count": 6,
   "metadata": {
    "ExecuteTime": {
     "end_time": "2019-12-11T04:57:37.150948Z",
     "start_time": "2019-12-11T04:57:37.110058Z"
    }
   },
   "outputs": [
    {
     "data": {
      "text/html": [
       "<div>\n",
       "<style scoped>\n",
       "    .dataframe tbody tr th:only-of-type {\n",
       "        vertical-align: middle;\n",
       "    }\n",
       "\n",
       "    .dataframe tbody tr th {\n",
       "        vertical-align: top;\n",
       "    }\n",
       "\n",
       "    .dataframe thead th {\n",
       "        text-align: right;\n",
       "    }\n",
       "</style>\n",
       "<table border=\"1\" class=\"dataframe\">\n",
       "  <thead>\n",
       "    <tr style=\"text-align: right;\">\n",
       "      <th></th>\n",
       "      <th>prices.amountMax</th>\n",
       "      <th>prices.amountMin</th>\n",
       "    </tr>\n",
       "  </thead>\n",
       "  <tbody>\n",
       "    <tr>\n",
       "      <th>count</th>\n",
       "      <td>7249.000000</td>\n",
       "      <td>7249.000000</td>\n",
       "    </tr>\n",
       "    <tr>\n",
       "      <th>mean</th>\n",
       "      <td>495.530610</td>\n",
       "      <td>463.963005</td>\n",
       "    </tr>\n",
       "    <tr>\n",
       "      <th>std</th>\n",
       "      <td>763.599387</td>\n",
       "      <td>680.504507</td>\n",
       "    </tr>\n",
       "    <tr>\n",
       "      <th>min</th>\n",
       "      <td>1.000000</td>\n",
       "      <td>1.000000</td>\n",
       "    </tr>\n",
       "    <tr>\n",
       "      <th>25%</th>\n",
       "      <td>79.990000</td>\n",
       "      <td>79.950000</td>\n",
       "    </tr>\n",
       "    <tr>\n",
       "      <th>50%</th>\n",
       "      <td>198.990000</td>\n",
       "      <td>189.990000</td>\n",
       "    </tr>\n",
       "    <tr>\n",
       "      <th>75%</th>\n",
       "      <td>494.990000</td>\n",
       "      <td>479.990000</td>\n",
       "    </tr>\n",
       "    <tr>\n",
       "      <th>max</th>\n",
       "      <td>6999.990000</td>\n",
       "      <td>5999.990000</td>\n",
       "    </tr>\n",
       "  </tbody>\n",
       "</table>\n",
       "</div>"
      ],
      "text/plain": [
       "       prices.amountMax  prices.amountMin\n",
       "count       7249.000000       7249.000000\n",
       "mean         495.530610        463.963005\n",
       "std          763.599387        680.504507\n",
       "min            1.000000          1.000000\n",
       "25%           79.990000         79.950000\n",
       "50%          198.990000        189.990000\n",
       "75%          494.990000        479.990000\n",
       "max         6999.990000       5999.990000"
      ]
     },
     "execution_count": 6,
     "metadata": {},
     "output_type": "execute_result"
    }
   ],
   "source": [
    "ecom_data.describe()"
   ]
  },
  {
   "cell_type": "code",
   "execution_count": 7,
   "metadata": {
    "ExecuteTime": {
     "end_time": "2019-12-11T04:57:37.180869Z",
     "start_time": "2019-12-11T04:57:37.156932Z"
    },
    "scrolled": false
   },
   "outputs": [
    {
     "data": {
      "text/plain": [
       "id                        0\n",
       "prices.amountMax          0\n",
       "prices.amountMin          0\n",
       "prices.availability       0\n",
       "prices.condition          0\n",
       "prices.currency           0\n",
       "prices.dateSeen           0\n",
       "prices.isSale             0\n",
       "prices.merchant           0\n",
       "prices.shipping        2972\n",
       "prices.sourceURLs         0\n",
       "asins                     0\n",
       "brand                     0\n",
       "categories                0\n",
       "dateAdded                 0\n",
       "dateUpdated               0\n",
       "ean                    5706\n",
       "imageURLs                 0\n",
       "keys                      0\n",
       "manufacturer           4014\n",
       "manufacturerNumber        0\n",
       "name                      0\n",
       "primaryCategories         0\n",
       "sourceURLs                0\n",
       "upc                       0\n",
       "weight                    0\n",
       "dtype: int64"
      ]
     },
     "execution_count": 7,
     "metadata": {},
     "output_type": "execute_result"
    }
   ],
   "source": [
    "ecom_data.isnull().sum()"
   ]
  },
  {
   "cell_type": "markdown",
   "metadata": {},
   "source": [
    "### Analysis to be done to determine if the missing value columns are to be included in further analysis or not.\n",
    "\n",
    "> as per the https://developer.datafiniti.co/docs/product-data-schema description, prices.shipping is The shipping terms associated with this price. and if we see, the values include \"FREE shipping\" "
   ]
  },
  {
   "cell_type": "code",
   "execution_count": 8,
   "metadata": {
    "ExecuteTime": {
     "end_time": "2019-12-11T04:57:37.544946Z",
     "start_time": "2019-12-11T04:57:37.185863Z"
    },
    "scrolled": true
   },
   "outputs": [
    {
     "data": {
      "image/png": "[encoded data removed]",
      "text/plain": [
       "<Figure size 576x288 with 2 Axes>"
      ]
     },
     "metadata": {
      "needs_background": "light"
     },
     "output_type": "display_data"
    }
   ],
   "source": [
    "plt.figure(figsize=(8,4))\n",
    "sns.heatmap(ecom_data.corr(),annot=True,cmap='cubehelix_r')\n",
    "plt.show()"
   ]
  },
  {
   "cell_type": "code",
   "execution_count": 9,
   "metadata": {
    "ExecuteTime": {
     "end_time": "2019-12-11T04:57:37.555899Z",
     "start_time": "2019-12-11T04:57:37.546895Z"
    }
   },
   "outputs": [],
   "source": [
    "ecom_data_new = ecom_data[['prices.amountMax','prices.amountMin','prices.condition','prices.isSale','prices.merchant','dateAdded','brand','manufacturer','name','primaryCategories']]"
   ]
  },
  {
   "cell_type": "code",
   "execution_count": 10,
   "metadata": {
    "ExecuteTime": {
     "end_time": "2019-12-11T04:57:37.591770Z",
     "start_time": "2019-12-11T04:57:37.558890Z"
    },
    "scrolled": false
   },
   "outputs": [
    {
     "data": {
      "text/html": [
       "<div>\n",
       "<style scoped>\n",
       "    .dataframe tbody tr th:only-of-type {\n",
       "        vertical-align: middle;\n",
       "    }\n",
       "\n",
       "    .dataframe tbody tr th {\n",
       "        vertical-align: top;\n",
       "    }\n",
       "\n",
       "    .dataframe thead th {\n",
       "        text-align: right;\n",
       "    }\n",
       "</style>\n",
       "<table border=\"1\" class=\"dataframe\">\n",
       "  <thead>\n",
       "    <tr style=\"text-align: right;\">\n",
       "      <th></th>\n",
       "      <th>prices.amountMax</th>\n",
       "      <th>prices.amountMin</th>\n",
       "      <th>prices.condition</th>\n",
       "      <th>prices.isSale</th>\n",
       "      <th>prices.merchant</th>\n",
       "      <th>dateAdded</th>\n",
       "      <th>brand</th>\n",
       "      <th>manufacturer</th>\n",
       "      <th>name</th>\n",
       "      <th>primaryCategories</th>\n",
       "    </tr>\n",
       "  </thead>\n",
       "  <tbody>\n",
       "    <tr>\n",
       "      <th>0</th>\n",
       "      <td>104.99</td>\n",
       "      <td>104.99</td>\n",
       "      <td>New</td>\n",
       "      <td>False</td>\n",
       "      <td>Bestbuy.com</td>\n",
       "      <td>2015-04-13T12:00:51Z</td>\n",
       "      <td>Sanus</td>\n",
       "      <td>NaN</td>\n",
       "      <td>Sanus VLF410B1 10-Inch Super Slim Full-Motion ...</td>\n",
       "      <td>Electronics</td>\n",
       "    </tr>\n",
       "    <tr>\n",
       "      <th>1</th>\n",
       "      <td>69.00</td>\n",
       "      <td>64.99</td>\n",
       "      <td>New</td>\n",
       "      <td>True</td>\n",
       "      <td>Walmart.com</td>\n",
       "      <td>2015-05-18T14:14:56Z</td>\n",
       "      <td>Boytone</td>\n",
       "      <td>Boytone</td>\n",
       "      <td>Boytone - 2500W 2.1-Ch. Home Theater System - ...</td>\n",
       "      <td>Electronics</td>\n",
       "    </tr>\n",
       "    <tr>\n",
       "      <th>2</th>\n",
       "      <td>69.00</td>\n",
       "      <td>69.00</td>\n",
       "      <td>New</td>\n",
       "      <td>False</td>\n",
       "      <td>Walmart.com</td>\n",
       "      <td>2015-05-18T14:14:56Z</td>\n",
       "      <td>Boytone</td>\n",
       "      <td>Boytone</td>\n",
       "      <td>Boytone - 2500W 2.1-Ch. Home Theater System - ...</td>\n",
       "      <td>Electronics</td>\n",
       "    </tr>\n",
       "    <tr>\n",
       "      <th>3</th>\n",
       "      <td>69.99</td>\n",
       "      <td>69.99</td>\n",
       "      <td>New</td>\n",
       "      <td>False</td>\n",
       "      <td>Bestbuy.com</td>\n",
       "      <td>2015-05-18T14:14:56Z</td>\n",
       "      <td>Boytone</td>\n",
       "      <td>Boytone</td>\n",
       "      <td>Boytone - 2500W 2.1-Ch. Home Theater System - ...</td>\n",
       "      <td>Electronics</td>\n",
       "    </tr>\n",
       "    <tr>\n",
       "      <th>4</th>\n",
       "      <td>66.99</td>\n",
       "      <td>66.99</td>\n",
       "      <td>New</td>\n",
       "      <td>False</td>\n",
       "      <td>Bestbuy.com</td>\n",
       "      <td>2015-05-18T14:14:56Z</td>\n",
       "      <td>Boytone</td>\n",
       "      <td>Boytone</td>\n",
       "      <td>Boytone - 2500W 2.1-Ch. Home Theater System - ...</td>\n",
       "      <td>Electronics</td>\n",
       "    </tr>\n",
       "  </tbody>\n",
       "</table>\n",
       "</div>"
      ],
      "text/plain": [
       "   prices.amountMax  prices.amountMin prices.condition  prices.isSale  \\\n",
       "0            104.99            104.99              New          False   \n",
       "1             69.00             64.99              New           True   \n",
       "2             69.00             69.00              New          False   \n",
       "3             69.99             69.99              New          False   \n",
       "4             66.99             66.99              New          False   \n",
       "\n",
       "  prices.merchant             dateAdded    brand manufacturer  \\\n",
       "0     Bestbuy.com  2015-04-13T12:00:51Z    Sanus          NaN   \n",
       "1     Walmart.com  2015-05-18T14:14:56Z  Boytone      Boytone   \n",
       "2     Walmart.com  2015-05-18T14:14:56Z  Boytone      Boytone   \n",
       "3     Bestbuy.com  2015-05-18T14:14:56Z  Boytone      Boytone   \n",
       "4     Bestbuy.com  2015-05-18T14:14:56Z  Boytone      Boytone   \n",
       "\n",
       "                                                name primaryCategories  \n",
       "0  Sanus VLF410B1 10-Inch Super Slim Full-Motion ...       Electronics  \n",
       "1  Boytone - 2500W 2.1-Ch. Home Theater System - ...       Electronics  \n",
       "2  Boytone - 2500W 2.1-Ch. Home Theater System - ...       Electronics  \n",
       "3  Boytone - 2500W 2.1-Ch. Home Theater System - ...       Electronics  \n",
       "4  Boytone - 2500W 2.1-Ch. Home Theater System - ...       Electronics  "
      ]
     },
     "execution_count": 10,
     "metadata": {},
     "output_type": "execute_result"
    }
   ],
   "source": [
    "ecom_data_new.head()"
   ]
  },
  {
   "cell_type": "code",
   "execution_count": 11,
   "metadata": {
    "ExecuteTime": {
     "end_time": "2019-12-11T04:57:37.729401Z",
     "start_time": "2019-12-11T04:57:37.595760Z"
    },
    "scrolled": false
   },
   "outputs": [
    {
     "name": "stdout",
     "output_type": "stream",
     "text": [
      "<class 'pandas.core.frame.DataFrame'>\n",
      "RangeIndex: 7249 entries, 0 to 7248\n",
      "Data columns (total 10 columns):\n",
      "prices.amountMax     7249 non-null float64\n",
      "prices.amountMin     7249 non-null float64\n",
      "prices.condition     7249 non-null object\n",
      "prices.isSale        7249 non-null bool\n",
      "prices.merchant      7249 non-null object\n",
      "dateAdded            7249 non-null object\n",
      "brand                7249 non-null object\n",
      "manufacturer         3235 non-null object\n",
      "name                 7249 non-null object\n",
      "primaryCategories    7249 non-null object\n",
      "dtypes: bool(1), float64(2), object(7)\n",
      "memory usage: 516.9+ KB\n"
     ]
    },
    {
     "data": {
      "text/html": [
       "<div>\n",
       "<style scoped>\n",
       "    .dataframe tbody tr th:only-of-type {\n",
       "        vertical-align: middle;\n",
       "    }\n",
       "\n",
       "    .dataframe tbody tr th {\n",
       "        vertical-align: top;\n",
       "    }\n",
       "\n",
       "    .dataframe thead th {\n",
       "        text-align: right;\n",
       "    }\n",
       "</style>\n",
       "<table border=\"1\" class=\"dataframe\">\n",
       "  <thead>\n",
       "    <tr style=\"text-align: right;\">\n",
       "      <th></th>\n",
       "      <th>prices.amountMax</th>\n",
       "      <th>prices.amountMin</th>\n",
       "      <th>prices.condition</th>\n",
       "      <th>prices.isSale</th>\n",
       "      <th>prices.merchant</th>\n",
       "      <th>dateAdded</th>\n",
       "      <th>brand</th>\n",
       "      <th>manufacturer</th>\n",
       "      <th>name</th>\n",
       "      <th>primaryCategories</th>\n",
       "    </tr>\n",
       "  </thead>\n",
       "  <tbody>\n",
       "    <tr>\n",
       "      <th>0</th>\n",
       "      <td>104.99</td>\n",
       "      <td>104.99</td>\n",
       "      <td>New</td>\n",
       "      <td>False</td>\n",
       "      <td>Bestbuy.com</td>\n",
       "      <td>2015-04</td>\n",
       "      <td>Sanus</td>\n",
       "      <td>NaN</td>\n",
       "      <td>Sanus VLF410B1 10-Inch Super Slim Full-Motion ...</td>\n",
       "      <td>Electronics</td>\n",
       "    </tr>\n",
       "    <tr>\n",
       "      <th>1</th>\n",
       "      <td>69.00</td>\n",
       "      <td>64.99</td>\n",
       "      <td>New</td>\n",
       "      <td>True</td>\n",
       "      <td>Walmart.com</td>\n",
       "      <td>2015-05</td>\n",
       "      <td>Boytone</td>\n",
       "      <td>Boytone</td>\n",
       "      <td>Boytone - 2500W 2.1-Ch. Home Theater System - ...</td>\n",
       "      <td>Electronics</td>\n",
       "    </tr>\n",
       "    <tr>\n",
       "      <th>2</th>\n",
       "      <td>69.00</td>\n",
       "      <td>69.00</td>\n",
       "      <td>New</td>\n",
       "      <td>False</td>\n",
       "      <td>Walmart.com</td>\n",
       "      <td>2015-05</td>\n",
       "      <td>Boytone</td>\n",
       "      <td>Boytone</td>\n",
       "      <td>Boytone - 2500W 2.1-Ch. Home Theater System - ...</td>\n",
       "      <td>Electronics</td>\n",
       "    </tr>\n",
       "    <tr>\n",
       "      <th>3</th>\n",
       "      <td>69.99</td>\n",
       "      <td>69.99</td>\n",
       "      <td>New</td>\n",
       "      <td>False</td>\n",
       "      <td>Bestbuy.com</td>\n",
       "      <td>2015-05</td>\n",
       "      <td>Boytone</td>\n",
       "      <td>Boytone</td>\n",
       "      <td>Boytone - 2500W 2.1-Ch. Home Theater System - ...</td>\n",
       "      <td>Electronics</td>\n",
       "    </tr>\n",
       "    <tr>\n",
       "      <th>4</th>\n",
       "      <td>66.99</td>\n",
       "      <td>66.99</td>\n",
       "      <td>New</td>\n",
       "      <td>False</td>\n",
       "      <td>Bestbuy.com</td>\n",
       "      <td>2015-05</td>\n",
       "      <td>Boytone</td>\n",
       "      <td>Boytone</td>\n",
       "      <td>Boytone - 2500W 2.1-Ch. Home Theater System - ...</td>\n",
       "      <td>Electronics</td>\n",
       "    </tr>\n",
       "  </tbody>\n",
       "</table>\n",
       "</div>"
      ],
      "text/plain": [
       "   prices.amountMax  prices.amountMin prices.condition  prices.isSale  \\\n",
       "0            104.99            104.99              New          False   \n",
       "1             69.00             64.99              New           True   \n",
       "2             69.00             69.00              New          False   \n",
       "3             69.99             69.99              New          False   \n",
       "4             66.99             66.99              New          False   \n",
       "\n",
       "  prices.merchant dateAdded    brand manufacturer  \\\n",
       "0     Bestbuy.com   2015-04    Sanus          NaN   \n",
       "1     Walmart.com   2015-05  Boytone      Boytone   \n",
       "2     Walmart.com   2015-05  Boytone      Boytone   \n",
       "3     Bestbuy.com   2015-05  Boytone      Boytone   \n",
       "4     Bestbuy.com   2015-05  Boytone      Boytone   \n",
       "\n",
       "                                                name primaryCategories  \n",
       "0  Sanus VLF410B1 10-Inch Super Slim Full-Motion ...       Electronics  \n",
       "1  Boytone - 2500W 2.1-Ch. Home Theater System - ...       Electronics  \n",
       "2  Boytone - 2500W 2.1-Ch. Home Theater System - ...       Electronics  \n",
       "3  Boytone - 2500W 2.1-Ch. Home Theater System - ...       Electronics  \n",
       "4  Boytone - 2500W 2.1-Ch. Home Theater System - ...       Electronics  "
      ]
     },
     "execution_count": 11,
     "metadata": {},
     "output_type": "execute_result"
    }
   ],
   "source": [
    "ecom_data_new.info()\n",
    "\n",
    "def removeAfterComma(string):\n",
    "    \"\"\"\n",
    "    input is a string \n",
    "    output is a string with everything after comma removed\n",
    "    \"\"\"\n",
    "    return string.split('T')[0].strip()\n",
    "ecom_data_new.dateAdded = ecom_data_new.dateAdded.apply(removeAfterComma)\n",
    "ecom_data_new.head()\n",
    "\n",
    "#Reference ataken from \n",
    "#https://stackoverflow.com/questions/36300158/python-split-text-after-the-second-occurrence-of-character\n",
    "def hyphen_split(a):\n",
    "    if a.count(\"-\") == 1:\n",
    "        return a.split(\"-\")[0]\n",
    "    else:\n",
    "        return \"-\".join(a.split(\"-\", 2)[:2])\n",
    "    \n",
    "ecom_data_new.dateAdded = ecom_data_new.dateAdded.apply(hyphen_split)\n",
    "ecom_data_new.head()"
   ]
  },
  {
   "cell_type": "code",
   "execution_count": 12,
   "metadata": {
    "ExecuteTime": {
     "end_time": "2019-12-11T04:57:37.745358Z",
     "start_time": "2019-12-11T04:57:37.732394Z"
    },
    "scrolled": true
   },
   "outputs": [
    {
     "data": {
      "text/plain": [
       "prices.amountMax        0\n",
       "prices.amountMin        0\n",
       "prices.condition        0\n",
       "prices.isSale           0\n",
       "prices.merchant         0\n",
       "dateAdded               0\n",
       "brand                   0\n",
       "manufacturer         4014\n",
       "name                    0\n",
       "primaryCategories       0\n",
       "dtype: int64"
      ]
     },
     "execution_count": 12,
     "metadata": {},
     "output_type": "execute_result"
    }
   ],
   "source": [
    "ecom_data_new.isnull().sum()\n",
    "# Since manufacturer and brand are the same, we can remove the manufacturer column"
   ]
  },
  {
   "cell_type": "code",
   "execution_count": 13,
   "metadata": {
    "ExecuteTime": {
     "end_time": "2019-12-11T04:57:37.761320Z",
     "start_time": "2019-12-11T04:57:37.748420Z"
    }
   },
   "outputs": [],
   "source": [
    "ecom_data_new = ecom_data_new.drop(['manufacturer'], axis=1)"
   ]
  },
  {
   "cell_type": "markdown",
   "metadata": {},
   "source": [
    "> We will be converting the columns values price.condition and price.isSale from string to boolean value 1 for True and 0 for False for easy manipulations and calculations"
   ]
  },
  {
   "cell_type": "code",
   "execution_count": 14,
   "metadata": {
    "ExecuteTime": {
     "end_time": "2019-12-11T04:57:37.791239Z",
     "start_time": "2019-12-11T04:57:37.764308Z"
    },
    "scrolled": false
   },
   "outputs": [
    {
     "data": {
      "text/plain": [
       "prices.merchant\n",
       "Bestbuy.com                             2806\n",
       "bhphotovideo.com                        1509\n",
       "Walmart.com                              664\n",
       "Beach Camera                             201\n",
       "AMI Ventures Inc                          63\n",
       "buydig                                    53\n",
       "Focus Camera                              48\n",
       "gear4less                                 43\n",
       "echo-and-optics                           40\n",
       "Beach Audio Inc                           39\n",
       "Best Buy                                  38\n",
       "UnbeatableSale                            33\n",
       "DealClock                                 32\n",
       "electronic_express                        28\n",
       "World Wide Stereo                         28\n",
       "BuyVPC                                    27\n",
       "Electronics Expo (Authorized Dealer)      26\n",
       "Car Audio Closeout                        24\n",
       "Video & Audio Center                      19\n",
       "OneCall                                   18\n",
       "Electronic Express                        17\n",
       "wwstereo                                  16\n",
       "Dell.com                                  15\n",
       "The Pixel Hub                             15\n",
       "OutletPC                                  15\n",
       "antonline.com                             14\n",
       "DemProductSales                           14\n",
       "Newegg                                    13\n",
       "outletmp3                                 12\n",
       "Wholesale Connection                      12\n",
       "                                        ... \n",
       "discountparts99                            1\n",
       "discountcentralonline                      1\n",
       "directnetshopdeal                          1\n",
       "dinsdale-usa                               1\n",
       "dieg5651_8xrznj2zi                         1\n",
       "ewholesale2011                             1\n",
       "designerentrywayllc                        1\n",
       "dependix                                   1\n",
       "department75                               1\n",
       "delanodynasty                              1\n",
       "deals-all-year                             1\n",
       "daylighttechnologies                       1\n",
       "dmite30                                    1\n",
       "doitjust4fun                               1\n",
       "dr.pepper357                               1\n",
       "dream-seller                               1\n",
       "duck1648                                   1\n",
       "e-shopsave                                 1\n",
       "eGoodies                                   1\n",
       "eco-keeper7                                1\n",
       "edc-73                                     1\n",
       "efesales                                   1\n",
       "einfinityshop4                             1\n",
       "ejuky                                      1\n",
       "electric-flight-sales                      1\n",
       "elfxpress                                  1\n",
       "emeraldpg                                  1\n",
       "eternalphoto                               1\n",
       "evolving-technologies                      1\n",
       "1 Stop Electronics Center, Inc.            1\n",
       "Length: 693, dtype: int64"
      ]
     },
     "execution_count": 14,
     "metadata": {},
     "output_type": "execute_result"
    }
   ],
   "source": [
    "ecom_data_new.groupby('prices.merchant').size()\n",
    "# By sorting the data we can find the sources from which customers by most of the item and hearby removing the onces that wont impact our model.\n",
    "ecom_data_new.groupby('prices.merchant').size().sort_values(ascending=False)"
   ]
  },
  {
   "cell_type": "code",
   "execution_count": 15,
   "metadata": {
    "ExecuteTime": {
     "end_time": "2019-12-11T04:57:37.810186Z",
     "start_time": "2019-12-11T04:57:37.796225Z"
    }
   },
   "outputs": [],
   "source": [
    "output = ecom_data_new.groupby('prices.merchant').size().sort_values(ascending=False)"
   ]
  },
  {
   "cell_type": "code",
   "execution_count": 16,
   "metadata": {
    "ExecuteTime": {
     "end_time": "2019-12-11T04:57:37.834122Z",
     "start_time": "2019-12-11T04:57:37.815196Z"
    }
   },
   "outputs": [
    {
     "data": {
      "text/plain": [
       "prices.merchant\n",
       "Bestbuy.com                             2806\n",
       "bhphotovideo.com                        1509\n",
       "Walmart.com                              664\n",
       "Beach Camera                             201\n",
       "AMI Ventures Inc                          63\n",
       "buydig                                    53\n",
       "Focus Camera                              48\n",
       "gear4less                                 43\n",
       "echo-and-optics                           40\n",
       "Beach Audio Inc                           39\n",
       "Best Buy                                  38\n",
       "UnbeatableSale                            33\n",
       "DealClock                                 32\n",
       "electronic_express                        28\n",
       "World Wide Stereo                         28\n",
       "BuyVPC                                    27\n",
       "Electronics Expo (Authorized Dealer)      26\n",
       "Car Audio Closeout                        24\n",
       "Video & Audio Center                      19\n",
       "OneCall                                   18\n",
       "Electronic Express                        17\n",
       "wwstereo                                  16\n",
       "dtype: int64"
      ]
     },
     "execution_count": 16,
     "metadata": {},
     "output_type": "execute_result"
    }
   ],
   "source": [
    "threshold_output = output[output>15]\n",
    "threshold_output"
   ]
  },
  {
   "cell_type": "markdown",
   "metadata": {},
   "source": [
    "> We have taken the websites from where people have purchased more than 15 times as per the data present in the data frame"
   ]
  },
  {
   "cell_type": "code",
   "execution_count": 17,
   "metadata": {
    "ExecuteTime": {
     "end_time": "2019-12-11T04:57:37.852073Z",
     "start_time": "2019-12-11T04:57:37.839108Z"
    }
   },
   "outputs": [],
   "source": [
    "values = ['Bestbuy.com','bhphotovideo.com','Walmart.com,Beach Camera','AMI Ventures Inc','buydig','Focus Camera','gear4less','echo-and-optics','Beach Audio Inc','Best Buy','UnbeatableSale','DealClock','electronic_express','World Wide Stereo','BuyVPC','Electronics Expo (Authorized Dealer)','Car Audio Closeout','Video & Audio Center','OneCall','Electronic Express','wwstereo']"
   ]
  },
  {
   "cell_type": "code",
   "execution_count": 18,
   "metadata": {
    "ExecuteTime": {
     "end_time": "2019-12-11T04:57:37.875012Z",
     "start_time": "2019-12-11T04:57:37.863043Z"
    }
   },
   "outputs": [],
   "source": [
    "ecom_data_upd = ecom_data_new.loc[ecom_data_new['prices.merchant'].isin(values)]\n",
    "#ecom_data_upd['brand']"
   ]
  },
  {
   "cell_type": "markdown",
   "metadata": {},
   "source": [
    "In the above code, We took the values that we got from filtering out the purchase count having more than 15 for each website.\n",
    "<p>\n",
    "    Below we have replaced some column values to make the data clean and have distinct row values.\n"
   ]
  },
  {
   "cell_type": "code",
   "execution_count": 19,
   "metadata": {
    "ExecuteTime": {
     "end_time": "2019-12-11T04:57:37.945823Z",
     "start_time": "2019-12-11T04:57:37.881005Z"
    },
    "scrolled": false
   },
   "outputs": [
    {
     "data": {
      "text/plain": [
       "prices.merchant\n",
       "Bestbuy.com                             2844\n",
       "bhphotovideo.com                        1509\n",
       "AMI Ventures Inc                          63\n",
       "buydig                                    53\n",
       "Focus Camera                              48\n",
       "gear4less                                 43\n",
       "echo-and-optics                           40\n",
       "Beach Audio Inc                           39\n",
       "UnbeatableSale                            33\n",
       "DealClock                                 32\n",
       "electronic_express                        28\n",
       "World Wide Stereo                         28\n",
       "BuyVPC                                    27\n",
       "Electronics Expo (Authorized Dealer)      26\n",
       "Car Audio Closeout                        24\n",
       "Video & Audio Center                      19\n",
       "OneCall                                   18\n",
       "Electronic Express                        17\n",
       "wwstereo                                  16\n",
       "dtype: int64"
      ]
     },
     "execution_count": 19,
     "metadata": {},
     "output_type": "execute_result"
    }
   ],
   "source": [
    "ecom_data_upd[['prices.merchant']] = ecom_data_upd[['prices.merchant']].replace(['Best Buy'], ['Bestbuy.com'])\n",
    "ecom_data_upd.groupby('prices.merchant').size().sort_values(ascending=False)"
   ]
  },
  {
   "cell_type": "markdown",
   "metadata": {},
   "source": [
    "Performed some more data cleansing and manipulation below by replacing certain row values to a more generalized value."
   ]
  },
  {
   "cell_type": "code",
   "execution_count": 20,
   "metadata": {
    "ExecuteTime": {
     "end_time": "2019-12-11T04:57:38.299939Z",
     "start_time": "2019-12-11T04:57:37.950817Z"
    },
    "scrolled": false
   },
   "outputs": [
    {
     "name": "stdout",
     "output_type": "stream",
     "text": [
      "prices.condition\n",
      "New                         4143\n",
      "new                          665\n",
      "Used                          65\n",
      "New other (see details)       16\n",
      "Refurbished                   11\n",
      "pre-owned                      3\n",
      "refurbished                    2\n",
      "Manufacturer refurbished       2\n",
      "dtype: int64\n",
      "prices.isSale\n",
      "False    3755\n",
      "True     1152\n",
      "dtype: int64\n",
      "prices.condition\n",
      "New     4808\n",
      "Used      99\n",
      "dtype: int64\n",
      "<class 'pandas.core.frame.DataFrame'>\n",
      "Int64Index: 4907 entries, 0 to 7247\n",
      "Data columns (total 9 columns):\n",
      "prices.amountMax     4907 non-null float64\n",
      "prices.amountMin     4907 non-null float64\n",
      "prices.condition     4907 non-null object\n",
      "prices.isSale        4907 non-null object\n",
      "prices.merchant      4907 non-null object\n",
      "dateAdded            4907 non-null object\n",
      "brand                4907 non-null object\n",
      "name                 4907 non-null object\n",
      "primaryCategories    4907 non-null object\n",
      "dtypes: float64(2), object(7)\n",
      "memory usage: 383.4+ KB\n",
      "<class 'pandas.core.frame.DataFrame'>\n",
      "Int64Index: 4907 entries, 0 to 7247\n",
      "Data columns (total 8 columns):\n",
      "prices.amountMax     4907 non-null float64\n",
      "prices.amountMin     4907 non-null float64\n",
      "prices.merchant      4907 non-null object\n",
      "dateAdded            4907 non-null object\n",
      "brand                4907 non-null object\n",
      "name                 4907 non-null object\n",
      "primaryCategories    4907 non-null object\n",
      "cond_sale            4907 non-null object\n",
      "dtypes: float64(2), object(6)\n",
      "memory usage: 345.0+ KB\n"
     ]
    }
   ],
   "source": [
    "#print(ecom_data_upd[['prices.condition','prices.isSale']])\n",
    "print(ecom_data_upd.groupby('prices.condition').size().sort_values(ascending=False))\n",
    "print(ecom_data_upd.groupby('prices.isSale').size().sort_values(ascending=False))\n",
    "#change the values of the column to Used which are not new\n",
    "ecom_data_upd[['prices.condition']] = ecom_data_upd[['prices.condition']].replace(['new'], ['New'])\n",
    "ecom_data_upd[['prices.condition']] = ecom_data_upd[['prices.condition']].replace(['New other (see details)'], ['Used'])\n",
    "ecom_data_upd[['prices.condition']] = ecom_data_upd[['prices.condition']].replace(['Refurbished'], ['Used'])\n",
    "ecom_data_upd[['prices.condition']] = ecom_data_upd[['prices.condition']].replace(['pre-owned'], ['Used'])\n",
    "ecom_data_upd[['prices.condition']] = ecom_data_upd[['prices.condition']].replace(['refurbished'], ['Used'])\n",
    "ecom_data_upd[['prices.condition']] = ecom_data_upd[['prices.condition']].replace(['Manufacturer refurbished'], ['Used'])\n",
    "print(ecom_data_upd.groupby('prices.condition').size().sort_values(ascending=False))\n",
    "\n",
    "ecom_data_upd['prices.condition'] = ecom_data_upd['prices.condition'].astype(str)\n",
    "ecom_data_upd['prices.isSale'] = ecom_data_upd['prices.isSale'].astype(str)\n",
    "ecom_data_upd.info()\n",
    "ecom_data_upd['cond_sale'] = ecom_data_upd['prices.condition'] + '_' + ecom_data_upd['prices.isSale']\n",
    "#df['AllTogether'] = df['Country'].str.cat(df[['State', 'City']], sep=' - ')\n",
    "#ecom_data_upd['cond_sale'] = ecom_data_upd['prices.condition'].str.cat(ecom_data_upd['prices.isSale'].str, sep ='_')\n",
    "##print(ecom_data_upd['cond_sale'])\n",
    "ecom_data_upd = ecom_data_upd.drop(['prices.condition'], axis=1)\n",
    "ecom_data_upd = ecom_data_upd.drop(['prices.isSale'], axis=1)\n",
    "ecom_data_upd.info()"
   ]
  },
  {
   "cell_type": "code",
   "execution_count": 21,
   "metadata": {
    "ExecuteTime": {
     "end_time": "2019-12-11T04:58:40.019880Z",
     "start_time": "2019-12-11T04:57:38.302900Z"
    },
    "scrolled": false
   },
   "outputs": [
    {
     "data": {
      "image/png": "[encoded data removed]",
      "text/plain": [
       "<Figure size 720x288 with 1 Axes>"
      ]
     },
     "metadata": {
      "needs_background": "light"
     },
     "output_type": "display_data"
    },
    {
     "data": {
      "image/png": "[encoded data removed]",
      "text/plain": [
       "<Figure size 720x288 with 1 Axes>"
      ]
     },
     "metadata": {
      "needs_background": "light"
     },
     "output_type": "display_data"
    },
    {
     "data": {
      "image/png": "[encoded data removed]",
      "text/plain": [
       "<Figure size 720x288 with 1 Axes>"
      ]
     },
     "metadata": {
      "needs_background": "light"
     },
     "output_type": "display_data"
    },
    {
     "data": {
      "image/png": "[encoded data removed]",
      "text/plain": [
       "<Figure size 720x288 with 1 Axes>"
      ]
     },
     "metadata": {
      "needs_background": "light"
     },
     "output_type": "display_data"
    },
    {
     "data": {
      "image/png": "[encoded data removed]",
      "text/plain": [
       "<Figure size 720x288 with 1 Axes>"
      ]
     },
     "metadata": {
      "needs_background": "light"
     },
     "output_type": "display_data"
    },
    {
     "data": {
      "image/png": "[encoded data removed]",
      "text/plain": [
       "<Figure size 720x288 with 1 Axes>"
      ]
     },
     "metadata": {
      "needs_background": "light"
     },
     "output_type": "display_data"
    },
    {
     "data": {
      "image/png": "[encoded data removed]",
      "text/plain": [
       "<Figure size 720x288 with 1 Axes>"
      ]
     },
     "metadata": {
      "needs_background": "light"
     },
     "output_type": "display_data"
    },
    {
     "data": {
      "image/png": "[encoded data removed]",
      "text/plain": [
       "<Figure size 720x288 with 1 Axes>"
      ]
     },
     "metadata": {
      "needs_background": "light"
     },
     "output_type": "display_data"
    }
   ],
   "source": [
    "for col in ['prices.merchant']:\n",
    "    ecom_data_upd[col] = ecom_data_upd[col].astype('category')\n",
    "\n",
    "for col1 in ecom_data_upd:\n",
    "    plt.figure(figsize=(10,4))\n",
    "    sns.barplot(ecom_data_upd[col1].value_counts().values, ecom_data_upd[col1].value_counts().index)\n",
    "    plt.title(col1)\n",
    "    plt.tight_layout()\n",
    "    \n",
    "    "
   ]
  },
  {
   "cell_type": "markdown",
   "metadata": {
    "ExecuteTime": {
     "end_time": "2019-11-15T04:03:08.261584Z",
     "start_time": "2019-11-15T04:03:08.257593Z"
    }
   },
   "source": [
    "We can infer from the above graphs -\n",
    "<p> Pattern among the pricing that the companies do not provide discount on the most of the new products and provide ZERO discounts on the used products.\n",
    "<p> "
   ]
  },
  {
   "cell_type": "code",
   "execution_count": 22,
   "metadata": {
    "ExecuteTime": {
     "end_time": "2019-12-11T04:58:40.325031Z",
     "start_time": "2019-12-11T04:58:40.023872Z"
    },
    "scrolled": false
   },
   "outputs": [
    {
     "ename": "ValueError",
     "evalue": "invalid literal for int() with base 10: 'Bestbuy.com'",
     "output_type": "error",
     "traceback": [
      "\u001b[1;31m---------------------------------------------------------------------------\u001b[0m",
      "\u001b[1;31mValueError\u001b[0m                                Traceback (most recent call last)",
      "\u001b[1;32m<ipython-input-22-b9e9e8ba3642>\u001b[0m in \u001b[0;36m<module>\u001b[1;34m\u001b[0m\n\u001b[0;32m      1\u001b[0m \u001b[0mecom_data_upd\u001b[0m\u001b[1;33m.\u001b[0m\u001b[0mhead\u001b[0m\u001b[1;33m(\u001b[0m\u001b[1;36m10\u001b[0m\u001b[1;33m)\u001b[0m\u001b[1;33m\u001b[0m\u001b[1;33m\u001b[0m\u001b[0m\n\u001b[0;32m      2\u001b[0m \u001b[1;32mfor\u001b[0m \u001b[0mcol\u001b[0m \u001b[1;32min\u001b[0m \u001b[1;33m[\u001b[0m\u001b[1;34m'prices.merchant'\u001b[0m\u001b[1;33m]\u001b[0m\u001b[1;33m:\u001b[0m\u001b[1;33m\u001b[0m\u001b[1;33m\u001b[0m\u001b[0m\n\u001b[1;32m----> 3\u001b[1;33m     \u001b[0mecom_data_upd\u001b[0m\u001b[1;33m[\u001b[0m\u001b[0mcol\u001b[0m\u001b[1;33m]\u001b[0m \u001b[1;33m=\u001b[0m \u001b[0mecom_data_upd\u001b[0m\u001b[1;33m[\u001b[0m\u001b[0mcol\u001b[0m\u001b[1;33m]\u001b[0m\u001b[1;33m.\u001b[0m\u001b[0mastype\u001b[0m\u001b[1;33m(\u001b[0m\u001b[1;34m'int8'\u001b[0m\u001b[1;33m)\u001b[0m\u001b[1;33m\u001b[0m\u001b[1;33m\u001b[0m\u001b[0m\n\u001b[0m",
      "\u001b[1;32m~\\Anaconda3\\lib\\site-packages\\pandas\\core\\generic.py\u001b[0m in \u001b[0;36mastype\u001b[1;34m(self, dtype, copy, errors, **kwargs)\u001b[0m\n\u001b[0;32m   5689\u001b[0m             \u001b[1;31m# else, only a single dtype is given\u001b[0m\u001b[1;33m\u001b[0m\u001b[1;33m\u001b[0m\u001b[1;33m\u001b[0m\u001b[0m\n\u001b[0;32m   5690\u001b[0m             new_data = self._data.astype(dtype=dtype, copy=copy, errors=errors,\n\u001b[1;32m-> 5691\u001b[1;33m                                          **kwargs)\n\u001b[0m\u001b[0;32m   5692\u001b[0m             \u001b[1;32mreturn\u001b[0m \u001b[0mself\u001b[0m\u001b[1;33m.\u001b[0m\u001b[0m_constructor\u001b[0m\u001b[1;33m(\u001b[0m\u001b[0mnew_data\u001b[0m\u001b[1;33m)\u001b[0m\u001b[1;33m.\u001b[0m\u001b[0m__finalize__\u001b[0m\u001b[1;33m(\u001b[0m\u001b[0mself\u001b[0m\u001b[1;33m)\u001b[0m\u001b[1;33m\u001b[0m\u001b[1;33m\u001b[0m\u001b[0m\n\u001b[0;32m   5693\u001b[0m \u001b[1;33m\u001b[0m\u001b[0m\n",
      "\u001b[1;32m~\\Anaconda3\\lib\\site-packages\\pandas\\core\\internals\\managers.py\u001b[0m in \u001b[0;36mastype\u001b[1;34m(self, dtype, **kwargs)\u001b[0m\n\u001b[0;32m    529\u001b[0m \u001b[1;33m\u001b[0m\u001b[0m\n\u001b[0;32m    530\u001b[0m     \u001b[1;32mdef\u001b[0m \u001b[0mastype\u001b[0m\u001b[1;33m(\u001b[0m\u001b[0mself\u001b[0m\u001b[1;33m,\u001b[0m \u001b[0mdtype\u001b[0m\u001b[1;33m,\u001b[0m \u001b[1;33m**\u001b[0m\u001b[0mkwargs\u001b[0m\u001b[1;33m)\u001b[0m\u001b[1;33m:\u001b[0m\u001b[1;33m\u001b[0m\u001b[1;33m\u001b[0m\u001b[0m\n\u001b[1;32m--> 531\u001b[1;33m         \u001b[1;32mreturn\u001b[0m \u001b[0mself\u001b[0m\u001b[1;33m.\u001b[0m\u001b[0mapply\u001b[0m\u001b[1;33m(\u001b[0m\u001b[1;34m'astype'\u001b[0m\u001b[1;33m,\u001b[0m \u001b[0mdtype\u001b[0m\u001b[1;33m=\u001b[0m\u001b[0mdtype\u001b[0m\u001b[1;33m,\u001b[0m \u001b[1;33m**\u001b[0m\u001b[0mkwargs\u001b[0m\u001b[1;33m)\u001b[0m\u001b[1;33m\u001b[0m\u001b[1;33m\u001b[0m\u001b[0m\n\u001b[0m\u001b[0;32m    532\u001b[0m \u001b[1;33m\u001b[0m\u001b[0m\n\u001b[0;32m    533\u001b[0m     \u001b[1;32mdef\u001b[0m \u001b[0mconvert\u001b[0m\u001b[1;33m(\u001b[0m\u001b[0mself\u001b[0m\u001b[1;33m,\u001b[0m \u001b[1;33m**\u001b[0m\u001b[0mkwargs\u001b[0m\u001b[1;33m)\u001b[0m\u001b[1;33m:\u001b[0m\u001b[1;33m\u001b[0m\u001b[1;33m\u001b[0m\u001b[0m\n",
      "\u001b[1;32m~\\Anaconda3\\lib\\site-packages\\pandas\\core\\internals\\managers.py\u001b[0m in \u001b[0;36mapply\u001b[1;34m(self, f, axes, filter, do_integrity_check, consolidate, **kwargs)\u001b[0m\n\u001b[0;32m    393\u001b[0m                                             copy=align_copy)\n\u001b[0;32m    394\u001b[0m \u001b[1;33m\u001b[0m\u001b[0m\n\u001b[1;32m--> 395\u001b[1;33m             \u001b[0mapplied\u001b[0m \u001b[1;33m=\u001b[0m \u001b[0mgetattr\u001b[0m\u001b[1;33m(\u001b[0m\u001b[0mb\u001b[0m\u001b[1;33m,\u001b[0m \u001b[0mf\u001b[0m\u001b[1;33m)\u001b[0m\u001b[1;33m(\u001b[0m\u001b[1;33m**\u001b[0m\u001b[0mkwargs\u001b[0m\u001b[1;33m)\u001b[0m\u001b[1;33m\u001b[0m\u001b[1;33m\u001b[0m\u001b[0m\n\u001b[0m\u001b[0;32m    396\u001b[0m             \u001b[0mresult_blocks\u001b[0m \u001b[1;33m=\u001b[0m \u001b[0m_extend_blocks\u001b[0m\u001b[1;33m(\u001b[0m\u001b[0mapplied\u001b[0m\u001b[1;33m,\u001b[0m \u001b[0mresult_blocks\u001b[0m\u001b[1;33m)\u001b[0m\u001b[1;33m\u001b[0m\u001b[1;33m\u001b[0m\u001b[0m\n\u001b[0;32m    397\u001b[0m \u001b[1;33m\u001b[0m\u001b[0m\n",
      "\u001b[1;32m~\\Anaconda3\\lib\\site-packages\\pandas\\core\\internals\\blocks.py\u001b[0m in \u001b[0;36mastype\u001b[1;34m(self, dtype, copy, errors, values, **kwargs)\u001b[0m\n\u001b[0;32m    532\u001b[0m     \u001b[1;32mdef\u001b[0m \u001b[0mastype\u001b[0m\u001b[1;33m(\u001b[0m\u001b[0mself\u001b[0m\u001b[1;33m,\u001b[0m \u001b[0mdtype\u001b[0m\u001b[1;33m,\u001b[0m \u001b[0mcopy\u001b[0m\u001b[1;33m=\u001b[0m\u001b[1;32mFalse\u001b[0m\u001b[1;33m,\u001b[0m \u001b[0merrors\u001b[0m\u001b[1;33m=\u001b[0m\u001b[1;34m'raise'\u001b[0m\u001b[1;33m,\u001b[0m \u001b[0mvalues\u001b[0m\u001b[1;33m=\u001b[0m\u001b[1;32mNone\u001b[0m\u001b[1;33m,\u001b[0m \u001b[1;33m**\u001b[0m\u001b[0mkwargs\u001b[0m\u001b[1;33m)\u001b[0m\u001b[1;33m:\u001b[0m\u001b[1;33m\u001b[0m\u001b[1;33m\u001b[0m\u001b[0m\n\u001b[0;32m    533\u001b[0m         return self._astype(dtype, copy=copy, errors=errors, values=values,\n\u001b[1;32m--> 534\u001b[1;33m                             **kwargs)\n\u001b[0m\u001b[0;32m    535\u001b[0m \u001b[1;33m\u001b[0m\u001b[0m\n\u001b[0;32m    536\u001b[0m     def _astype(self, dtype, copy=False, errors='raise', values=None,\n",
      "\u001b[1;32m~\\Anaconda3\\lib\\site-packages\\pandas\\core\\internals\\blocks.py\u001b[0m in \u001b[0;36m_astype\u001b[1;34m(self, dtype, copy, errors, values, **kwargs)\u001b[0m\n\u001b[0;32m    614\u001b[0m \u001b[1;33m\u001b[0m\u001b[0m\n\u001b[0;32m    615\u001b[0m                 \u001b[1;32mif\u001b[0m \u001b[0mself\u001b[0m\u001b[1;33m.\u001b[0m\u001b[0mis_extension\u001b[0m\u001b[1;33m:\u001b[0m\u001b[1;33m\u001b[0m\u001b[1;33m\u001b[0m\u001b[0m\n\u001b[1;32m--> 616\u001b[1;33m                     \u001b[0mvalues\u001b[0m \u001b[1;33m=\u001b[0m \u001b[0mself\u001b[0m\u001b[1;33m.\u001b[0m\u001b[0mvalues\u001b[0m\u001b[1;33m.\u001b[0m\u001b[0mastype\u001b[0m\u001b[1;33m(\u001b[0m\u001b[0mdtype\u001b[0m\u001b[1;33m)\u001b[0m\u001b[1;33m\u001b[0m\u001b[1;33m\u001b[0m\u001b[0m\n\u001b[0m\u001b[0;32m    617\u001b[0m                 \u001b[1;32melse\u001b[0m\u001b[1;33m:\u001b[0m\u001b[1;33m\u001b[0m\u001b[1;33m\u001b[0m\u001b[0m\n\u001b[0;32m    618\u001b[0m                     if issubclass(dtype.type,\n",
      "\u001b[1;32m~\\Anaconda3\\lib\\site-packages\\pandas\\core\\arrays\\categorical.py\u001b[0m in \u001b[0;36mastype\u001b[1;34m(self, dtype, copy)\u001b[0m\n\u001b[0;32m    492\u001b[0m                 \u001b[1;32mreturn\u001b[0m \u001b[0mself\u001b[0m\u001b[1;33m\u001b[0m\u001b[1;33m\u001b[0m\u001b[0m\n\u001b[0;32m    493\u001b[0m             \u001b[1;32mreturn\u001b[0m \u001b[0mself\u001b[0m\u001b[1;33m.\u001b[0m\u001b[0m_set_dtype\u001b[0m\u001b[1;33m(\u001b[0m\u001b[0mdtype\u001b[0m\u001b[1;33m)\u001b[0m\u001b[1;33m\u001b[0m\u001b[1;33m\u001b[0m\u001b[0m\n\u001b[1;32m--> 494\u001b[1;33m         \u001b[1;32mreturn\u001b[0m \u001b[0mnp\u001b[0m\u001b[1;33m.\u001b[0m\u001b[0marray\u001b[0m\u001b[1;33m(\u001b[0m\u001b[0mself\u001b[0m\u001b[1;33m,\u001b[0m \u001b[0mdtype\u001b[0m\u001b[1;33m=\u001b[0m\u001b[0mdtype\u001b[0m\u001b[1;33m,\u001b[0m \u001b[0mcopy\u001b[0m\u001b[1;33m=\u001b[0m\u001b[0mcopy\u001b[0m\u001b[1;33m)\u001b[0m\u001b[1;33m\u001b[0m\u001b[1;33m\u001b[0m\u001b[0m\n\u001b[0m\u001b[0;32m    495\u001b[0m \u001b[1;33m\u001b[0m\u001b[0m\n\u001b[0;32m    496\u001b[0m     \u001b[1;33m@\u001b[0m\u001b[0mcache_readonly\u001b[0m\u001b[1;33m\u001b[0m\u001b[1;33m\u001b[0m\u001b[0m\n",
      "\u001b[1;32m~\\Anaconda3\\lib\\site-packages\\pandas\\core\\arrays\\categorical.py\u001b[0m in \u001b[0;36m__array__\u001b[1;34m(self, dtype)\u001b[0m\n\u001b[0;32m   1289\u001b[0m         \u001b[0mret\u001b[0m \u001b[1;33m=\u001b[0m \u001b[0mtake_1d\u001b[0m\u001b[1;33m(\u001b[0m\u001b[0mself\u001b[0m\u001b[1;33m.\u001b[0m\u001b[0mcategories\u001b[0m\u001b[1;33m.\u001b[0m\u001b[0mvalues\u001b[0m\u001b[1;33m,\u001b[0m \u001b[0mself\u001b[0m\u001b[1;33m.\u001b[0m\u001b[0m_codes\u001b[0m\u001b[1;33m)\u001b[0m\u001b[1;33m\u001b[0m\u001b[1;33m\u001b[0m\u001b[0m\n\u001b[0;32m   1290\u001b[0m         \u001b[1;32mif\u001b[0m \u001b[0mdtype\u001b[0m \u001b[1;32mand\u001b[0m \u001b[1;32mnot\u001b[0m \u001b[0mis_dtype_equal\u001b[0m\u001b[1;33m(\u001b[0m\u001b[0mdtype\u001b[0m\u001b[1;33m,\u001b[0m \u001b[0mself\u001b[0m\u001b[1;33m.\u001b[0m\u001b[0mcategories\u001b[0m\u001b[1;33m.\u001b[0m\u001b[0mdtype\u001b[0m\u001b[1;33m)\u001b[0m\u001b[1;33m:\u001b[0m\u001b[1;33m\u001b[0m\u001b[1;33m\u001b[0m\u001b[0m\n\u001b[1;32m-> 1291\u001b[1;33m             \u001b[1;32mreturn\u001b[0m \u001b[0mnp\u001b[0m\u001b[1;33m.\u001b[0m\u001b[0masarray\u001b[0m\u001b[1;33m(\u001b[0m\u001b[0mret\u001b[0m\u001b[1;33m,\u001b[0m \u001b[0mdtype\u001b[0m\u001b[1;33m)\u001b[0m\u001b[1;33m\u001b[0m\u001b[1;33m\u001b[0m\u001b[0m\n\u001b[0m\u001b[0;32m   1292\u001b[0m         \u001b[1;32mif\u001b[0m \u001b[0mis_extension_array_dtype\u001b[0m\u001b[1;33m(\u001b[0m\u001b[0mret\u001b[0m\u001b[1;33m)\u001b[0m\u001b[1;33m:\u001b[0m\u001b[1;33m\u001b[0m\u001b[1;33m\u001b[0m\u001b[0m\n\u001b[0;32m   1293\u001b[0m             \u001b[1;31m# When we're a Categorical[ExtensionArray], like Interval,\u001b[0m\u001b[1;33m\u001b[0m\u001b[1;33m\u001b[0m\u001b[1;33m\u001b[0m\u001b[0m\n",
      "\u001b[1;32m~\\Anaconda3\\lib\\site-packages\\numpy\\core\\numeric.py\u001b[0m in \u001b[0;36masarray\u001b[1;34m(a, dtype, order)\u001b[0m\n\u001b[0;32m    536\u001b[0m \u001b[1;33m\u001b[0m\u001b[0m\n\u001b[0;32m    537\u001b[0m     \"\"\"\n\u001b[1;32m--> 538\u001b[1;33m     \u001b[1;32mreturn\u001b[0m \u001b[0marray\u001b[0m\u001b[1;33m(\u001b[0m\u001b[0ma\u001b[0m\u001b[1;33m,\u001b[0m \u001b[0mdtype\u001b[0m\u001b[1;33m,\u001b[0m \u001b[0mcopy\u001b[0m\u001b[1;33m=\u001b[0m\u001b[1;32mFalse\u001b[0m\u001b[1;33m,\u001b[0m \u001b[0morder\u001b[0m\u001b[1;33m=\u001b[0m\u001b[0morder\u001b[0m\u001b[1;33m)\u001b[0m\u001b[1;33m\u001b[0m\u001b[1;33m\u001b[0m\u001b[0m\n\u001b[0m\u001b[0;32m    539\u001b[0m \u001b[1;33m\u001b[0m\u001b[0m\n\u001b[0;32m    540\u001b[0m \u001b[1;33m\u001b[0m\u001b[0m\n",
      "\u001b[1;31mValueError\u001b[0m: invalid literal for int() with base 10: 'Bestbuy.com'"
     ]
    }
   ],
   "source": [
    "ecom_data_upd.head(10)\n",
    "for col in ['prices.merchant']:\n",
    "    ecom_data_upd[col] = ecom_data_upd[col].astype('int8')"
   ]
  },
  {
   "cell_type": "code",
   "execution_count": 23,
   "metadata": {
    "ExecuteTime": {
     "end_time": "2019-12-11T04:59:09.176658Z",
     "start_time": "2019-12-11T04:59:09.127828Z"
    },
    "scrolled": false
   },
   "outputs": [
    {
     "name": "stdout",
     "output_type": "stream",
     "text": [
      "{'Bestbuy.com': '1', 'bhphotovideo.com': '2', 'Walmart.com': '3', 'Beach Camera': '4', 'AMI Ventures Inc': '5', 'buydig': '6', 'Focus Camera': '7', 'gear4less': '8', 'echo-and-optics': '9', 'Beach Audio Inc': '10', 'UnbeatableSale': '11', 'DealClock': '12', 'electronic_express': '13', 'World Wide Stereo': '14', 'BuyVPC': '15', 'Electronics Expo (Authorized Dealer)': '16', 'Car Audio Closeout': '17', 'Video & Audio Center': '18', 'OneCall': '19', 'Electronic Express': '19', 'wwstereo': '20'}\n",
      "      prices.amountMax  prices.amountMin prices.merchant dateAdded  \\\n",
      "0               104.99            104.99               1   2015-04   \n",
      "3                69.99             69.99               1   2015-05   \n",
      "4                66.99             66.99               1   2015-05   \n",
      "7                65.99             65.99               1   2015-05   \n",
      "10               69.99             69.99               1   2015-05   \n",
      "12               64.99             64.99               1   2015-05   \n",
      "13               23.99             23.99               1   2015-03   \n",
      "15               20.99             20.99               1   2015-03   \n",
      "17               23.99             23.99               1   2015-03   \n",
      "18              290.99            290.99               1   2015-10   \n",
      "19              279.99            279.99               1   2015-10   \n",
      "20              299.99            299.99               1   2015-10   \n",
      "21              225.99            225.99               1   2015-10   \n",
      "22              289.99            289.99               1   2015-10   \n",
      "24              132.99            132.99               1   2015-07   \n",
      "25              149.99            149.99               1   2015-07   \n",
      "26              149.95            149.95               2   2015-07   \n",
      "27              136.99            136.99               1   2015-07   \n",
      "28              254.99            254.99               1   2015-09   \n",
      "29              209.99            209.99               1   2015-09   \n",
      "30              299.98            299.98               1   2015-09   \n",
      "31              239.99            239.99               1   2015-09   \n",
      "32              299.98            299.98               1   2015-09   \n",
      "33              499.00            499.00               2   2015-05   \n",
      "34              699.99            699.99               1   2015-05   \n",
      "35              699.00            699.00               2   2015-05   \n",
      "37              599.00            599.00               2   2015-05   \n",
      "38              224.99            224.99               1   2018-05   \n",
      "39              249.99            249.99               1   2018-05   \n",
      "40              139.99            139.99               1   2017-07   \n",
      "...                ...               ...             ...       ...   \n",
      "7203            189.99            189.99               2   2017-07   \n",
      "7206            184.00            184.00               1   2017-07   \n",
      "7207            179.99            179.99               1   2017-07   \n",
      "7212            184.00            184.00               2   2017-07   \n",
      "7215            197.99            197.99               1   2016-12   \n",
      "7217            139.99            139.99               6   2016-12   \n",
      "7219            199.99            199.99               1   2016-12   \n",
      "7221            289.98            289.98               1   2015-05   \n",
      "7222            289.98            289.98               1   2015-05   \n",
      "7223            299.99            299.99               2   2017-02   \n",
      "7224            184.99            184.99               1   2017-02   \n",
      "7225            179.99            179.99               2   2017-02   \n",
      "7226            299.98            299.98               1   2017-02   \n",
      "7228            299.00            179.00               7   2017-02   \n",
      "7229            199.99            199.99               2   2017-02   \n",
      "7230            199.98            199.98               1   2017-02   \n",
      "7231             59.99             59.99               1   2018-01   \n",
      "7234             34.99             34.99               2   2018-01   \n",
      "7236             29.99             29.99               1   2018-01   \n",
      "7237             59.99             59.99               2   2018-01   \n",
      "7238             62.99             62.99               2   2016-06   \n",
      "7239             81.99             81.99               1   2016-06   \n",
      "7240             79.95             79.95               2   2016-06   \n",
      "7241             77.82             77.82               2   2016-06   \n",
      "7242             67.49             67.49               2   2016-06   \n",
      "7243             67.72             67.72               2   2016-06   \n",
      "7244             79.99             79.99               1   2016-06   \n",
      "7245             68.75             68.75               2   2016-06   \n",
      "7246             70.99             70.99               1   2016-06   \n",
      "7247             71.99             71.99               1   2016-06   \n",
      "\n",
      "                         brand  \\\n",
      "0                        Sanus   \n",
      "3                      Boytone   \n",
      "4                      Boytone   \n",
      "7                      Boytone   \n",
      "10                     Boytone   \n",
      "12                     Boytone   \n",
      "13                       DENAQ   \n",
      "15                       DENAQ   \n",
      "17                       DENAQ   \n",
      "18                   DreamWave   \n",
      "19                   DreamWave   \n",
      "20                   DreamWave   \n",
      "21                   DreamWave   \n",
      "22                   DreamWave   \n",
      "24                      Yamaha   \n",
      "25                      Yamaha   \n",
      "26                      Yamaha   \n",
      "27                      Yamaha   \n",
      "28    Universal Remote Control   \n",
      "29    Universal Remote Control   \n",
      "30    Universal Remote Control   \n",
      "31    Universal Remote Control   \n",
      "32    Universal Remote Control   \n",
      "33                        Bose   \n",
      "34                        Bose   \n",
      "35                        Bose   \n",
      "37                        Bose   \n",
      "38                     Samsung   \n",
      "39                     Samsung   \n",
      "40                     Corsair   \n",
      "...                        ...   \n",
      "7203                      ASUS   \n",
      "7206                      ASUS   \n",
      "7207                      ASUS   \n",
      "7212                      ASUS   \n",
      "7215                   Skybell   \n",
      "7217                   Skybell   \n",
      "7219                   Skybell   \n",
      "7221                AudioQuest   \n",
      "7222                AudioQuest   \n",
      "7223                    V-MODA   \n",
      "7224                    V-MODA   \n",
      "7225                    V-MODA   \n",
      "7226                    V-MODA   \n",
      "7228                    V-MODA   \n",
      "7229                    V-MODA   \n",
      "7230                    V-MODA   \n",
      "7231                  Logitech   \n",
      "7234                  Logitech   \n",
      "7236                  Logitech   \n",
      "7237                  Logitech   \n",
      "7238                   Lowepro   \n",
      "7239                   Lowepro   \n",
      "7240                   Lowepro   \n",
      "7241                   Lowepro   \n",
      "7242                   Lowepro   \n",
      "7243                   Lowepro   \n",
      "7244                   Lowepro   \n",
      "7245                   Lowepro   \n",
      "7246                   Lowepro   \n",
      "7247                   Lowepro   \n",
      "\n",
      "                                                   name primaryCategories  \\\n",
      "0     Sanus VLF410B1 10-Inch Super Slim Full-Motion ...       Electronics   \n",
      "3     Boytone - 2500W 2.1-Ch. Home Theater System - ...       Electronics   \n",
      "4     Boytone - 2500W 2.1-Ch. Home Theater System - ...       Electronics   \n",
      "7     Boytone - 2500W 2.1-Ch. Home Theater System - ...       Electronics   \n",
      "10    Boytone - 2500W 2.1-Ch. Home Theater System - ...       Electronics   \n",
      "12    Boytone - 2500W 2.1-Ch. Home Theater System - ...       Electronics   \n",
      "13    DENAQ - AC Adapter for TOSHIBA SATELLITE 1700 ...       Electronics   \n",
      "15    DENAQ - AC Adapter for TOSHIBA SATELLITE 1700 ...       Electronics   \n",
      "17    DENAQ - AC Adapter for TOSHIBA SATELLITE 1700 ...       Electronics   \n",
      "18    DreamWave - Tremor Portable Bluetooth Speaker ...       Electronics   \n",
      "19    DreamWave - Tremor Portable Bluetooth Speaker ...       Electronics   \n",
      "20    DreamWave - Tremor Portable Bluetooth Speaker ...       Electronics   \n",
      "21    DreamWave - Tremor Portable Bluetooth Speaker ...       Electronics   \n",
      "22    DreamWave - Tremor Portable Bluetooth Speaker ...       Electronics   \n",
      "24    NS-SP1800BL 5.1-Channel Home Theater System (B...       Electronics   \n",
      "25    NS-SP1800BL 5.1-Channel Home Theater System (B...       Electronics   \n",
      "26    NS-SP1800BL 5.1-Channel Home Theater System (B...       Electronics   \n",
      "27    NS-SP1800BL 5.1-Channel Home Theater System (B...       Electronics   \n",
      "28    Universal Remote Control - 48-Device Universal...       Electronics   \n",
      "29    Universal Remote Control - 48-Device Universal...       Electronics   \n",
      "30    Universal Remote Control - 48-Device Universal...       Electronics   \n",
      "31    Universal Remote Control - 48-Device Universal...       Electronics   \n",
      "32    Universal Remote Control - 48-Device Universal...       Electronics   \n",
      "33    Acoustimass 6 Series V Home Theater Speaker Sy...       Electronics   \n",
      "34    Acoustimass 6 Series V Home Theater Speaker Sy...       Electronics   \n",
      "35    Acoustimass 6 Series V Home Theater Speaker Sy...       Electronics   \n",
      "37    Acoustimass 6 Series V Home Theater Speaker Sy...       Electronics   \n",
      "38    Samsung - 850 PRO 512GB Internal SATA III Soli...       Electronics   \n",
      "39    Samsung - 850 PRO 512GB Internal SATA III Soli...       Electronics   \n",
      "40    Corsair Vengeance LPX 16GB (2x8GB) DDR4 DRAM 3...       Electronics   \n",
      "...                                                 ...               ...   \n",
      "7203                       VS278Q-P 27 16:9 LCD Monitor       Electronics   \n",
      "7206                       VS278Q-P 27 16:9 LCD Monitor       Electronics   \n",
      "7207                       VS278Q-P 27 16:9 LCD Monitor       Electronics   \n",
      "7212                       VS278Q-P 27 16:9 LCD Monitor       Electronics   \n",
      "7215  Details About Skybell Hd Wifi 1080p Video Door...       Electronics   \n",
      "7217  Details About Skybell Hd Wifi 1080p Video Door...       Electronics   \n",
      "7219  Details About Skybell Hd Wifi 1080p Video Door...       Electronics   \n",
      "7221  AudioQuest - Chocolate 16.5' 4K Ultra HD In-Wa...       Electronics   \n",
      "7222  AudioQuest - Chocolate 16.5' 4K Ultra HD In-Wa...       Electronics   \n",
      "7223  V-MODA - Crossfade Wireless Headphones - Gunme...       Electronics   \n",
      "7224  V-MODA - Crossfade Wireless Headphones - Gunme...       Electronics   \n",
      "7225  V-MODA - Crossfade Wireless Headphones - Gunme...       Electronics   \n",
      "7226  V-MODA - Crossfade Wireless Headphones - Gunme...       Electronics   \n",
      "7228  V-MODA - Crossfade Wireless Headphones - Gunme...       Electronics   \n",
      "7229  V-MODA - Crossfade Wireless Headphones - Gunme...       Electronics   \n",
      "7230  V-MODA - Crossfade Wireless Headphones - Gunme...       Electronics   \n",
      "7231  Details About New Logitech G230 981000541 Headset       Electronics   \n",
      "7234  Details About New Logitech G230 981000541 Headset       Electronics   \n",
      "7236  Details About New Logitech G230 981000541 Headset       Electronics   \n",
      "7237  Details About New Logitech G230 981000541 Headset       Electronics   \n",
      "7238  Lowepro - Slingshot Edge 250 AW Camera Backpac...       Electronics   \n",
      "7239  Lowepro - Slingshot Edge 250 AW Camera Backpac...       Electronics   \n",
      "7240  Lowepro - Slingshot Edge 250 AW Camera Backpac...       Electronics   \n",
      "7241  Lowepro - Slingshot Edge 250 AW Camera Backpac...       Electronics   \n",
      "7242  Lowepro - Slingshot Edge 250 AW Camera Backpac...       Electronics   \n",
      "7243  Lowepro - Slingshot Edge 250 AW Camera Backpac...       Electronics   \n",
      "7244  Lowepro - Slingshot Edge 250 AW Camera Backpac...       Electronics   \n",
      "7245  Lowepro - Slingshot Edge 250 AW Camera Backpac...       Electronics   \n",
      "7246  Lowepro - Slingshot Edge 250 AW Camera Backpac...       Electronics   \n",
      "7247  Lowepro - Slingshot Edge 250 AW Camera Backpac...       Electronics   \n",
      "\n",
      "      cond_sale  \n",
      "0     New_False  \n",
      "3     New_False  \n",
      "4     New_False  \n",
      "7     New_False  \n",
      "10    New_False  \n",
      "12    New_False  \n",
      "13    New_False  \n",
      "15     New_True  \n",
      "17    New_False  \n",
      "18    New_False  \n",
      "19    New_False  \n",
      "20    New_False  \n",
      "21     New_True  \n",
      "22    New_False  \n",
      "24     New_True  \n",
      "25    New_False  \n",
      "26     New_True  \n",
      "27     New_True  \n",
      "28     New_True  \n",
      "29     New_True  \n",
      "30    New_False  \n",
      "31     New_True  \n",
      "32    New_False  \n",
      "33    New_False  \n",
      "34    New_False  \n",
      "35    New_False  \n",
      "37    New_False  \n",
      "38     New_True  \n",
      "39    New_False  \n",
      "40    New_False  \n",
      "...         ...  \n",
      "7203  New_False  \n",
      "7206  New_False  \n",
      "7207  New_False  \n",
      "7212  New_False  \n",
      "7215  New_False  \n",
      "7217  New_False  \n",
      "7219  New_False  \n",
      "7221  New_False  \n",
      "7222  New_False  \n",
      "7223  New_False  \n",
      "7224   New_True  \n",
      "7225   New_True  \n",
      "7226  New_False  \n",
      "7228   New_True  \n",
      "7229  New_False  \n",
      "7230  New_False  \n",
      "7231  New_False  \n",
      "7234   New_True  \n",
      "7236   New_True  \n",
      "7237  New_False  \n",
      "7238  New_False  \n",
      "7239  New_False  \n",
      "7240  New_False  \n",
      "7241  New_False  \n",
      "7242  New_False  \n",
      "7243  New_False  \n",
      "7244  New_False  \n",
      "7245  New_False  \n",
      "7246  New_False  \n",
      "7247  New_False  \n",
      "\n",
      "[4907 rows x 8 columns]\n",
      "<class 'pandas.core.frame.DataFrame'>\n",
      "Int64Index: 4907 entries, 0 to 7247\n",
      "Data columns (total 8 columns):\n",
      "prices.amountMax     4907 non-null float64\n",
      "prices.amountMin     4907 non-null float64\n",
      "prices.merchant      4907 non-null object\n",
      "dateAdded            4907 non-null object\n",
      "brand                4907 non-null object\n",
      "name                 4907 non-null object\n",
      "primaryCategories    4907 non-null object\n",
      "cond_sale            4907 non-null object\n",
      "dtypes: float64(2), object(6)\n",
      "memory usage: 345.0+ KB\n"
     ]
    }
   ],
   "source": [
    "ecom_data_upd.corr()\n",
    "\n",
    "\n",
    "dict ={'Bestbuy.com' : '1',\n",
    "'bhphotovideo.com': '2',\n",
    "'Walmart.com': '3',\n",
    "'Beach Camera': '4',\n",
    "'AMI Ventures Inc': '5'\n",
    ",'buydig': '6'\n",
    ",'Focus Camera': '7'\n",
    ",'gear4less': '8'\n",
    ",'echo-and-optics': '9'\n",
    ",'Beach Audio Inc': '10'\n",
    ",'UnbeatableSale': '11'\n",
    ",'DealClock': '12'\n",
    ",'electronic_express': '13'\n",
    ",'World Wide Stereo': '14'\n",
    ",'BuyVPC': '15'\n",
    ",'Electronics Expo (Authorized Dealer)': '16'\n",
    ",'Car Audio Closeout': '17'\n",
    ",'Video & Audio Center': '18'\n",
    ",'OneCall': '19'\n",
    ",'Electronic Express': '19',\n",
    "'wwstereo': '20'}\n",
    "\n",
    "  \n",
    "# Print the dictionary \n",
    "print(dict) \n",
    "  \n",
    "# Remap the values of the dataframe \n",
    "ecom_data_upd['prices.merchant']= ecom_data_upd['prices.merchant'].map(dict) \n",
    "  \n",
    "# Print the DataFrame after modification \n",
    "print(ecom_data_upd)\n",
    "\n",
    "ecom_data_upd.info()"
   ]
  },
  {
   "cell_type": "code",
   "execution_count": 27,
   "metadata": {
    "ExecuteTime": {
     "end_time": "2019-12-11T05:10:29.868120Z",
     "start_time": "2019-12-11T05:10:29.848170Z"
    }
   },
   "outputs": [
    {
     "data": {
      "text/html": [
       "<div>\n",
       "<style scoped>\n",
       "    .dataframe tbody tr th:only-of-type {\n",
       "        vertical-align: middle;\n",
       "    }\n",
       "\n",
       "    .dataframe tbody tr th {\n",
       "        vertical-align: top;\n",
       "    }\n",
       "\n",
       "    .dataframe thead th {\n",
       "        text-align: right;\n",
       "    }\n",
       "</style>\n",
       "<table border=\"1\" class=\"dataframe\">\n",
       "  <thead>\n",
       "    <tr style=\"text-align: right;\">\n",
       "      <th></th>\n",
       "      <th>prices.amountMax</th>\n",
       "      <th>prices.amountMin</th>\n",
       "      <th>prices.merchant</th>\n",
       "    </tr>\n",
       "  </thead>\n",
       "  <tbody>\n",
       "    <tr>\n",
       "      <th>prices.amountMax</th>\n",
       "      <td>1.000000</td>\n",
       "      <td>0.994230</td>\n",
       "      <td>0.144355</td>\n",
       "    </tr>\n",
       "    <tr>\n",
       "      <th>prices.amountMin</th>\n",
       "      <td>0.994230</td>\n",
       "      <td>1.000000</td>\n",
       "      <td>0.123575</td>\n",
       "    </tr>\n",
       "    <tr>\n",
       "      <th>prices.merchant</th>\n",
       "      <td>0.144355</td>\n",
       "      <td>0.123575</td>\n",
       "      <td>1.000000</td>\n",
       "    </tr>\n",
       "  </tbody>\n",
       "</table>\n",
       "</div>"
      ],
      "text/plain": [
       "                  prices.amountMax  prices.amountMin  prices.merchant\n",
       "prices.amountMax          1.000000          0.994230         0.144355\n",
       "prices.amountMin          0.994230          1.000000         0.123575\n",
       "prices.merchant           0.144355          0.123575         1.000000"
      ]
     },
     "execution_count": 27,
     "metadata": {},
     "output_type": "execute_result"
    }
   ],
   "source": [
    "for col in ['prices.merchant']:\n",
    "    ecom_data_upd[col] = ecom_data_upd[col].astype('int8')\n",
    "    \n",
    "ecom_data_upd.corr()"
   ]
  },
  {
   "cell_type": "code",
   "execution_count": 35,
   "metadata": {
    "ExecuteTime": {
     "end_time": "2019-12-11T05:20:12.725216Z",
     "start_time": "2019-12-11T05:20:12.598552Z"
    }
   },
   "outputs": [
    {
     "name": "stdout",
     "output_type": "stream",
     "text": [
      "<class 'pandas.core.frame.DataFrame'>\n",
      "Int64Index: 4907 entries, 0 to 7247\n",
      "Data columns (total 3 columns):\n",
      "prices.amountMax    4907 non-null float64\n",
      "prices.amountMin    4907 non-null float64\n",
      "prices.merchant     4907 non-null int8\n",
      "dtypes: float64(2), int8(1)\n",
      "memory usage: 119.8 KB\n"
     ]
    }
   ],
   "source": [
    "new_data = ecom_data_upd[[\"prices.amountMax\",\"prices.amountMin\",\"prices.merchant\"]]\n",
    "new_data.info()\n",
    "\n",
    "from imblearn.over_sampling import RandomOverSampler\n",
    "ros = RandomOverSampler()"
   ]
  },
  {
   "cell_type": "code",
   "execution_count": 36,
   "metadata": {
    "ExecuteTime": {
     "end_time": "2019-12-11T05:20:15.746072Z",
     "start_time": "2019-12-11T05:20:15.710174Z"
    }
   },
   "outputs": [
    {
     "name": "stdout",
     "output_type": "stream",
     "text": [
      "[ 0  0  0 ... 17 17 17]\n"
     ]
    }
   ],
   "source": [
    "x = new_data[new_data.columns.difference(['prices.merchant'])]\n",
    "y = new_data['prices.merchant']\n",
    "x, y = ros.fit_sample(x, y)\n",
    "from sklearn.preprocessing import StandardScaler\n",
    "from sklearn.preprocessing import LabelEncoder\n",
    "scaler = StandardScaler()\n",
    "encoder = LabelEncoder()\n",
    "y = encoder.fit_transform(y)\n",
    "print(y)\n",
    "x = scaler.fit_transform(x)"
   ]
  },
  {
   "cell_type": "code",
   "execution_count": 42,
   "metadata": {
    "ExecuteTime": {
     "end_time": "2019-12-11T05:21:30.291391Z",
     "start_time": "2019-12-11T05:21:30.268453Z"
    }
   },
   "outputs": [
    {
     "name": "stdout",
     "output_type": "stream",
     "text": [
      "[ 0  0  0 ... 17 17 17]\n"
     ]
    }
   ],
   "source": [
    "from sklearn.preprocessing import StandardScaler\n",
    "from sklearn.preprocessing import LabelEncoder\n",
    "scaler = StandardScaler()\n",
    "encoder = LabelEncoder()\n",
    "y = encoder.fit_transform(y)\n",
    "print(y)\n",
    "x = scaler.fit_transform(x)"
   ]
  },
  {
   "cell_type": "code",
   "execution_count": 43,
   "metadata": {
    "ExecuteTime": {
     "end_time": "2019-12-11T05:21:33.204352Z",
     "start_time": "2019-12-11T05:21:33.185415Z"
    }
   },
   "outputs": [
    {
     "name": "stdout",
     "output_type": "stream",
     "text": [
      "x: (51192, 2)\n",
      "y: (51192,)\n",
      "Shape of x_train: (35834, 2)\n",
      "Shape of y_train: (35834,)\n",
      "Shape of x_test: (15358, 2)\n",
      "Shape of y_test: (15358,)\n"
     ]
    }
   ],
   "source": [
    "#checking the shapes\n",
    "print(\"x:\", x.shape)\n",
    "print(\"y:\", y.shape)\n",
    "from sklearn.model_selection import train_test_split\n",
    "x_train, x_test, y_train, y_test = train_test_split(x, y, test_size = 0.3, random_state = 42)\n",
    "\n",
    "# checking the shapes\n",
    "\n",
    "print(\"Shape of x_train:\", x_train.shape)\n",
    "print(\"Shape of y_train:\", y_train.shape)\n",
    "print(\"Shape of x_test:\", x_test.shape)\n",
    "print(\"Shape of y_test:\", y_test.shape)"
   ]
  },
  {
   "cell_type": "code",
   "execution_count": 44,
   "metadata": {
    "ExecuteTime": {
     "end_time": "2019-12-11T05:21:34.123892Z",
     "start_time": "2019-12-11T05:21:33.961328Z"
    }
   },
   "outputs": [
    {
     "name": "stdout",
     "output_type": "stream",
     "text": [
      "Training Accuracy : 0.8363844393592678\n",
      "Testing Accuracy : 0.8193124104701133\n",
      "[[672  91  10   5   9   3   3   1   1   4  19   3   9  18  46   1   2   2]\n",
      " [204 423   3  32  21   4   7   3   0   6  20  25   6  24  15  30  14  41]\n",
      " [  0   0 860   0  15   0   0   0   0   0   0   0   0   0   0   0   0   0]\n",
      " [  0   0   0 361  16   0   0   0   0   0 115  29   0  36   0  58  99 118]\n",
      " [ 13   0   0  19 658  17   0   0   0   0  35  41  19  13   0  40   0   0]\n",
      " [  0   0   0   0   0 741 107   0   0   0   0   0   0   0   0   0   0   0]\n",
      " [  0   0   0   0   0  92 699   0   0   0  42   0   0   0   0  24   0   0]\n",
      " [ 27   0   0   0   0   0   0 795   0   0   0   0   0  21  22   0   0   0]\n",
      " [ 26   0   0   0   0   0   0   0 766   0   0   0   0   0   0   0   0   0]\n",
      " [  0   0   0   0   0   0   0   0   0 811   0  22   0   0   0   0   0   0]\n",
      " [  0   0   0   0   0   0   0   0   0   0 488  41   0   0   0 142  68 162]\n",
      " [  0   0   0   0   0   0   0   0   0   0   0 704   0  52   0  58   0  74]\n",
      " [  0   0   0   0   0   0   0   0   0   0   0   0 839   0   0   0   0   0]\n",
      " [  0   0   0   0   0   0   0   0   0   0   0   0   0 748   0   0   0  73]\n",
      " [  0   0   0   0   0   0   0   0   0   0   0   0   0   0 813   0   0   0]\n",
      " [  0   0   0   0   0   0   0   0   0   0   0   0   0   0   0 846   0   0]\n",
      " [  0   0   0   0   0   0   0   0   0   0  62 137   0   0  23  41 561  51]\n",
      " [  0   0   0   0   0   0   0   0   0   0   0   0   0  43   0   0   0 798]]\n",
      "              precision    recall  f1-score   support\n",
      "\n",
      "           0       0.71      0.75      0.73       899\n",
      "           1       0.82      0.48      0.61       878\n",
      "           2       0.99      0.98      0.98       875\n",
      "           3       0.87      0.43      0.58       832\n",
      "           4       0.92      0.77      0.84       855\n",
      "           5       0.86      0.87      0.87       848\n",
      "           6       0.86      0.82      0.84       857\n",
      "           7       0.99      0.92      0.96       865\n",
      "           8       1.00      0.97      0.98       792\n",
      "           9       0.99      0.97      0.98       833\n",
      "          10       0.62      0.54      0.58       901\n",
      "          11       0.70      0.79      0.74       888\n",
      "          12       0.96      1.00      0.98       839\n",
      "          13       0.78      0.91      0.84       821\n",
      "          14       0.88      1.00      0.94       813\n",
      "          15       0.68      1.00      0.81       846\n",
      "          16       0.75      0.64      0.69       875\n",
      "          17       0.61      0.95      0.74       841\n",
      "\n",
      "    accuracy                           0.82     15358\n",
      "   macro avg       0.83      0.82      0.82     15358\n",
      "weighted avg       0.83      0.82      0.81     15358\n",
      "\n"
     ]
    }
   ],
   "source": [
    "from sklearn.tree import DecisionTreeClassifier\n",
    "from sklearn.metrics import confusion_matrix\n",
    "from sklearn.metrics import classification_report\n",
    "\n",
    "model = DecisionTreeClassifier()\n",
    "model.fit(x_train, y_train)\n",
    "\n",
    "y_pred = model.predict(x_test)\n",
    "\n",
    "# evaluating the model\n",
    "print(\"Training Accuracy :\", model.score(x_train, y_train))\n",
    "print(\"Testing Accuracy :\", model.score(x_test, y_test))\n",
    "\n",
    "# confusion matrix\n",
    "cm = confusion_matrix(y_test, y_pred)\n",
    "print(cm)\n",
    "\n",
    "# classification report\n",
    "cr = classification_report(y_test, y_pred)\n",
    "print(cr)"
   ]
  },
  {
   "cell_type": "code",
   "execution_count": 45,
   "metadata": {
    "ExecuteTime": {
     "end_time": "2019-12-11T05:21:35.384523Z",
     "start_time": "2019-12-11T05:21:34.817040Z"
    }
   },
   "outputs": [
    {
     "name": "stdout",
     "output_type": "stream",
     "text": [
      "Training Accuracy : 0.8348216777362282\n",
      "Testing Accuracy : 0.8213960151061336\n",
      "[[644 100  11   5   9   3   4   1  18   4  19   4   9  18  46   1   2   1]\n",
      " [204 409   5  33  21   4   7   3  11   6  20  27   6  24  15  30  14  39]\n",
      " [  0   0 860   0  15   0   0   0   0   0   0   0   0   0   0   0   0   0]\n",
      " [  0   0   0 361  16   0   0   0   0   0 133  29   0  36   0  58  81 118]\n",
      " [  0   0   0  19 658  17   0   0  13   0  35  41  19  13   0  40   0   0]\n",
      " [  0   0   0   0   0 702 146   0   0   0   0   0   0   0   0   0   0   0]\n",
      " [  0   0   0   0   0  48 743   0   0   0  42   0   0   0   0  24   0   0]\n",
      " [ 27   0   0   0   0   0   0 795   0   0   0   0   0  21  22   0   0   0]\n",
      " [  0   0   0   0   0   0   0   0 792   0   0   0   0   0   0   0   0   0]\n",
      " [  0   0   0   0   0   0   0   0   0 811   0  22   0   0   0   0   0   0]\n",
      " [  0   0   0   0   0   0   0   0   0   0 523  41   0   0   0 142  33 162]\n",
      " [  0   0   0   0   0   0   0   0   0   0   0 778   0  52   0  58   0   0]\n",
      " [  0   0   0   0   0   0   0   0   0   0   0   0 839   0   0   0   0   0]\n",
      " [  0   0   0   0   0   0   0   0   0   0   0  40   0 748   0   0   0  33]\n",
      " [  0   0   0   0   0   0   0   0   0   0   0   0   0   0 813   0   0   0]\n",
      " [  0   0   0   0   0   0   0   0   0   0   0   0   0   0   0 846   0   0]\n",
      " [  0   0   0   0   0   0   0   0   0   0  77 137   0   0  23  41 546  51]\n",
      " [  0   0   0   0   0   0   0   0   0   0   0  51   0  43   0   0   0 747]]\n",
      "              precision    recall  f1-score   support\n",
      "\n",
      "           0       0.74      0.72      0.73       899\n",
      "           1       0.80      0.47      0.59       878\n",
      "           2       0.98      0.98      0.98       875\n",
      "           3       0.86      0.43      0.58       832\n",
      "           4       0.92      0.77      0.84       855\n",
      "           5       0.91      0.83      0.87       848\n",
      "           6       0.83      0.87      0.85       857\n",
      "           7       0.99      0.92      0.96       865\n",
      "           8       0.95      1.00      0.97       792\n",
      "           9       0.99      0.97      0.98       833\n",
      "          10       0.62      0.58      0.60       901\n",
      "          11       0.66      0.88      0.76       888\n",
      "          12       0.96      1.00      0.98       839\n",
      "          13       0.78      0.91      0.84       821\n",
      "          14       0.88      1.00      0.94       813\n",
      "          15       0.68      1.00      0.81       846\n",
      "          16       0.81      0.62      0.70       875\n",
      "          17       0.65      0.89      0.75       841\n",
      "\n",
      "    accuracy                           0.82     15358\n",
      "   macro avg       0.83      0.82      0.82     15358\n",
      "weighted avg       0.83      0.82      0.82     15358\n",
      "\n"
     ]
    }
   ],
   "source": [
    "from sklearn.ensemble import RandomForestClassifier\n",
    "from sklearn.metrics import confusion_matrix\n",
    "from sklearn.metrics import classification_report\n",
    "\n",
    "model = RandomForestClassifier()\n",
    "model.fit(x_train, y_train)\n",
    "\n",
    "y_pred = model.predict(x_test)\n",
    "\n",
    "# evaluating the model\n",
    "print(\"Training Accuracy :\", model.score(x_train, y_train))\n",
    "print(\"Testing Accuracy :\", model.score(x_test, y_test))\n",
    "\n",
    "# confusion matrix\n",
    "cm = confusion_matrix(y_test, y_pred)\n",
    "print(cm)\n",
    "\n",
    "# classification report\n",
    "cr = classification_report(y_test, y_pred)\n",
    "print(cr)"
   ]
  },
  {
   "cell_type": "code",
   "execution_count": 46,
   "metadata": {
    "ExecuteTime": {
     "end_time": "2019-12-11T05:21:36.447678Z",
     "start_time": "2019-12-11T05:21:36.183386Z"
    }
   },
   "outputs": [
    {
     "data": {
      "image/png": "[encoded data removed]",
      "text/plain": [
       "<Figure size 720x720 with 2 Axes>"
      ]
     },
     "metadata": {
      "needs_background": "light"
     },
     "output_type": "display_data"
    }
   ],
   "source": [
    "plt.figure(figsize=(10,10))\n",
    "sns.heatmap(new_data.corr(),annot=True,cmap='cubehelix_r')\n",
    "plt.show()"
   ]
  },
  {
   "cell_type": "code",
   "execution_count": 47,
   "metadata": {
    "ExecuteTime": {
     "end_time": "2019-12-11T05:21:37.298546Z",
     "start_time": "2019-12-11T05:21:37.239561Z"
    }
   },
   "outputs": [],
   "source": [
    "ecom_data_upd.to_csv(\"D:\\\\kddproject.csv\")"
   ]
  },
  {
   "cell_type": "markdown",
   "metadata": {},
   "source": []
  },
  {
   "cell_type": "code",
   "execution_count": null,
   "metadata": {},
   "outputs": [],
   "source": []
  }
 ],
 "metadata": {
  "kernelspec": {
   "display_name": "Python 3",
   "language": "python",
   "name": "python3"
  },
  "language_info": {
   "codemirror_mode": {
    "name": "ipython",
    "version": 3
   },
   "file_extension": ".py",
   "mimetype": "text/x-python",
   "name": "python",
   "nbconvert_exporter": "python",
   "pygments_lexer": "ipython3",
   "version": "3.7.3"
  },
  "varInspector": {
   "cols": {
    "lenName": 16,
    "lenType": 16,
    "lenVar": 40
   },
   "kernels_config": {
    "python": {
     "delete_cmd_postfix": "",
     "delete_cmd_prefix": "del ",
     "library": "var_list.py",
     "varRefreshCmd": "print(var_dic_list())"
    },
    "r": {
     "delete_cmd_postfix": ") ",
     "delete_cmd_prefix": "rm(",
     "library": "var_list.r",
     "varRefreshCmd": "cat(var_dic_list()) "
    }
   },
   "types_to_exclude": [
    "module",
    "function",
    "builtin_function_or_method",
    "instance",
    "_Feature"
   ],
   "window_display": false
  }
 },
 "nbformat": 4,
 "nbformat_minor": 4
}
