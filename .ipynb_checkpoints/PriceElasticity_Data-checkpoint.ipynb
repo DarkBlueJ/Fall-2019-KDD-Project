{
 "cells": [
  {
   "cell_type": "markdown",
   "metadata": {},
   "source": [
    "# Analysis on Price Elasticity"
   ]
  },
  {
   "cell_type": "markdown",
   "metadata": {},
   "source": [
    "## Exploratory Data Analysis\n",
    "When approaching a data mining problem, a data mining analyst will have a priori hypothesis (one formed beforehand) that he or she would like to test regarding the relationships between variables. However, analysts do not always have these notions of the expected relationships among variables. When given an unknown large database, analysts often prefer to use Exploratory Data Analysis(EDA) or graphical analysis to understand the data.\n",
    "\n",
    "### EDA \n",
    "Allows the analyst to identify the interesting subsets of the observations\n",
    "and develop an initial idea of possible associations among the predictors, as well as between the predictors and target variable."
   ]
  },
  {
   "cell_type": "code",
   "execution_count": 1,
   "metadata": {
    "ExecuteTime": {
     "end_time": "2019-11-15T01:19:02.997693Z",
     "start_time": "2019-11-15T01:19:00.159034Z"
    }
   },
   "outputs": [],
   "source": [
    "import pandas as pd\n",
    "from pandas.plotting import scatter_matrix\n",
    "import matplotlib.pyplot as plt\n",
    "import numpy as np\n",
    "from sklearn import datasets, model_selection\n",
    "import warnings\n",
    "warnings.filterwarnings('ignore')\n",
    "from sklearn import model_selection\n",
    "import seaborn as sns\n",
    "from scipy import stats\n",
    "import matplotlib.pyplot as plt"
   ]
  },
  {
   "cell_type": "code",
   "execution_count": 2,
   "metadata": {
    "ExecuteTime": {
     "end_time": "2019-11-15T01:19:03.609057Z",
     "start_time": "2019-11-15T01:19:02.997693Z"
    }
   },
   "outputs": [],
   "source": [
    "ecom_data = pd.read_csv('DatafinitiElectronicsProductData.csv')"
   ]
  },
  {
   "cell_type": "code",
   "execution_count": 3,
   "metadata": {
    "ExecuteTime": {
     "end_time": "2019-11-15T01:19:03.668937Z",
     "start_time": "2019-11-15T01:19:03.609057Z"
    }
   },
   "outputs": [
    {
     "data": {
      "text/html": [
       "<div>\n",
       "<style scoped>\n",
       "    .dataframe tbody tr th:only-of-type {\n",
       "        vertical-align: middle;\n",
       "    }\n",
       "\n",
       "    .dataframe tbody tr th {\n",
       "        vertical-align: top;\n",
       "    }\n",
       "\n",
       "    .dataframe thead th {\n",
       "        text-align: right;\n",
       "    }\n",
       "</style>\n",
       "<table border=\"1\" class=\"dataframe\">\n",
       "  <thead>\n",
       "    <tr style=\"text-align: right;\">\n",
       "      <th></th>\n",
       "      <th>id</th>\n",
       "      <th>asins</th>\n",
       "      <th>brand</th>\n",
       "      <th>categories</th>\n",
       "      <th>colors</th>\n",
       "      <th>dateAdded</th>\n",
       "      <th>dateUpdated</th>\n",
       "      <th>dimension</th>\n",
       "      <th>ean</th>\n",
       "      <th>imageURLs</th>\n",
       "      <th>...</th>\n",
       "      <th>reviews.doRecommend</th>\n",
       "      <th>reviews.numHelpful</th>\n",
       "      <th>reviews.rating</th>\n",
       "      <th>reviews.sourceURLs</th>\n",
       "      <th>reviews.text</th>\n",
       "      <th>reviews.title</th>\n",
       "      <th>reviews.username</th>\n",
       "      <th>sourceURLs</th>\n",
       "      <th>upc</th>\n",
       "      <th>weight</th>\n",
       "    </tr>\n",
       "  </thead>\n",
       "  <tbody>\n",
       "    <tr>\n",
       "      <th>0</th>\n",
       "      <td>AVpf3txeLJeJML43FN82</td>\n",
       "      <td>B0168YIWSI</td>\n",
       "      <td>Microsoft</td>\n",
       "      <td>Electronics,Computers,Computer Accessories,Key...</td>\n",
       "      <td>Black</td>\n",
       "      <td>2015-11-13T12:28:09Z</td>\n",
       "      <td>2018-01-29T02:15:13Z</td>\n",
       "      <td>11.6 in x 8.5 in x 0.19 in</td>\n",
       "      <td>8.900000e+11</td>\n",
       "      <td>https://i5.walmartimages.com/asr/2a41f6f0-844e...</td>\n",
       "      <td>...</td>\n",
       "      <td>True</td>\n",
       "      <td>0.0</td>\n",
       "      <td>5.0</td>\n",
       "      <td>http://reviews.bestbuy.com/3545/4562009/review...</td>\n",
       "      <td>This keyboard is very easy to type on, but the...</td>\n",
       "      <td>Love the fingerprint reader</td>\n",
       "      <td>JNH1</td>\n",
       "      <td>https://www.walmart.com/ip/Microsoft-Surface-P...</td>\n",
       "      <td>8.900000e+11</td>\n",
       "      <td>1.1 pounds</td>\n",
       "    </tr>\n",
       "    <tr>\n",
       "      <th>1</th>\n",
       "      <td>AVpf3txeLJeJML43FN82</td>\n",
       "      <td>B0168YIWSI</td>\n",
       "      <td>Microsoft</td>\n",
       "      <td>Electronics,Computers,Computer Accessories,Key...</td>\n",
       "      <td>Black</td>\n",
       "      <td>2015-11-13T12:28:09Z</td>\n",
       "      <td>2018-01-29T02:15:13Z</td>\n",
       "      <td>11.6 in x 8.5 in x 0.19 in</td>\n",
       "      <td>8.900000e+11</td>\n",
       "      <td>https://i5.walmartimages.com/asr/2a41f6f0-844e...</td>\n",
       "      <td>...</td>\n",
       "      <td>True</td>\n",
       "      <td>0.0</td>\n",
       "      <td>4.0</td>\n",
       "      <td>http://reviews.bestbuy.com/3545/4562009/review...</td>\n",
       "      <td>It's thin and light. I can type pretty easily ...</td>\n",
       "      <td>Nice</td>\n",
       "      <td>Appa</td>\n",
       "      <td>https://www.walmart.com/ip/Microsoft-Surface-P...</td>\n",
       "      <td>8.900000e+11</td>\n",
       "      <td>1.1 pounds</td>\n",
       "    </tr>\n",
       "    <tr>\n",
       "      <th>2</th>\n",
       "      <td>AVpf3txeLJeJML43FN82</td>\n",
       "      <td>B0168YIWSI</td>\n",
       "      <td>Microsoft</td>\n",
       "      <td>Electronics,Computers,Computer Accessories,Key...</td>\n",
       "      <td>Black</td>\n",
       "      <td>2015-11-13T12:28:09Z</td>\n",
       "      <td>2018-01-29T02:15:13Z</td>\n",
       "      <td>11.6 in x 8.5 in x 0.19 in</td>\n",
       "      <td>8.900000e+11</td>\n",
       "      <td>https://i5.walmartimages.com/asr/2a41f6f0-844e...</td>\n",
       "      <td>...</td>\n",
       "      <td>True</td>\n",
       "      <td>0.0</td>\n",
       "      <td>4.0</td>\n",
       "      <td>http://reviews.bestbuy.com/3545/4562009/review...</td>\n",
       "      <td>I love the new design the keys are spaced well...</td>\n",
       "      <td>New</td>\n",
       "      <td>Kman</td>\n",
       "      <td>https://www.walmart.com/ip/Microsoft-Surface-P...</td>\n",
       "      <td>8.900000e+11</td>\n",
       "      <td>1.1 pounds</td>\n",
       "    </tr>\n",
       "    <tr>\n",
       "      <th>3</th>\n",
       "      <td>AVpf3txeLJeJML43FN82</td>\n",
       "      <td>B0168YIWSI</td>\n",
       "      <td>Microsoft</td>\n",
       "      <td>Electronics,Computers,Computer Accessories,Key...</td>\n",
       "      <td>Black</td>\n",
       "      <td>2015-11-13T12:28:09Z</td>\n",
       "      <td>2018-01-29T02:15:13Z</td>\n",
       "      <td>11.6 in x 8.5 in x 0.19 in</td>\n",
       "      <td>8.900000e+11</td>\n",
       "      <td>https://i5.walmartimages.com/asr/2a41f6f0-844e...</td>\n",
       "      <td>...</td>\n",
       "      <td>True</td>\n",
       "      <td>0.0</td>\n",
       "      <td>5.0</td>\n",
       "      <td>http://reviews.bestbuy.com/3545/4562009/review...</td>\n",
       "      <td>Attached easily and firmly. Has a nice feel. A...</td>\n",
       "      <td>Nice keyboard</td>\n",
       "      <td>UpstateNY</td>\n",
       "      <td>https://www.walmart.com/ip/Microsoft-Surface-P...</td>\n",
       "      <td>8.900000e+11</td>\n",
       "      <td>1.1 pounds</td>\n",
       "    </tr>\n",
       "    <tr>\n",
       "      <th>4</th>\n",
       "      <td>AVpf3txeLJeJML43FN82</td>\n",
       "      <td>B0168YIWSI</td>\n",
       "      <td>Microsoft</td>\n",
       "      <td>Electronics,Computers,Computer Accessories,Key...</td>\n",
       "      <td>Black</td>\n",
       "      <td>2015-11-13T12:28:09Z</td>\n",
       "      <td>2018-01-29T02:15:13Z</td>\n",
       "      <td>11.6 in x 8.5 in x 0.19 in</td>\n",
       "      <td>8.900000e+11</td>\n",
       "      <td>https://i5.walmartimages.com/asr/2a41f6f0-844e...</td>\n",
       "      <td>...</td>\n",
       "      <td>True</td>\n",
       "      <td>0.0</td>\n",
       "      <td>5.0</td>\n",
       "      <td>http://reviews.bestbuy.com/3545/4562009/review...</td>\n",
       "      <td>Our original keyboard was okay, but did not ha...</td>\n",
       "      <td>Nice improvement</td>\n",
       "      <td>Glickster</td>\n",
       "      <td>https://www.walmart.com/ip/Microsoft-Surface-P...</td>\n",
       "      <td>8.900000e+11</td>\n",
       "      <td>1.1 pounds</td>\n",
       "    </tr>\n",
       "  </tbody>\n",
       "</table>\n",
       "<p>5 rows × 27 columns</p>\n",
       "</div>"
      ],
      "text/plain": [
       "                     id       asins      brand  \\\n",
       "0  AVpf3txeLJeJML43FN82  B0168YIWSI  Microsoft   \n",
       "1  AVpf3txeLJeJML43FN82  B0168YIWSI  Microsoft   \n",
       "2  AVpf3txeLJeJML43FN82  B0168YIWSI  Microsoft   \n",
       "3  AVpf3txeLJeJML43FN82  B0168YIWSI  Microsoft   \n",
       "4  AVpf3txeLJeJML43FN82  B0168YIWSI  Microsoft   \n",
       "\n",
       "                                          categories colors  \\\n",
       "0  Electronics,Computers,Computer Accessories,Key...  Black   \n",
       "1  Electronics,Computers,Computer Accessories,Key...  Black   \n",
       "2  Electronics,Computers,Computer Accessories,Key...  Black   \n",
       "3  Electronics,Computers,Computer Accessories,Key...  Black   \n",
       "4  Electronics,Computers,Computer Accessories,Key...  Black   \n",
       "\n",
       "              dateAdded           dateUpdated                   dimension  \\\n",
       "0  2015-11-13T12:28:09Z  2018-01-29T02:15:13Z  11.6 in x 8.5 in x 0.19 in   \n",
       "1  2015-11-13T12:28:09Z  2018-01-29T02:15:13Z  11.6 in x 8.5 in x 0.19 in   \n",
       "2  2015-11-13T12:28:09Z  2018-01-29T02:15:13Z  11.6 in x 8.5 in x 0.19 in   \n",
       "3  2015-11-13T12:28:09Z  2018-01-29T02:15:13Z  11.6 in x 8.5 in x 0.19 in   \n",
       "4  2015-11-13T12:28:09Z  2018-01-29T02:15:13Z  11.6 in x 8.5 in x 0.19 in   \n",
       "\n",
       "            ean                                          imageURLs  ...  \\\n",
       "0  8.900000e+11  https://i5.walmartimages.com/asr/2a41f6f0-844e...  ...   \n",
       "1  8.900000e+11  https://i5.walmartimages.com/asr/2a41f6f0-844e...  ...   \n",
       "2  8.900000e+11  https://i5.walmartimages.com/asr/2a41f6f0-844e...  ...   \n",
       "3  8.900000e+11  https://i5.walmartimages.com/asr/2a41f6f0-844e...  ...   \n",
       "4  8.900000e+11  https://i5.walmartimages.com/asr/2a41f6f0-844e...  ...   \n",
       "\n",
       "  reviews.doRecommend reviews.numHelpful reviews.rating  \\\n",
       "0                True                0.0            5.0   \n",
       "1                True                0.0            4.0   \n",
       "2                True                0.0            4.0   \n",
       "3                True                0.0            5.0   \n",
       "4                True                0.0            5.0   \n",
       "\n",
       "                                  reviews.sourceURLs  \\\n",
       "0  http://reviews.bestbuy.com/3545/4562009/review...   \n",
       "1  http://reviews.bestbuy.com/3545/4562009/review...   \n",
       "2  http://reviews.bestbuy.com/3545/4562009/review...   \n",
       "3  http://reviews.bestbuy.com/3545/4562009/review...   \n",
       "4  http://reviews.bestbuy.com/3545/4562009/review...   \n",
       "\n",
       "                                        reviews.text  \\\n",
       "0  This keyboard is very easy to type on, but the...   \n",
       "1  It's thin and light. I can type pretty easily ...   \n",
       "2  I love the new design the keys are spaced well...   \n",
       "3  Attached easily and firmly. Has a nice feel. A...   \n",
       "4  Our original keyboard was okay, but did not ha...   \n",
       "\n",
       "                 reviews.title reviews.username  \\\n",
       "0  Love the fingerprint reader             JNH1   \n",
       "1                         Nice             Appa   \n",
       "2                          New             Kman   \n",
       "3                Nice keyboard        UpstateNY   \n",
       "4             Nice improvement        Glickster   \n",
       "\n",
       "                                          sourceURLs           upc      weight  \n",
       "0  https://www.walmart.com/ip/Microsoft-Surface-P...  8.900000e+11  1.1 pounds  \n",
       "1  https://www.walmart.com/ip/Microsoft-Surface-P...  8.900000e+11  1.1 pounds  \n",
       "2  https://www.walmart.com/ip/Microsoft-Surface-P...  8.900000e+11  1.1 pounds  \n",
       "3  https://www.walmart.com/ip/Microsoft-Surface-P...  8.900000e+11  1.1 pounds  \n",
       "4  https://www.walmart.com/ip/Microsoft-Surface-P...  8.900000e+11  1.1 pounds  \n",
       "\n",
       "[5 rows x 27 columns]"
      ]
     },
     "execution_count": 3,
     "metadata": {},
     "output_type": "execute_result"
    }
   ],
   "source": [
    "ecom_data.head()"
   ]
  },
  {
   "cell_type": "code",
   "execution_count": 4,
   "metadata": {
    "ExecuteTime": {
     "end_time": "2019-11-15T01:19:03.708956Z",
     "start_time": "2019-11-15T01:19:03.672926Z"
    }
   },
   "outputs": [
    {
     "name": "stdout",
     "output_type": "stream",
     "text": [
      "<class 'pandas.core.frame.DataFrame'>\n",
      "RangeIndex: 7299 entries, 0 to 7298\n",
      "Data columns (total 27 columns):\n",
      "id                     7299 non-null object\n",
      "asins                  7299 non-null object\n",
      "brand                  7299 non-null object\n",
      "categories             7299 non-null object\n",
      "colors                 5280 non-null object\n",
      "dateAdded              7299 non-null object\n",
      "dateUpdated            7299 non-null object\n",
      "dimension              6090 non-null object\n",
      "ean                    2951 non-null float64\n",
      "imageURLs              7299 non-null object\n",
      "keys                   7299 non-null object\n",
      "manufacturer           4632 non-null object\n",
      "manufacturerNumber     7299 non-null object\n",
      "name                   7299 non-null object\n",
      "primaryCategories      7299 non-null object\n",
      "reviews.date           7238 non-null object\n",
      "reviews.dateSeen       7299 non-null object\n",
      "reviews.doRecommend    5908 non-null object\n",
      "reviews.numHelpful     5813 non-null float64\n",
      "reviews.rating         7135 non-null float64\n",
      "reviews.sourceURLs     7299 non-null object\n",
      "reviews.text           7294 non-null object\n",
      "reviews.title          7295 non-null object\n",
      "reviews.username       7299 non-null object\n",
      "sourceURLs             7299 non-null object\n",
      "upc                    7299 non-null float64\n",
      "weight                 7299 non-null object\n",
      "dtypes: float64(4), object(23)\n",
      "memory usage: 1.5+ MB\n"
     ]
    }
   ],
   "source": [
    "#Summarize the dataset\n",
    "# Provides the number of rows and columns in a dataset. There are 26 columns in ecom_data dataset and a total of 7249 records.\n",
    "ecom_data.info()"
   ]
  },
  {
   "cell_type": "markdown",
   "metadata": {},
   "source": [
    "EAN - The EAN codes for this product. There may be more than one EAN in the list when a product has multiple variations,\n",
    "each using a different EAN.\n",
    "> we can drop the column since there will be no impact on the data modeling."
   ]
  },
  {
   "cell_type": "code",
   "execution_count": 5,
   "metadata": {
    "ExecuteTime": {
     "end_time": "2019-11-15T01:19:03.720929Z",
     "start_time": "2019-11-15T01:19:03.708956Z"
    }
   },
   "outputs": [
    {
     "name": "stdout",
     "output_type": "stream",
     "text": [
      "(7299, 27)\n"
     ]
    }
   ],
   "source": [
    "print(ecom_data.shape)"
   ]
  },
  {
   "cell_type": "code",
   "execution_count": 6,
   "metadata": {
    "ExecuteTime": {
     "end_time": "2019-11-15T01:19:03.776973Z",
     "start_time": "2019-11-15T01:19:03.728925Z"
    }
   },
   "outputs": [
    {
     "data": {
      "text/html": [
       "<div>\n",
       "<style scoped>\n",
       "    .dataframe tbody tr th:only-of-type {\n",
       "        vertical-align: middle;\n",
       "    }\n",
       "\n",
       "    .dataframe tbody tr th {\n",
       "        vertical-align: top;\n",
       "    }\n",
       "\n",
       "    .dataframe thead th {\n",
       "        text-align: right;\n",
       "    }\n",
       "</style>\n",
       "<table border=\"1\" class=\"dataframe\">\n",
       "  <thead>\n",
       "    <tr style=\"text-align: right;\">\n",
       "      <th></th>\n",
       "      <th>ean</th>\n",
       "      <th>reviews.numHelpful</th>\n",
       "      <th>reviews.rating</th>\n",
       "      <th>upc</th>\n",
       "    </tr>\n",
       "  </thead>\n",
       "  <tbody>\n",
       "    <tr>\n",
       "      <th>count</th>\n",
       "      <td>2.951000e+03</td>\n",
       "      <td>5813.000000</td>\n",
       "      <td>7135.000000</td>\n",
       "      <td>7.299000e+03</td>\n",
       "    </tr>\n",
       "    <tr>\n",
       "      <th>mean</th>\n",
       "      <td>2.986492e+11</td>\n",
       "      <td>0.746774</td>\n",
       "      <td>4.371969</td>\n",
       "      <td>3.866713e+11</td>\n",
       "    </tr>\n",
       "    <tr>\n",
       "      <th>std</th>\n",
       "      <td>3.385510e+11</td>\n",
       "      <td>3.420246</td>\n",
       "      <td>1.038561</td>\n",
       "      <td>3.681693e+11</td>\n",
       "    </tr>\n",
       "    <tr>\n",
       "      <th>min</th>\n",
       "      <td>2.710811e+10</td>\n",
       "      <td>0.000000</td>\n",
       "      <td>1.000000</td>\n",
       "      <td>1.781766e+10</td>\n",
       "    </tr>\n",
       "    <tr>\n",
       "      <th>25%</th>\n",
       "      <td>9.785510e+10</td>\n",
       "      <td>0.000000</td>\n",
       "      <td>4.000000</td>\n",
       "      <td>5.003633e+10</td>\n",
       "    </tr>\n",
       "    <tr>\n",
       "      <th>50%</th>\n",
       "      <td>9.785510e+10</td>\n",
       "      <td>0.000000</td>\n",
       "      <td>5.000000</td>\n",
       "      <td>9.785510e+10</td>\n",
       "    </tr>\n",
       "    <tr>\n",
       "      <th>75%</th>\n",
       "      <td>6.490000e+11</td>\n",
       "      <td>0.000000</td>\n",
       "      <td>5.000000</td>\n",
       "      <td>7.930000e+11</td>\n",
       "    </tr>\n",
       "    <tr>\n",
       "      <th>max</th>\n",
       "      <td>8.900000e+11</td>\n",
       "      <td>128.000000</td>\n",
       "      <td>5.000000</td>\n",
       "      <td>8.900000e+11</td>\n",
       "    </tr>\n",
       "  </tbody>\n",
       "</table>\n",
       "</div>"
      ],
      "text/plain": [
       "                ean  reviews.numHelpful  reviews.rating           upc\n",
       "count  2.951000e+03         5813.000000     7135.000000  7.299000e+03\n",
       "mean   2.986492e+11            0.746774        4.371969  3.866713e+11\n",
       "std    3.385510e+11            3.420246        1.038561  3.681693e+11\n",
       "min    2.710811e+10            0.000000        1.000000  1.781766e+10\n",
       "25%    9.785510e+10            0.000000        4.000000  5.003633e+10\n",
       "50%    9.785510e+10            0.000000        5.000000  9.785510e+10\n",
       "75%    6.490000e+11            0.000000        5.000000  7.930000e+11\n",
       "max    8.900000e+11          128.000000        5.000000  8.900000e+11"
      ]
     },
     "execution_count": 6,
     "metadata": {},
     "output_type": "execute_result"
    }
   ],
   "source": [
    "ecom_data.describe()"
   ]
  },
  {
   "cell_type": "code",
   "execution_count": 7,
   "metadata": {
    "ExecuteTime": {
     "end_time": "2019-11-15T01:19:03.808924Z",
     "start_time": "2019-11-15T01:19:03.780924Z"
    }
   },
   "outputs": [
    {
     "data": {
      "text/plain": [
       "id                        0\n",
       "asins                     0\n",
       "brand                     0\n",
       "categories                0\n",
       "colors                 2019\n",
       "dateAdded                 0\n",
       "dateUpdated               0\n",
       "dimension              1209\n",
       "ean                    4348\n",
       "imageURLs                 0\n",
       "keys                      0\n",
       "manufacturer           2667\n",
       "manufacturerNumber        0\n",
       "name                      0\n",
       "primaryCategories         0\n",
       "reviews.date             61\n",
       "reviews.dateSeen          0\n",
       "reviews.doRecommend    1391\n",
       "reviews.numHelpful     1486\n",
       "reviews.rating          164\n",
       "reviews.sourceURLs        0\n",
       "reviews.text              5\n",
       "reviews.title             4\n",
       "reviews.username          0\n",
       "sourceURLs                0\n",
       "upc                       0\n",
       "weight                    0\n",
       "dtype: int64"
      ]
     },
     "execution_count": 7,
     "metadata": {},
     "output_type": "execute_result"
    }
   ],
   "source": [
    "ecom_data.isnull().sum()"
   ]
  },
  {
   "cell_type": "markdown",
   "metadata": {},
   "source": [
    "### Analysis to be done to determine if the missing value columns are to be included in further analysis or not.\n",
    "\n",
    "> as per the https://developer.datafiniti.co/docs/product-data-schema description, prices.shipping is The shipping terms associated with this price. and if we see, the values include \"FREE shipping\" "
   ]
  },
  {
   "cell_type": "code",
   "execution_count": 8,
   "metadata": {
    "ExecuteTime": {
     "end_time": "2019-11-15T01:19:04.088956Z",
     "start_time": "2019-11-15T01:19:03.812958Z"
    }
   },
   "outputs": [
    {
     "data": {
      "image/png": "[encoded data removed]",
      "text/plain": [
       "<Figure size 576x288 with 2 Axes>"
      ]
     },
     "metadata": {
      "needs_background": "light"
     },
     "output_type": "display_data"
    }
   ],
   "source": [
    "plt.figure(figsize=(8,4))\n",
    "sns.heatmap(ecom_data.corr(),annot=True,cmap='cubehelix_r')\n",
    "plt.show()"
   ]
  },
  {
   "cell_type": "code",
   "execution_count": 9,
   "metadata": {
    "ExecuteTime": {
     "end_time": "2019-11-15T01:19:04.292955Z",
     "start_time": "2019-11-15T01:19:04.088956Z"
    }
   },
   "outputs": [
    {
     "ename": "KeyError",
     "evalue": "\"['prices.condition', 'prices.amountMax', 'prices.isSale', 'prices.amountMin', 'prices.merchant'] not in index\"",
     "output_type": "error",
     "traceback": [
      "\u001b[1;31m---------------------------------------------------------------------------\u001b[0m",
      "\u001b[1;31mKeyError\u001b[0m                                  Traceback (most recent call last)",
      "\u001b[1;32m<ipython-input-9-c65edf9be97d>\u001b[0m in \u001b[0;36m<module>\u001b[1;34m\u001b[0m\n\u001b[1;32m----> 1\u001b[1;33m \u001b[0mecom_data_new\u001b[0m \u001b[1;33m=\u001b[0m \u001b[0mecom_data\u001b[0m\u001b[1;33m[\u001b[0m\u001b[1;33m[\u001b[0m\u001b[1;34m'prices.amountMax'\u001b[0m\u001b[1;33m,\u001b[0m\u001b[1;34m'prices.amountMin'\u001b[0m\u001b[1;33m,\u001b[0m\u001b[1;34m'prices.condition'\u001b[0m\u001b[1;33m,\u001b[0m\u001b[1;34m'prices.isSale'\u001b[0m\u001b[1;33m,\u001b[0m\u001b[1;34m'prices.merchant'\u001b[0m\u001b[1;33m,\u001b[0m\u001b[1;34m'dateAdded'\u001b[0m\u001b[1;33m,\u001b[0m\u001b[1;34m'brand'\u001b[0m\u001b[1;33m,\u001b[0m\u001b[1;34m'manufacturer'\u001b[0m\u001b[1;33m,\u001b[0m\u001b[1;34m'name'\u001b[0m\u001b[1;33m,\u001b[0m\u001b[1;34m'primaryCategories'\u001b[0m\u001b[1;33m]\u001b[0m\u001b[1;33m]\u001b[0m\u001b[1;33m\u001b[0m\u001b[1;33m\u001b[0m\u001b[0m\n\u001b[0m",
      "\u001b[1;32m~\\Anaconda3\\lib\\site-packages\\pandas\\core\\frame.py\u001b[0m in \u001b[0;36m__getitem__\u001b[1;34m(self, key)\u001b[0m\n\u001b[0;32m   2932\u001b[0m                 \u001b[0mkey\u001b[0m \u001b[1;33m=\u001b[0m \u001b[0mlist\u001b[0m\u001b[1;33m(\u001b[0m\u001b[0mkey\u001b[0m\u001b[1;33m)\u001b[0m\u001b[1;33m\u001b[0m\u001b[1;33m\u001b[0m\u001b[0m\n\u001b[0;32m   2933\u001b[0m             indexer = self.loc._convert_to_indexer(key, axis=1,\n\u001b[1;32m-> 2934\u001b[1;33m                                                    raise_missing=True)\n\u001b[0m\u001b[0;32m   2935\u001b[0m \u001b[1;33m\u001b[0m\u001b[0m\n\u001b[0;32m   2936\u001b[0m         \u001b[1;31m# take() does not accept boolean indexers\u001b[0m\u001b[1;33m\u001b[0m\u001b[1;33m\u001b[0m\u001b[1;33m\u001b[0m\u001b[0m\n",
      "\u001b[1;32m~\\Anaconda3\\lib\\site-packages\\pandas\\core\\indexing.py\u001b[0m in \u001b[0;36m_convert_to_indexer\u001b[1;34m(self, obj, axis, is_setter, raise_missing)\u001b[0m\n\u001b[0;32m   1352\u001b[0m                 kwargs = {'raise_missing': True if is_setter else\n\u001b[0;32m   1353\u001b[0m                           raise_missing}\n\u001b[1;32m-> 1354\u001b[1;33m                 \u001b[1;32mreturn\u001b[0m \u001b[0mself\u001b[0m\u001b[1;33m.\u001b[0m\u001b[0m_get_listlike_indexer\u001b[0m\u001b[1;33m(\u001b[0m\u001b[0mobj\u001b[0m\u001b[1;33m,\u001b[0m \u001b[0maxis\u001b[0m\u001b[1;33m,\u001b[0m \u001b[1;33m**\u001b[0m\u001b[0mkwargs\u001b[0m\u001b[1;33m)\u001b[0m\u001b[1;33m[\u001b[0m\u001b[1;36m1\u001b[0m\u001b[1;33m]\u001b[0m\u001b[1;33m\u001b[0m\u001b[1;33m\u001b[0m\u001b[0m\n\u001b[0m\u001b[0;32m   1355\u001b[0m         \u001b[1;32melse\u001b[0m\u001b[1;33m:\u001b[0m\u001b[1;33m\u001b[0m\u001b[1;33m\u001b[0m\u001b[0m\n\u001b[0;32m   1356\u001b[0m             \u001b[1;32mtry\u001b[0m\u001b[1;33m:\u001b[0m\u001b[1;33m\u001b[0m\u001b[1;33m\u001b[0m\u001b[0m\n",
      "\u001b[1;32m~\\Anaconda3\\lib\\site-packages\\pandas\\core\\indexing.py\u001b[0m in \u001b[0;36m_get_listlike_indexer\u001b[1;34m(self, key, axis, raise_missing)\u001b[0m\n\u001b[0;32m   1159\u001b[0m         self._validate_read_indexer(keyarr, indexer,\n\u001b[0;32m   1160\u001b[0m                                     \u001b[0mo\u001b[0m\u001b[1;33m.\u001b[0m\u001b[0m_get_axis_number\u001b[0m\u001b[1;33m(\u001b[0m\u001b[0maxis\u001b[0m\u001b[1;33m)\u001b[0m\u001b[1;33m,\u001b[0m\u001b[1;33m\u001b[0m\u001b[1;33m\u001b[0m\u001b[0m\n\u001b[1;32m-> 1161\u001b[1;33m                                     raise_missing=raise_missing)\n\u001b[0m\u001b[0;32m   1162\u001b[0m         \u001b[1;32mreturn\u001b[0m \u001b[0mkeyarr\u001b[0m\u001b[1;33m,\u001b[0m \u001b[0mindexer\u001b[0m\u001b[1;33m\u001b[0m\u001b[1;33m\u001b[0m\u001b[0m\n\u001b[0;32m   1163\u001b[0m \u001b[1;33m\u001b[0m\u001b[0m\n",
      "\u001b[1;32m~\\Anaconda3\\lib\\site-packages\\pandas\\core\\indexing.py\u001b[0m in \u001b[0;36m_validate_read_indexer\u001b[1;34m(self, key, indexer, axis, raise_missing)\u001b[0m\n\u001b[0;32m   1250\u001b[0m             \u001b[1;32mif\u001b[0m \u001b[1;32mnot\u001b[0m\u001b[1;33m(\u001b[0m\u001b[0mself\u001b[0m\u001b[1;33m.\u001b[0m\u001b[0mname\u001b[0m \u001b[1;33m==\u001b[0m \u001b[1;34m'loc'\u001b[0m \u001b[1;32mand\u001b[0m \u001b[1;32mnot\u001b[0m \u001b[0mraise_missing\u001b[0m\u001b[1;33m)\u001b[0m\u001b[1;33m:\u001b[0m\u001b[1;33m\u001b[0m\u001b[1;33m\u001b[0m\u001b[0m\n\u001b[0;32m   1251\u001b[0m                 \u001b[0mnot_found\u001b[0m \u001b[1;33m=\u001b[0m \u001b[0mlist\u001b[0m\u001b[1;33m(\u001b[0m\u001b[0mset\u001b[0m\u001b[1;33m(\u001b[0m\u001b[0mkey\u001b[0m\u001b[1;33m)\u001b[0m \u001b[1;33m-\u001b[0m \u001b[0mset\u001b[0m\u001b[1;33m(\u001b[0m\u001b[0max\u001b[0m\u001b[1;33m)\u001b[0m\u001b[1;33m)\u001b[0m\u001b[1;33m\u001b[0m\u001b[1;33m\u001b[0m\u001b[0m\n\u001b[1;32m-> 1252\u001b[1;33m                 \u001b[1;32mraise\u001b[0m \u001b[0mKeyError\u001b[0m\u001b[1;33m(\u001b[0m\u001b[1;34m\"{} not in index\"\u001b[0m\u001b[1;33m.\u001b[0m\u001b[0mformat\u001b[0m\u001b[1;33m(\u001b[0m\u001b[0mnot_found\u001b[0m\u001b[1;33m)\u001b[0m\u001b[1;33m)\u001b[0m\u001b[1;33m\u001b[0m\u001b[1;33m\u001b[0m\u001b[0m\n\u001b[0m\u001b[0;32m   1253\u001b[0m \u001b[1;33m\u001b[0m\u001b[0m\n\u001b[0;32m   1254\u001b[0m             \u001b[1;31m# we skip the warning on Categorical/Interval\u001b[0m\u001b[1;33m\u001b[0m\u001b[1;33m\u001b[0m\u001b[1;33m\u001b[0m\u001b[0m\n",
      "\u001b[1;31mKeyError\u001b[0m: \"['prices.condition', 'prices.amountMax', 'prices.isSale', 'prices.amountMin', 'prices.merchant'] not in index\""
     ]
    }
   ],
   "source": [
    "ecom_data_new = ecom_data[['prices.amountMax','prices.amountMin','prices.condition','prices.isSale','prices.merchant','dateAdded','brand','manufacturer','name','primaryCategories']]"
   ]
  },
  {
   "cell_type": "code",
   "execution_count": null,
   "metadata": {
    "ExecuteTime": {
     "end_time": "2019-11-15T01:19:04.296957Z",
     "start_time": "2019-11-15T01:19:00.220Z"
    }
   },
   "outputs": [],
   "source": [
    "ecom_data_new.head()"
   ]
  },
  {
   "cell_type": "code",
   "execution_count": null,
   "metadata": {
    "ExecuteTime": {
     "end_time": "2019-11-15T01:19:04.300956Z",
     "start_time": "2019-11-15T01:19:00.226Z"
    }
   },
   "outputs": [],
   "source": [
    "ecom_data_new.info()"
   ]
  },
  {
   "cell_type": "code",
   "execution_count": null,
   "metadata": {
    "ExecuteTime": {
     "end_time": "2019-11-15T01:19:04.300956Z",
     "start_time": "2019-11-15T01:19:00.230Z"
    }
   },
   "outputs": [],
   "source": [
    "ecom_data_new.isnull().sum()\n",
    "# Since manufacturer and brand are the same, we can remove the manufacturer column"
   ]
  },
  {
   "cell_type": "code",
   "execution_count": null,
   "metadata": {
    "ExecuteTime": {
     "end_time": "2019-11-15T01:19:04.304934Z",
     "start_time": "2019-11-15T01:19:00.236Z"
    }
   },
   "outputs": [],
   "source": [
    "ecom_data_new = ecom_data_new.drop(['manufacturer'], axis=1)"
   ]
  },
  {
   "cell_type": "markdown",
   "metadata": {},
   "source": [
    "> We will be converting the columns values price.condition and price.isSale from string to boolean value 1 for True and 0 for False for easy manipulations and calculations"
   ]
  },
  {
   "cell_type": "code",
   "execution_count": null,
   "metadata": {
    "ExecuteTime": {
     "end_time": "2019-11-15T01:19:04.304934Z",
     "start_time": "2019-11-15T01:19:00.242Z"
    }
   },
   "outputs": [],
   "source": [
    "##ecom_data_new[['prices.isSale', 'prices.condition']] = (ecom_data_new[['prices.isSale', 'prices.condition']] == 'TRUE').astype(int)\n"
   ]
  },
  {
   "cell_type": "code",
   "execution_count": null,
   "metadata": {
    "ExecuteTime": {
     "end_time": "2019-11-15T01:19:04.308927Z",
     "start_time": "2019-11-15T01:19:00.250Z"
    }
   },
   "outputs": [],
   "source": [
    "ecom_data_new.info()\n",
    "# As we can now see that the datatype of the columns have changed to int data type"
   ]
  },
  {
   "cell_type": "code",
   "execution_count": null,
   "metadata": {
    "ExecuteTime": {
     "end_time": "2019-11-15T01:19:04.308927Z",
     "start_time": "2019-11-15T01:19:00.255Z"
    }
   },
   "outputs": [],
   "source": [
    "ecom_data_new.groupby('prices.merchant').size()\n",
    "# By sorting the data we can find the sources from which customers by most of the item and hearby removing the onces that wont impact our model.\n",
    "ecom_data_new.groupby('prices.merchant').size().sort_values(ascending=False)"
   ]
  },
  {
   "cell_type": "code",
   "execution_count": null,
   "metadata": {
    "ExecuteTime": {
     "end_time": "2019-11-15T01:19:04.312927Z",
     "start_time": "2019-11-15T01:19:00.263Z"
    }
   },
   "outputs": [],
   "source": [
    "output = ecom_data_new.groupby('prices.merchant').size().sort_values(ascending=False)"
   ]
  },
  {
   "cell_type": "code",
   "execution_count": null,
   "metadata": {
    "ExecuteTime": {
     "end_time": "2019-11-15T01:19:04.312927Z",
     "start_time": "2019-11-15T01:19:00.268Z"
    }
   },
   "outputs": [],
   "source": [
    "threshold_output = output[output>15]\n",
    "###"
   ]
  },
  {
   "cell_type": "markdown",
   "metadata": {},
   "source": [
    "> We have taken the websites from where people have purchased more than 15 times as per the data present in the data frame"
   ]
  },
  {
   "cell_type": "code",
   "execution_count": null,
   "metadata": {
    "ExecuteTime": {
     "end_time": "2019-11-15T01:19:04.316954Z",
     "start_time": "2019-11-15T01:19:00.273Z"
    }
   },
   "outputs": [],
   "source": [
    "threshold_output"
   ]
  },
  {
   "cell_type": "code",
   "execution_count": null,
   "metadata": {
    "ExecuteTime": {
     "end_time": "2019-11-15T01:19:04.316954Z",
     "start_time": "2019-11-15T01:19:00.278Z"
    }
   },
   "outputs": [],
   "source": [
    "values = ['Bestbuy.com','bhphotovideo.com','Walmart.com,Beach Camera','AMI Ventures Inc','buydig','Focus Camera','gear4less','echo-and-optics','Beach Audio Inc','Best Buy','UnbeatableSale','DealClock','electronic_express','World Wide Stereo','BuyVPC','Electronics Expo (Authorized Dealer)','Car Audio Closeout','Video & Audio Center','OneCall','Electronic Express','wwstereo']"
   ]
  },
  {
   "cell_type": "code",
   "execution_count": null,
   "metadata": {
    "ExecuteTime": {
     "end_time": "2019-11-15T01:19:04.320927Z",
     "start_time": "2019-11-15T01:19:00.284Z"
    }
   },
   "outputs": [],
   "source": [
    "ecom_data_upd = ecom_data_new.loc[ecom_data_new['prices.merchant'].isin(values)]\n",
    "#ecom_data_upd['brand']"
   ]
  },
  {
   "cell_type": "code",
   "execution_count": null,
   "metadata": {
    "ExecuteTime": {
     "end_time": "2019-11-15T01:19:04.320927Z",
     "start_time": "2019-11-15T01:19:00.289Z"
    }
   },
   "outputs": [],
   "source": [
    "ecom_data_upd[['prices.merchant']] = ecom_data_upd[['prices.merchant']].replace(['Best Buy'], ['Bestbuy.com'])\n",
    "ecom_data_upd.groupby('prices.merchant').size().sort_values(ascending=False)"
   ]
  },
  {
   "cell_type": "code",
   "execution_count": null,
   "metadata": {
    "ExecuteTime": {
     "end_time": "2019-11-15T01:19:04.324927Z",
     "start_time": "2019-11-15T01:19:00.294Z"
    }
   },
   "outputs": [],
   "source": [
    "#print(ecom_data_upd[['prices.condition','prices.isSale']])\n",
    "print(ecom_data_upd.groupby('prices.condition').size().sort_values(ascending=False))\n",
    "print(ecom_data_upd.groupby('prices.isSale').size().sort_values(ascending=False))\n",
    "#change the values of the column to Used which are not new\n",
    "ecom_data_upd[['prices.condition']] = ecom_data_upd[['prices.condition']].replace(['new'], ['New'])\n",
    "ecom_data_upd[['prices.condition']] = ecom_data_upd[['prices.condition']].replace(['New other (see details)'], ['Used'])\n",
    "ecom_data_upd[['prices.condition']] = ecom_data_upd[['prices.condition']].replace(['Refurbished'], ['Used'])\n",
    "ecom_data_upd[['prices.condition']] = ecom_data_upd[['prices.condition']].replace(['pre-owned'], ['Used'])\n",
    "ecom_data_upd[['prices.condition']] = ecom_data_upd[['prices.condition']].replace(['refurbished'], ['Used'])\n",
    "ecom_data_upd[['prices.condition']] = ecom_data_upd[['prices.condition']].replace(['Manufacturer refurbished'], ['Used'])\n",
    "print(ecom_data_upd.groupby('prices.condition').size().sort_values(ascending=False))\n",
    "\n",
    "ecom_data_upd['prices.condition'] = ecom_data_upd['prices.condition'].astype(str)\n",
    "ecom_data_upd['prices.isSale'] = ecom_data_upd['prices.isSale'].astype(str)\n",
    "ecom_data_upd.info()\n",
    "ecom_data_upd['cond_sale'] = ecom_data_upd['prices.condition'] + '_' + ecom_data_upd['prices.isSale']\n",
    "#df['AllTogether'] = df['Country'].str.cat(df[['State', 'City']], sep=' - ')\n",
    "#ecom_data_upd['cond_sale'] = ecom_data_upd['prices.condition'].str.cat(ecom_data_upd['prices.isSale'].str, sep ='_')\n",
    "print(ecom_data_upd['cond_sale'])\n",
    "ecom_data_upd = ecom_data_upd.drop(['prices.condition'], axis=1)\n",
    "ecom_data_upd = ecom_data_upd.drop(['prices.isSale'], axis=1)\n",
    "ecom_data_upd.info()"
   ]
  },
  {
   "cell_type": "code",
   "execution_count": null,
   "metadata": {
    "ExecuteTime": {
     "end_time": "2019-11-15T01:19:04.324927Z",
     "start_time": "2019-11-15T01:19:00.299Z"
    }
   },
   "outputs": [],
   "source": [
    "#Plot a histogram of the Iris dataset\n",
    "ecom_data_upd.hist()\n",
    "\n",
    "#Show the histogram using plt.show()\n",
    "plt.show()\n",
    "\n",
    "scatter_matrix(ecom_data_upd)\n",
    "plt.show()"
   ]
  },
  {
   "cell_type": "code",
   "execution_count": null,
   "metadata": {
    "ExecuteTime": {
     "end_time": "2019-11-15T01:19:04.328928Z",
     "start_time": "2019-11-15T01:19:00.306Z"
    }
   },
   "outputs": [],
   "source": [
    "for col in ['prices.merchant']:\n",
    "    ecom_data_upd[col] = ecom_data_upd[col].astype('category')\n",
    "\n",
    "ecom_data_upd.info()\n",
    "\n",
    "for col1 in ecom_data_upd:\n",
    "    plt.figure(figsize=(10,4))\n",
    "    sns.barplot(ecom_data_upd[col1].value_counts().values, ecom_data_upd[col1].value_counts().index)\n",
    "    plt.title(col1)\n",
    "    plt.tight_layout()\n",
    "    \n",
    "    "
   ]
  },
  {
   "cell_type": "code",
   "execution_count": null,
   "metadata": {},
   "outputs": [],
   "source": []
  }
 ],
 "metadata": {
  "kernelspec": {
   "display_name": "Python 3",
   "language": "python",
   "name": "python3"
  },
  "language_info": {
   "codemirror_mode": {
    "name": "ipython",
    "version": 3
   },
   "file_extension": ".py",
   "mimetype": "text/x-python",
   "name": "python",
   "nbconvert_exporter": "python",
   "pygments_lexer": "ipython3",
   "version": "3.7.3"
  },
  "varInspector": {
   "cols": {
    "lenName": 16,
    "lenType": 16,
    "lenVar": 40
   },
   "kernels_config": {
    "python": {
     "delete_cmd_postfix": "",
     "delete_cmd_prefix": "del ",
     "library": "var_list.py",
     "varRefreshCmd": "print(var_dic_list())"
    },
    "r": {
     "delete_cmd_postfix": ") ",
     "delete_cmd_prefix": "rm(",
     "library": "var_list.r",
     "varRefreshCmd": "cat(var_dic_list()) "
    }
   },
   "types_to_exclude": [
    "module",
    "function",
    "builtin_function_or_method",
    "instance",
    "_Feature"
   ],
   "window_display": false
  }
 },
 "nbformat": 4,
 "nbformat_minor": 4
}
