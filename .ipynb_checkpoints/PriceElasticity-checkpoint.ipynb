{
 "cells": [
  {
   "cell_type": "markdown",
   "metadata": {},
   "source": [
    "# Analysis on Price Elasticity"
   ]
  },
  {
   "cell_type": "markdown",
   "metadata": {},
   "source": [
    "## Exploratory Data Analysis\n",
    "When approaching a data mining problem, a data mining analyst will have a priori hypothesis (one formed beforehand) that he or she would like to test regarding the relationships between variables. However, analysts do not always have these notions of the expected relationships among variables. When given an unknown large database, analysts often prefer to use Exploratory Data Analysis(EDA) or graphical analysis to understand the data.\n",
    "\n",
<<<<<<< HEAD
    "### EDA \n",
    "Allows the analyst to identify the interesting subsets of the observations\n",
=======
<<<<<<< HEAD
    "### EDA \n",
    "Allows the analyst to identify the interesting subsets of the observations\n",
=======
    "### EDA allows the analyst to:\n",
    "\n",
    "We will be indentifying the interesting subsets of the observations\n",
>>>>>>> 7c3a18fcd465bec3454600c3d9b10c5eeabef157
>>>>>>> b0d584471e11d7e82561ff86bbef5fadf0392559
    "and develop an initial idea of possible associations among the predictors, as well as between the predictors and target variable."
   ]
  },
  {
   "cell_type": "code",
<<<<<<< HEAD
   "execution_count": 2,
   "metadata": {
    "ExecuteTime": {
     "end_time": "2019-11-14T14:59:05.354226Z",
     "start_time": "2019-11-14T14:59:05.349272Z"
=======
   "execution_count": 1,
   "metadata": {
    "ExecuteTime": {
<<<<<<< HEAD
     "end_time": "2019-11-10T15:02:08.591430Z",
     "start_time": "2019-11-10T15:02:07.159613Z"
=======
     "end_time": "2019-11-06T01:20:40.494898Z",
     "start_time": "2019-11-06T01:20:23.411455Z"
>>>>>>> 7c3a18fcd465bec3454600c3d9b10c5eeabef157
>>>>>>> b0d584471e11d7e82561ff86bbef5fadf0392559
    }
   },
   "outputs": [],
   "source": [
    "import pandas as pd\n",
    "from pandas.plotting import scatter_matrix\n",
    "import matplotlib.pyplot as plt\n",
    "import numpy as np\n",
    "from sklearn import datasets, model_selection\n",
    "import warnings\n",
    "warnings.filterwarnings('ignore')\n",
    "from sklearn import model_selection\n",
    "import seaborn as sns\n",
    "from scipy import stats\n",
    "import matplotlib.pyplot as plt"
   ]
  },
  {
   "cell_type": "code",
<<<<<<< HEAD
   "execution_count": 3,
   "metadata": {
    "ExecuteTime": {
     "end_time": "2019-11-14T14:59:06.559189Z",
     "start_time": "2019-11-14T14:59:06.009475Z"
=======
   "execution_count": 2,
   "metadata": {
    "ExecuteTime": {
<<<<<<< HEAD
     "end_time": "2019-11-10T15:02:09.155988Z",
     "start_time": "2019-11-10T15:02:08.591430Z"
=======
     "end_time": "2019-11-06T01:20:41.717961Z",
     "start_time": "2019-11-06T01:20:40.494898Z"
>>>>>>> 7c3a18fcd465bec3454600c3d9b10c5eeabef157
>>>>>>> b0d584471e11d7e82561ff86bbef5fadf0392559
    }
   },
   "outputs": [],
   "source": [
    "ecom_data = pd.read_csv('DatafinitiElectronicsProductsPricingData.csv')"
   ]
  },
  {
   "cell_type": "code",
<<<<<<< HEAD
   "execution_count": 4,
   "metadata": {
    "ExecuteTime": {
     "end_time": "2019-11-14T14:59:06.965391Z",
     "start_time": "2019-11-14T14:59:06.947404Z"
=======
   "execution_count": 3,
   "metadata": {
    "ExecuteTime": {
<<<<<<< HEAD
     "end_time": "2019-11-10T15:02:09.176791Z",
     "start_time": "2019-11-10T15:02:09.156951Z"
=======
     "end_time": "2019-11-06T01:20:41.767515Z",
     "start_time": "2019-11-06T01:20:41.717961Z"
>>>>>>> 7c3a18fcd465bec3454600c3d9b10c5eeabef157
>>>>>>> b0d584471e11d7e82561ff86bbef5fadf0392559
    }
   },
   "outputs": [
    {
     "data": {
      "text/html": [
       "<div>\n",
       "<style scoped>\n",
       "    .dataframe tbody tr th:only-of-type {\n",
       "        vertical-align: middle;\n",
       "    }\n",
       "\n",
       "    .dataframe tbody tr th {\n",
       "        vertical-align: top;\n",
       "    }\n",
       "\n",
       "    .dataframe thead th {\n",
       "        text-align: right;\n",
       "    }\n",
       "</style>\n",
       "<table border=\"1\" class=\"dataframe\">\n",
       "  <thead>\n",
       "    <tr style=\"text-align: right;\">\n",
       "      <th></th>\n",
       "      <th>id</th>\n",
       "      <th>prices.amountMax</th>\n",
       "      <th>prices.amountMin</th>\n",
       "      <th>prices.availability</th>\n",
       "      <th>prices.condition</th>\n",
       "      <th>prices.currency</th>\n",
       "      <th>prices.dateSeen</th>\n",
       "      <th>prices.isSale</th>\n",
       "      <th>prices.merchant</th>\n",
       "      <th>prices.shipping</th>\n",
       "      <th>...</th>\n",
       "      <th>ean</th>\n",
       "      <th>imageURLs</th>\n",
       "      <th>keys</th>\n",
       "      <th>manufacturer</th>\n",
       "      <th>manufacturerNumber</th>\n",
       "      <th>name</th>\n",
       "      <th>primaryCategories</th>\n",
       "      <th>sourceURLs</th>\n",
       "      <th>upc</th>\n",
       "      <th>weight</th>\n",
       "    </tr>\n",
       "  </thead>\n",
       "  <tbody>\n",
       "    <tr>\n",
       "      <th>0</th>\n",
       "      <td>AVphzgbJLJeJML43fA0o</td>\n",
       "      <td>104.99</td>\n",
       "      <td>104.99</td>\n",
       "      <td>Yes</td>\n",
       "      <td>New</td>\n",
       "      <td>USD</td>\n",
       "      <td>2017-03-30T06:00:00Z,2017-03-10T22:00:00Z,2017...</td>\n",
       "      <td>False</td>\n",
       "      <td>Bestbuy.com</td>\n",
       "      <td>NaN</td>\n",
       "      <td>...</td>\n",
       "      <td>NaN</td>\n",
       "      <td>https://images-na.ssl-images-amazon.com/images...</td>\n",
       "      <td>sanusvlf410b110inchsuperslimfullmotionmountfor...</td>\n",
       "      <td>NaN</td>\n",
       "      <td>VLF410B1</td>\n",
       "      <td>Sanus VLF410B1 10-Inch Super Slim Full-Motion ...</td>\n",
       "      <td>Electronics</td>\n",
       "      <td>https://www.amazon.com/Sanus-VLF410B1-10-Inch-...</td>\n",
       "      <td>7.94E+11</td>\n",
       "      <td>32.8 pounds</td>\n",
       "    </tr>\n",
       "    <tr>\n",
       "      <th>1</th>\n",
       "      <td>AVpgMuGwLJeJML43KY_c</td>\n",
       "      <td>69.00</td>\n",
       "      <td>64.99</td>\n",
       "      <td>In Stock</td>\n",
       "      <td>New</td>\n",
       "      <td>USD</td>\n",
       "      <td>2017-12-14T06:00:00Z</td>\n",
       "      <td>True</td>\n",
       "      <td>Walmart.com</td>\n",
       "      <td>Expedited</td>\n",
       "      <td>...</td>\n",
       "      <td>NaN</td>\n",
       "      <td>https://images-na.ssl-images-amazon.com/images...</td>\n",
       "      <td>boytone2500w21chhometheatersystemblackdiamond/...</td>\n",
       "      <td>Boytone</td>\n",
       "      <td>BT-210F</td>\n",
       "      <td>Boytone - 2500W 2.1-Ch. Home Theater System - ...</td>\n",
       "      <td>Electronics</td>\n",
       "      <td>http://reviews.bestbuy.com/3545/4784804/review...</td>\n",
       "      <td>6.42E+11</td>\n",
       "      <td>14 pounds</td>\n",
       "    </tr>\n",
       "    <tr>\n",
       "      <th>2</th>\n",
       "      <td>AVpgMuGwLJeJML43KY_c</td>\n",
       "      <td>69.00</td>\n",
       "      <td>69.00</td>\n",
       "      <td>In Stock</td>\n",
       "      <td>New</td>\n",
       "      <td>USD</td>\n",
       "      <td>2017-09-08T05:00:00Z</td>\n",
       "      <td>False</td>\n",
       "      <td>Walmart.com</td>\n",
       "      <td>Expedited</td>\n",
       "      <td>...</td>\n",
       "      <td>NaN</td>\n",
       "      <td>https://images-na.ssl-images-amazon.com/images...</td>\n",
       "      <td>boytone2500w21chhometheatersystemblackdiamond/...</td>\n",
       "      <td>Boytone</td>\n",
       "      <td>BT-210F</td>\n",
       "      <td>Boytone - 2500W 2.1-Ch. Home Theater System - ...</td>\n",
       "      <td>Electronics</td>\n",
       "      <td>http://reviews.bestbuy.com/3545/4784804/review...</td>\n",
       "      <td>6.42E+11</td>\n",
       "      <td>14 pounds</td>\n",
       "    </tr>\n",
       "    <tr>\n",
       "      <th>3</th>\n",
       "      <td>AVpgMuGwLJeJML43KY_c</td>\n",
       "      <td>69.99</td>\n",
       "      <td>69.99</td>\n",
       "      <td>Yes</td>\n",
       "      <td>New</td>\n",
       "      <td>USD</td>\n",
       "      <td>2017-10-10T05:00:00Z</td>\n",
       "      <td>False</td>\n",
       "      <td>Bestbuy.com</td>\n",
       "      <td>NaN</td>\n",
       "      <td>...</td>\n",
       "      <td>NaN</td>\n",
       "      <td>https://images-na.ssl-images-amazon.com/images...</td>\n",
       "      <td>boytone2500w21chhometheatersystemblackdiamond/...</td>\n",
       "      <td>Boytone</td>\n",
       "      <td>BT-210F</td>\n",
       "      <td>Boytone - 2500W 2.1-Ch. Home Theater System - ...</td>\n",
       "      <td>Electronics</td>\n",
       "      <td>http://reviews.bestbuy.com/3545/4784804/review...</td>\n",
       "      <td>6.42E+11</td>\n",
       "      <td>14 pounds</td>\n",
       "    </tr>\n",
       "    <tr>\n",
       "      <th>4</th>\n",
       "      <td>AVpgMuGwLJeJML43KY_c</td>\n",
       "      <td>66.99</td>\n",
       "      <td>66.99</td>\n",
       "      <td>Yes</td>\n",
       "      <td>New</td>\n",
       "      <td>USD</td>\n",
       "      <td>2017-08-28T07:00:00Z</td>\n",
       "      <td>False</td>\n",
       "      <td>Bestbuy.com</td>\n",
       "      <td>NaN</td>\n",
       "      <td>...</td>\n",
       "      <td>NaN</td>\n",
       "      <td>https://images-na.ssl-images-amazon.com/images...</td>\n",
       "      <td>boytone2500w21chhometheatersystemblackdiamond/...</td>\n",
       "      <td>Boytone</td>\n",
       "      <td>BT-210F</td>\n",
       "      <td>Boytone - 2500W 2.1-Ch. Home Theater System - ...</td>\n",
       "      <td>Electronics</td>\n",
       "      <td>http://reviews.bestbuy.com/3545/4784804/review...</td>\n",
       "      <td>6.42E+11</td>\n",
       "      <td>14 pounds</td>\n",
       "    </tr>\n",
       "  </tbody>\n",
       "</table>\n",
       "<p>5 rows × 26 columns</p>\n",
       "</div>"
      ],
      "text/plain": [
       "                     id  prices.amountMax  prices.amountMin  \\\n",
       "0  AVphzgbJLJeJML43fA0o            104.99            104.99   \n",
       "1  AVpgMuGwLJeJML43KY_c             69.00             64.99   \n",
       "2  AVpgMuGwLJeJML43KY_c             69.00             69.00   \n",
       "3  AVpgMuGwLJeJML43KY_c             69.99             69.99   \n",
       "4  AVpgMuGwLJeJML43KY_c             66.99             66.99   \n",
       "\n",
       "  prices.availability prices.condition prices.currency  \\\n",
       "0                 Yes              New             USD   \n",
       "1            In Stock              New             USD   \n",
       "2            In Stock              New             USD   \n",
       "3                 Yes              New             USD   \n",
       "4                 Yes              New             USD   \n",
       "\n",
       "                                     prices.dateSeen  prices.isSale  \\\n",
       "0  2017-03-30T06:00:00Z,2017-03-10T22:00:00Z,2017...          False   \n",
       "1                               2017-12-14T06:00:00Z           True   \n",
       "2                               2017-09-08T05:00:00Z          False   \n",
       "3                               2017-10-10T05:00:00Z          False   \n",
       "4                               2017-08-28T07:00:00Z          False   \n",
       "\n",
       "  prices.merchant prices.shipping  ...  ean  \\\n",
       "0     Bestbuy.com             NaN  ...  NaN   \n",
       "1     Walmart.com       Expedited  ...  NaN   \n",
       "2     Walmart.com       Expedited  ...  NaN   \n",
       "3     Bestbuy.com             NaN  ...  NaN   \n",
       "4     Bestbuy.com             NaN  ...  NaN   \n",
       "\n",
       "                                           imageURLs  \\\n",
       "0  https://images-na.ssl-images-amazon.com/images...   \n",
       "1  https://images-na.ssl-images-amazon.com/images...   \n",
       "2  https://images-na.ssl-images-amazon.com/images...   \n",
       "3  https://images-na.ssl-images-amazon.com/images...   \n",
       "4  https://images-na.ssl-images-amazon.com/images...   \n",
       "\n",
       "                                                keys manufacturer  \\\n",
       "0  sanusvlf410b110inchsuperslimfullmotionmountfor...          NaN   \n",
       "1  boytone2500w21chhometheatersystemblackdiamond/...      Boytone   \n",
       "2  boytone2500w21chhometheatersystemblackdiamond/...      Boytone   \n",
       "3  boytone2500w21chhometheatersystemblackdiamond/...      Boytone   \n",
       "4  boytone2500w21chhometheatersystemblackdiamond/...      Boytone   \n",
       "\n",
       "  manufacturerNumber                                               name  \\\n",
       "0           VLF410B1  Sanus VLF410B1 10-Inch Super Slim Full-Motion ...   \n",
       "1            BT-210F  Boytone - 2500W 2.1-Ch. Home Theater System - ...   \n",
       "2            BT-210F  Boytone - 2500W 2.1-Ch. Home Theater System - ...   \n",
       "3            BT-210F  Boytone - 2500W 2.1-Ch. Home Theater System - ...   \n",
       "4            BT-210F  Boytone - 2500W 2.1-Ch. Home Theater System - ...   \n",
       "\n",
       "  primaryCategories                                         sourceURLs  \\\n",
       "0       Electronics  https://www.amazon.com/Sanus-VLF410B1-10-Inch-...   \n",
       "1       Electronics  http://reviews.bestbuy.com/3545/4784804/review...   \n",
       "2       Electronics  http://reviews.bestbuy.com/3545/4784804/review...   \n",
       "3       Electronics  http://reviews.bestbuy.com/3545/4784804/review...   \n",
       "4       Electronics  http://reviews.bestbuy.com/3545/4784804/review...   \n",
       "\n",
       "        upc       weight  \n",
       "0  7.94E+11  32.8 pounds  \n",
       "1  6.42E+11    14 pounds  \n",
       "2  6.42E+11    14 pounds  \n",
       "3  6.42E+11    14 pounds  \n",
       "4  6.42E+11    14 pounds  \n",
       "\n",
       "[5 rows x 26 columns]"
      ]
     },
<<<<<<< HEAD
     "execution_count": 4,
=======
     "execution_count": 3,
>>>>>>> b0d584471e11d7e82561ff86bbef5fadf0392559
     "metadata": {},
     "output_type": "execute_result"
    }
   ],
   "source": [
    "ecom_data.head()"
   ]
  },
  {
   "cell_type": "code",
<<<<<<< HEAD
   "execution_count": 5,
   "metadata": {
    "ExecuteTime": {
     "end_time": "2019-11-14T14:59:08.586426Z",
     "start_time": "2019-11-14T14:59:08.573418Z"
=======
   "execution_count": 4,
   "metadata": {
    "ExecuteTime": {
<<<<<<< HEAD
     "end_time": "2019-11-10T15:02:09.195749Z",
     "start_time": "2019-11-10T15:02:09.177788Z"
=======
     "end_time": "2019-11-06T01:20:41.817016Z",
     "start_time": "2019-11-06T01:20:41.771510Z"
>>>>>>> 7c3a18fcd465bec3454600c3d9b10c5eeabef157
>>>>>>> b0d584471e11d7e82561ff86bbef5fadf0392559
    }
   },
   "outputs": [
    {
     "name": "stdout",
     "output_type": "stream",
     "text": [
      "<class 'pandas.core.frame.DataFrame'>\n",
      "RangeIndex: 7249 entries, 0 to 7248\n",
      "Data columns (total 26 columns):\n",
      "id                     7249 non-null object\n",
      "prices.amountMax       7249 non-null float64\n",
      "prices.amountMin       7249 non-null float64\n",
      "prices.availability    7249 non-null object\n",
      "prices.condition       7249 non-null object\n",
      "prices.currency        7249 non-null object\n",
      "prices.dateSeen        7249 non-null object\n",
      "prices.isSale          7249 non-null bool\n",
      "prices.merchant        7249 non-null object\n",
      "prices.shipping        4277 non-null object\n",
      "prices.sourceURLs      7249 non-null object\n",
      "asins                  7249 non-null object\n",
      "brand                  7249 non-null object\n",
      "categories             7249 non-null object\n",
      "dateAdded              7249 non-null object\n",
      "dateUpdated            7249 non-null object\n",
      "ean                    1543 non-null object\n",
      "imageURLs              7249 non-null object\n",
      "keys                   7249 non-null object\n",
      "manufacturer           3235 non-null object\n",
      "manufacturerNumber     7249 non-null object\n",
      "name                   7249 non-null object\n",
      "primaryCategories      7249 non-null object\n",
      "sourceURLs             7249 non-null object\n",
      "upc                    7249 non-null object\n",
      "weight                 7249 non-null object\n",
      "dtypes: bool(1), float64(2), object(23)\n",
      "memory usage: 1.4+ MB\n"
     ]
    }
   ],
   "source": [
    "#Summarize the dataset\n",
    "# Provides the number of rows and columns in a dataset. There are 26 columns in ecom_data dataset and a total of 7249 records.\n",
    "ecom_data.info()"
   ]
  },
  {
   "cell_type": "markdown",
   "metadata": {},
   "source": [
    "EAN - The EAN codes for this product. There may be more than one EAN in the list when a product has multiple variations,\n",
    "each using a different EAN.\n",
    "> we can drop the column since there will be no impact on the data modeling."
   ]
  },
  {
   "cell_type": "code",
<<<<<<< HEAD
   "execution_count": 6,
   "metadata": {
    "ExecuteTime": {
     "end_time": "2019-11-14T14:59:11.235258Z",
     "start_time": "2019-11-14T14:59:11.231269Z"
=======
   "execution_count": 5,
   "metadata": {
    "ExecuteTime": {
<<<<<<< HEAD
     "end_time": "2019-11-10T15:02:09.202720Z",
     "start_time": "2019-11-10T15:02:09.197734Z"
=======
     "end_time": "2019-11-06T01:20:41.832086Z",
     "start_time": "2019-11-06T01:20:41.817016Z"
>>>>>>> 7c3a18fcd465bec3454600c3d9b10c5eeabef157
>>>>>>> b0d584471e11d7e82561ff86bbef5fadf0392559
    }
   },
   "outputs": [
    {
     "name": "stdout",
     "output_type": "stream",
     "text": [
      "(7249, 26)\n"
     ]
    }
   ],
   "source": [
    "print(ecom_data.shape)"
   ]
  },
  {
   "cell_type": "code",
<<<<<<< HEAD
   "execution_count": 7,
   "metadata": {
    "ExecuteTime": {
     "end_time": "2019-11-14T14:59:14.863401Z",
     "start_time": "2019-11-14T14:59:14.849391Z"
=======
   "execution_count": 6,
   "metadata": {
    "ExecuteTime": {
<<<<<<< HEAD
     "end_time": "2019-11-10T15:02:09.219678Z",
     "start_time": "2019-11-10T15:02:09.204718Z"
=======
     "end_time": "2019-11-06T01:20:41.882449Z",
     "start_time": "2019-11-06T01:20:41.832086Z"
>>>>>>> 7c3a18fcd465bec3454600c3d9b10c5eeabef157
>>>>>>> b0d584471e11d7e82561ff86bbef5fadf0392559
    }
   },
   "outputs": [
    {
     "data": {
      "text/html": [
       "<div>\n",
       "<style scoped>\n",
       "    .dataframe tbody tr th:only-of-type {\n",
       "        vertical-align: middle;\n",
       "    }\n",
       "\n",
       "    .dataframe tbody tr th {\n",
       "        vertical-align: top;\n",
       "    }\n",
       "\n",
       "    .dataframe thead th {\n",
       "        text-align: right;\n",
       "    }\n",
       "</style>\n",
       "<table border=\"1\" class=\"dataframe\">\n",
       "  <thead>\n",
       "    <tr style=\"text-align: right;\">\n",
       "      <th></th>\n",
       "      <th>prices.amountMax</th>\n",
       "      <th>prices.amountMin</th>\n",
       "    </tr>\n",
       "  </thead>\n",
       "  <tbody>\n",
       "    <tr>\n",
       "      <th>count</th>\n",
       "      <td>7249.000000</td>\n",
       "      <td>7249.000000</td>\n",
       "    </tr>\n",
       "    <tr>\n",
       "      <th>mean</th>\n",
       "      <td>495.530610</td>\n",
       "      <td>463.963005</td>\n",
       "    </tr>\n",
       "    <tr>\n",
       "      <th>std</th>\n",
       "      <td>763.599387</td>\n",
       "      <td>680.504507</td>\n",
       "    </tr>\n",
       "    <tr>\n",
       "      <th>min</th>\n",
       "      <td>1.000000</td>\n",
       "      <td>1.000000</td>\n",
       "    </tr>\n",
       "    <tr>\n",
       "      <th>25%</th>\n",
       "      <td>79.990000</td>\n",
       "      <td>79.950000</td>\n",
       "    </tr>\n",
       "    <tr>\n",
       "      <th>50%</th>\n",
       "      <td>198.990000</td>\n",
       "      <td>189.990000</td>\n",
       "    </tr>\n",
       "    <tr>\n",
       "      <th>75%</th>\n",
       "      <td>494.990000</td>\n",
       "      <td>479.990000</td>\n",
       "    </tr>\n",
       "    <tr>\n",
       "      <th>max</th>\n",
       "      <td>6999.990000</td>\n",
       "      <td>5999.990000</td>\n",
       "    </tr>\n",
       "  </tbody>\n",
       "</table>\n",
       "</div>"
      ],
      "text/plain": [
       "       prices.amountMax  prices.amountMin\n",
       "count       7249.000000       7249.000000\n",
       "mean         495.530610        463.963005\n",
       "std          763.599387        680.504507\n",
       "min            1.000000          1.000000\n",
       "25%           79.990000         79.950000\n",
       "50%          198.990000        189.990000\n",
       "75%          494.990000        479.990000\n",
       "max         6999.990000       5999.990000"
      ]
     },
<<<<<<< HEAD
     "execution_count": 7,
=======
     "execution_count": 6,
>>>>>>> b0d584471e11d7e82561ff86bbef5fadf0392559
     "metadata": {},
     "output_type": "execute_result"
    }
   ],
   "source": [
    "ecom_data.describe()"
   ]
  },
  {
   "cell_type": "code",
<<<<<<< HEAD
   "execution_count": 8,
   "metadata": {
    "ExecuteTime": {
     "end_time": "2019-11-14T14:59:20.455834Z",
     "start_time": "2019-11-14T14:59:20.442869Z"
=======
   "execution_count": 7,
   "metadata": {
    "ExecuteTime": {
<<<<<<< HEAD
     "end_time": "2019-11-10T15:02:09.241617Z",
     "start_time": "2019-11-10T15:02:09.223665Z"
=======
     "end_time": "2019-11-06T01:20:41.915221Z",
     "start_time": "2019-11-06T01:20:41.882449Z"
>>>>>>> 7c3a18fcd465bec3454600c3d9b10c5eeabef157
>>>>>>> b0d584471e11d7e82561ff86bbef5fadf0392559
    }
   },
   "outputs": [
    {
     "data": {
      "text/plain": [
       "id                        0\n",
       "prices.amountMax          0\n",
       "prices.amountMin          0\n",
       "prices.availability       0\n",
       "prices.condition          0\n",
       "prices.currency           0\n",
       "prices.dateSeen           0\n",
       "prices.isSale             0\n",
       "prices.merchant           0\n",
       "prices.shipping        2972\n",
       "prices.sourceURLs         0\n",
       "asins                     0\n",
       "brand                     0\n",
       "categories                0\n",
       "dateAdded                 0\n",
       "dateUpdated               0\n",
       "ean                    5706\n",
       "imageURLs                 0\n",
       "keys                      0\n",
       "manufacturer           4014\n",
       "manufacturerNumber        0\n",
       "name                      0\n",
       "primaryCategories         0\n",
       "sourceURLs                0\n",
       "upc                       0\n",
       "weight                    0\n",
       "dtype: int64"
      ]
     },
<<<<<<< HEAD
     "execution_count": 8,
=======
     "execution_count": 7,
>>>>>>> b0d584471e11d7e82561ff86bbef5fadf0392559
     "metadata": {},
     "output_type": "execute_result"
    }
   ],
   "source": [
    "ecom_data.isnull().sum()"
   ]
  },
  {
   "cell_type": "markdown",
   "metadata": {},
   "source": [
    "### Analysis to be done to determine if the missing value columns are to be included in further analysis or not.\n",
    "\n",
    "> as per the https://developer.datafiniti.co/docs/product-data-schema description, prices.shipping is The shipping terms associated with this price. and if we see, the values include \"FREE shipping\" "
   ]
  },
  {
   "cell_type": "code",
<<<<<<< HEAD
   "execution_count": 9,
   "metadata": {
    "ExecuteTime": {
     "end_time": "2019-11-14T14:59:23.602726Z",
     "start_time": "2019-11-14T14:59:23.449439Z"
=======
   "execution_count": 8,
   "metadata": {
    "ExecuteTime": {
<<<<<<< HEAD
     "end_time": "2019-11-10T15:02:09.487870Z",
     "start_time": "2019-11-10T15:02:09.244612Z"
=======
     "end_time": "2019-11-06T01:20:42.560458Z",
     "start_time": "2019-11-06T01:20:41.919182Z"
>>>>>>> 7c3a18fcd465bec3454600c3d9b10c5eeabef157
>>>>>>> b0d584471e11d7e82561ff86bbef5fadf0392559
    }
   },
   "outputs": [
    {
     "data": {
      "image/png": "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\n",
      "text/plain": [
       "<Figure size 576x288 with 2 Axes>"
      ]
     },
     "metadata": {
      "needs_background": "light"
     },
     "output_type": "display_data"
    }
   ],
   "source": [
    "plt.figure(figsize=(8,4))\n",
    "sns.heatmap(ecom_data.corr(),annot=True,cmap='cubehelix_r')\n",
    "plt.show()"
   ]
  },
  {
   "cell_type": "code",
<<<<<<< HEAD
   "execution_count": 10,
   "metadata": {
    "ExecuteTime": {
     "end_time": "2019-11-14T15:00:01.696866Z",
     "start_time": "2019-11-14T15:00:01.691879Z"
=======
   "execution_count": 9,
   "metadata": {
    "ExecuteTime": {
<<<<<<< HEAD
     "end_time": "2019-11-10T15:02:09.493844Z",
     "start_time": "2019-11-10T15:02:09.488835Z"
=======
     "end_time": "2019-11-06T01:20:42.585760Z",
     "start_time": "2019-11-06T01:20:42.568410Z"
>>>>>>> 7c3a18fcd465bec3454600c3d9b10c5eeabef157
>>>>>>> b0d584471e11d7e82561ff86bbef5fadf0392559
    }
   },
   "outputs": [],
   "source": [
    "ecom_data_new = ecom_data[['prices.amountMax','prices.amountMin','prices.condition','prices.isSale','prices.merchant','dateAdded','brand','manufacturer','name','primaryCategories']]"
   ]
  },
  {
   "cell_type": "code",
<<<<<<< HEAD
   "execution_count": 11,
   "metadata": {
    "ExecuteTime": {
     "end_time": "2019-11-14T15:00:02.635494Z",
     "start_time": "2019-11-14T15:00:02.625475Z"
=======
   "execution_count": 10,
   "metadata": {
    "ExecuteTime": {
<<<<<<< HEAD
     "end_time": "2019-11-10T15:02:09.510777Z",
     "start_time": "2019-11-10T15:02:09.494818Z"
=======
     "end_time": "2019-11-06T01:20:42.616161Z",
     "start_time": "2019-11-06T01:20:42.589719Z"
>>>>>>> 7c3a18fcd465bec3454600c3d9b10c5eeabef157
>>>>>>> b0d584471e11d7e82561ff86bbef5fadf0392559
    }
   },
   "outputs": [
    {
     "data": {
      "text/html": [
       "<div>\n",
       "<style scoped>\n",
       "    .dataframe tbody tr th:only-of-type {\n",
       "        vertical-align: middle;\n",
       "    }\n",
       "\n",
       "    .dataframe tbody tr th {\n",
       "        vertical-align: top;\n",
       "    }\n",
       "\n",
       "    .dataframe thead th {\n",
       "        text-align: right;\n",
       "    }\n",
       "</style>\n",
       "<table border=\"1\" class=\"dataframe\">\n",
       "  <thead>\n",
       "    <tr style=\"text-align: right;\">\n",
       "      <th></th>\n",
       "      <th>prices.amountMax</th>\n",
       "      <th>prices.amountMin</th>\n",
       "      <th>prices.condition</th>\n",
       "      <th>prices.isSale</th>\n",
       "      <th>prices.merchant</th>\n",
       "      <th>dateAdded</th>\n",
       "      <th>brand</th>\n",
       "      <th>manufacturer</th>\n",
       "      <th>name</th>\n",
       "      <th>primaryCategories</th>\n",
       "    </tr>\n",
       "  </thead>\n",
       "  <tbody>\n",
       "    <tr>\n",
       "      <th>0</th>\n",
       "      <td>104.99</td>\n",
       "      <td>104.99</td>\n",
       "      <td>New</td>\n",
       "      <td>False</td>\n",
       "      <td>Bestbuy.com</td>\n",
       "      <td>2015-04-13T12:00:51Z</td>\n",
       "      <td>Sanus</td>\n",
       "      <td>NaN</td>\n",
       "      <td>Sanus VLF410B1 10-Inch Super Slim Full-Motion ...</td>\n",
       "      <td>Electronics</td>\n",
       "    </tr>\n",
       "    <tr>\n",
       "      <th>1</th>\n",
       "      <td>69.00</td>\n",
       "      <td>64.99</td>\n",
       "      <td>New</td>\n",
       "      <td>True</td>\n",
       "      <td>Walmart.com</td>\n",
       "      <td>2015-05-18T14:14:56Z</td>\n",
       "      <td>Boytone</td>\n",
       "      <td>Boytone</td>\n",
       "      <td>Boytone - 2500W 2.1-Ch. Home Theater System - ...</td>\n",
       "      <td>Electronics</td>\n",
       "    </tr>\n",
       "    <tr>\n",
       "      <th>2</th>\n",
       "      <td>69.00</td>\n",
       "      <td>69.00</td>\n",
       "      <td>New</td>\n",
       "      <td>False</td>\n",
       "      <td>Walmart.com</td>\n",
       "      <td>2015-05-18T14:14:56Z</td>\n",
       "      <td>Boytone</td>\n",
       "      <td>Boytone</td>\n",
       "      <td>Boytone - 2500W 2.1-Ch. Home Theater System - ...</td>\n",
       "      <td>Electronics</td>\n",
       "    </tr>\n",
       "    <tr>\n",
       "      <th>3</th>\n",
       "      <td>69.99</td>\n",
       "      <td>69.99</td>\n",
       "      <td>New</td>\n",
       "      <td>False</td>\n",
       "      <td>Bestbuy.com</td>\n",
       "      <td>2015-05-18T14:14:56Z</td>\n",
       "      <td>Boytone</td>\n",
       "      <td>Boytone</td>\n",
       "      <td>Boytone - 2500W 2.1-Ch. Home Theater System - ...</td>\n",
       "      <td>Electronics</td>\n",
       "    </tr>\n",
       "    <tr>\n",
       "      <th>4</th>\n",
       "      <td>66.99</td>\n",
       "      <td>66.99</td>\n",
       "      <td>New</td>\n",
       "      <td>False</td>\n",
       "      <td>Bestbuy.com</td>\n",
       "      <td>2015-05-18T14:14:56Z</td>\n",
       "      <td>Boytone</td>\n",
       "      <td>Boytone</td>\n",
       "      <td>Boytone - 2500W 2.1-Ch. Home Theater System - ...</td>\n",
       "      <td>Electronics</td>\n",
       "    </tr>\n",
       "  </tbody>\n",
       "</table>\n",
       "</div>"
      ],
      "text/plain": [
       "   prices.amountMax  prices.amountMin prices.condition  prices.isSale  \\\n",
       "0            104.99            104.99              New          False   \n",
       "1             69.00             64.99              New           True   \n",
       "2             69.00             69.00              New          False   \n",
       "3             69.99             69.99              New          False   \n",
       "4             66.99             66.99              New          False   \n",
       "\n",
       "  prices.merchant             dateAdded    brand manufacturer  \\\n",
       "0     Bestbuy.com  2015-04-13T12:00:51Z    Sanus          NaN   \n",
       "1     Walmart.com  2015-05-18T14:14:56Z  Boytone      Boytone   \n",
       "2     Walmart.com  2015-05-18T14:14:56Z  Boytone      Boytone   \n",
       "3     Bestbuy.com  2015-05-18T14:14:56Z  Boytone      Boytone   \n",
       "4     Bestbuy.com  2015-05-18T14:14:56Z  Boytone      Boytone   \n",
       "\n",
       "                                                name primaryCategories  \n",
       "0  Sanus VLF410B1 10-Inch Super Slim Full-Motion ...       Electronics  \n",
       "1  Boytone - 2500W 2.1-Ch. Home Theater System - ...       Electronics  \n",
       "2  Boytone - 2500W 2.1-Ch. Home Theater System - ...       Electronics  \n",
       "3  Boytone - 2500W 2.1-Ch. Home Theater System - ...       Electronics  \n",
       "4  Boytone - 2500W 2.1-Ch. Home Theater System - ...       Electronics  "
      ]
     },
<<<<<<< HEAD
     "execution_count": 11,
=======
     "execution_count": 10,
>>>>>>> b0d584471e11d7e82561ff86bbef5fadf0392559
     "metadata": {},
     "output_type": "execute_result"
    }
   ],
   "source": [
    "ecom_data_new.head()"
   ]
  },
  {
   "cell_type": "code",
<<<<<<< HEAD
   "execution_count": 12,
   "metadata": {
    "ExecuteTime": {
     "end_time": "2019-11-14T15:00:05.389376Z",
     "start_time": "2019-11-14T15:00:05.381397Z"
=======
   "execution_count": 11,
   "metadata": {
    "ExecuteTime": {
<<<<<<< HEAD
     "end_time": "2019-11-10T15:02:09.521779Z",
     "start_time": "2019-11-10T15:02:09.511773Z"
=======
     "end_time": "2019-11-06T01:20:42.651370Z",
     "start_time": "2019-11-06T01:20:42.620120Z"
>>>>>>> 7c3a18fcd465bec3454600c3d9b10c5eeabef157
>>>>>>> b0d584471e11d7e82561ff86bbef5fadf0392559
    }
   },
   "outputs": [
    {
     "name": "stdout",
     "output_type": "stream",
     "text": [
      "<class 'pandas.core.frame.DataFrame'>\n",
      "RangeIndex: 7249 entries, 0 to 7248\n",
      "Data columns (total 10 columns):\n",
      "prices.amountMax     7249 non-null float64\n",
      "prices.amountMin     7249 non-null float64\n",
      "prices.condition     7249 non-null object\n",
      "prices.isSale        7249 non-null bool\n",
      "prices.merchant      7249 non-null object\n",
      "dateAdded            7249 non-null object\n",
      "brand                7249 non-null object\n",
      "manufacturer         3235 non-null object\n",
      "name                 7249 non-null object\n",
      "primaryCategories    7249 non-null object\n",
      "dtypes: bool(1), float64(2), object(7)\n",
      "memory usage: 516.9+ KB\n"
     ]
    }
   ],
   "source": [
    "ecom_data_new.info()"
   ]
  },
  {
   "cell_type": "code",
<<<<<<< HEAD
   "execution_count": 13,
   "metadata": {
    "ExecuteTime": {
     "end_time": "2019-11-14T15:00:13.089356Z",
     "start_time": "2019-11-14T15:00:13.083328Z"
=======
   "execution_count": 12,
   "metadata": {
    "ExecuteTime": {
<<<<<<< HEAD
     "end_time": "2019-11-10T15:02:09.531720Z",
     "start_time": "2019-11-10T15:02:09.522743Z"
=======
     "end_time": "2019-11-06T01:20:42.696163Z",
     "start_time": "2019-11-06T01:20:42.655375Z"
>>>>>>> 7c3a18fcd465bec3454600c3d9b10c5eeabef157
>>>>>>> b0d584471e11d7e82561ff86bbef5fadf0392559
    }
   },
   "outputs": [
    {
     "data": {
<<<<<<< HEAD
=======
<<<<<<< HEAD
>>>>>>> b0d584471e11d7e82561ff86bbef5fadf0392559
      "text/plain": [
       "prices.amountMax        0\n",
       "prices.amountMin        0\n",
       "prices.condition        0\n",
       "prices.isSale           0\n",
       "prices.merchant         0\n",
       "dateAdded               0\n",
       "brand                   0\n",
       "manufacturer         4014\n",
       "name                    0\n",
       "primaryCategories       0\n",
       "dtype: int64"
<<<<<<< HEAD
      ]
     },
     "execution_count": 13,
=======
=======
      "text/html": [
       "<div>\n",
       "<style scoped>\n",
       "    .dataframe tbody tr th:only-of-type {\n",
       "        vertical-align: middle;\n",
       "    }\n",
       "\n",
       "    .dataframe tbody tr th {\n",
       "        vertical-align: top;\n",
       "    }\n",
       "\n",
       "    .dataframe thead th {\n",
       "        text-align: right;\n",
       "    }\n",
       "</style>\n",
       "<table border=\"1\" class=\"dataframe\">\n",
       "  <thead>\n",
       "    <tr style=\"text-align: right;\">\n",
       "      <th></th>\n",
       "      <th>prices.amountMax</th>\n",
       "      <th>prices.amountMin</th>\n",
       "    </tr>\n",
       "  </thead>\n",
       "  <tbody>\n",
       "    <tr>\n",
       "      <th>count</th>\n",
       "      <td>7249.000000</td>\n",
       "      <td>7249.000000</td>\n",
       "    </tr>\n",
       "    <tr>\n",
       "      <th>mean</th>\n",
       "      <td>495.530610</td>\n",
       "      <td>463.963005</td>\n",
       "    </tr>\n",
       "    <tr>\n",
       "      <th>std</th>\n",
       "      <td>763.599387</td>\n",
       "      <td>680.504507</td>\n",
       "    </tr>\n",
       "    <tr>\n",
       "      <th>min</th>\n",
       "      <td>1.000000</td>\n",
       "      <td>1.000000</td>\n",
       "    </tr>\n",
       "    <tr>\n",
       "      <th>25%</th>\n",
       "      <td>79.990000</td>\n",
       "      <td>79.950000</td>\n",
       "    </tr>\n",
       "    <tr>\n",
       "      <th>50%</th>\n",
       "      <td>198.990000</td>\n",
       "      <td>189.990000</td>\n",
       "    </tr>\n",
       "    <tr>\n",
       "      <th>75%</th>\n",
       "      <td>494.990000</td>\n",
       "      <td>479.990000</td>\n",
       "    </tr>\n",
       "    <tr>\n",
       "      <th>max</th>\n",
       "      <td>6999.990000</td>\n",
       "      <td>5999.990000</td>\n",
       "    </tr>\n",
       "  </tbody>\n",
       "</table>\n",
       "</div>"
      ],
      "text/plain": [
       "       prices.amountMax  prices.amountMin\n",
       "count       7249.000000       7249.000000\n",
       "mean         495.530610        463.963005\n",
       "std          763.599387        680.504507\n",
       "min            1.000000          1.000000\n",
       "25%           79.990000         79.950000\n",
       "50%          198.990000        189.990000\n",
       "75%          494.990000        479.990000\n",
       "max         6999.990000       5999.990000"
>>>>>>> 7c3a18fcd465bec3454600c3d9b10c5eeabef157
      ]
     },
     "execution_count": 12,
>>>>>>> b0d584471e11d7e82561ff86bbef5fadf0392559
     "metadata": {},
     "output_type": "execute_result"
    }
   ],
   "source": [
<<<<<<< HEAD
    "ecom_data_new.isnull().sum()\n",
    "# Since manufacturer and brand are the same, we can remove the manufacturer column"
=======
<<<<<<< HEAD
    "ecom_data_new.isnull().sum()\n",
    "# Since manufacturer and brand are the same, we can remove the manufacturer column"
=======
    "ecom_data_new.describe()"
>>>>>>> 7c3a18fcd465bec3454600c3d9b10c5eeabef157
>>>>>>> b0d584471e11d7e82561ff86bbef5fadf0392559
   ]
  },
  {
   "cell_type": "code",
<<<<<<< HEAD
   "execution_count": 14,
   "metadata": {
    "ExecuteTime": {
     "end_time": "2019-11-14T15:00:16.247485Z",
     "start_time": "2019-11-14T15:00:16.242533Z"
=======
   "execution_count": 13,
   "metadata": {
    "ExecuteTime": {
<<<<<<< HEAD
     "end_time": "2019-11-10T15:02:09.538708Z",
     "start_time": "2019-11-10T15:02:09.532718Z"
>>>>>>> b0d584471e11d7e82561ff86bbef5fadf0392559
    }
   },
   "outputs": [],
   "source": [
    "ecom_data_new = ecom_data_new.drop(['manufacturer'], axis=1)"
   ]
  },
  {
   "cell_type": "markdown",
   "metadata": {},
   "source": [
    "> We will be converting the columns values price.condition and price.isSale from string to boolean value 1 for True and 0 for False for easy manipulations and calculations"
   ]
  },
  {
   "cell_type": "code",
<<<<<<< HEAD
   "execution_count": 15,
   "metadata": {
    "ExecuteTime": {
     "end_time": "2019-11-14T15:07:06.905811Z",
     "start_time": "2019-11-14T15:07:06.902797Z"
=======
   "execution_count": 14,
   "metadata": {
    "ExecuteTime": {
     "end_time": "2019-11-10T15:02:09.550703Z",
     "start_time": "2019-11-10T15:02:09.540698Z"
>>>>>>> b0d584471e11d7e82561ff86bbef5fadf0392559
    }
   },
   "outputs": [],
   "source": [
<<<<<<< HEAD
    "##ecom_data_new[['prices.isSale', 'prices.condition']] = (ecom_data_new[['prices.isSale', 'prices.condition']] == 'TRUE').astype(int)\n"
=======
    "ecom_data_new[['prices.isSale', 'prices.condition']] = (ecom_data_new[['prices.isSale', 'prices.condition']] == 'TRUE').astype(int)\n",
    "\n",
    "#ecom_data_new.groupby('prices.merchant').transform('size') > 10"
>>>>>>> b0d584471e11d7e82561ff86bbef5fadf0392559
   ]
  },
  {
   "cell_type": "code",
<<<<<<< HEAD
   "execution_count": 16,
   "metadata": {
    "ExecuteTime": {
     "end_time": "2019-11-14T15:07:07.777396Z",
     "start_time": "2019-11-14T15:07:07.769390Z"
=======
   "execution_count": 15,
   "metadata": {
    "ExecuteTime": {
     "end_time": "2019-11-10T15:02:09.561672Z",
     "start_time": "2019-11-10T15:02:09.551668Z"
>>>>>>> b0d584471e11d7e82561ff86bbef5fadf0392559
    }
   },
   "outputs": [
    {
     "name": "stdout",
     "output_type": "stream",
     "text": [
      "<class 'pandas.core.frame.DataFrame'>\n",
      "RangeIndex: 7249 entries, 0 to 7248\n",
      "Data columns (total 9 columns):\n",
      "prices.amountMax     7249 non-null float64\n",
      "prices.amountMin     7249 non-null float64\n",
<<<<<<< HEAD
      "prices.condition     7249 non-null object\n",
      "prices.isSale        7249 non-null bool\n",
=======
      "prices.condition     7249 non-null int32\n",
      "prices.isSale        7249 non-null int32\n",
>>>>>>> b0d584471e11d7e82561ff86bbef5fadf0392559
      "prices.merchant      7249 non-null object\n",
      "dateAdded            7249 non-null object\n",
      "brand                7249 non-null object\n",
      "name                 7249 non-null object\n",
      "primaryCategories    7249 non-null object\n",
<<<<<<< HEAD
      "dtypes: bool(1), float64(2), object(6)\n",
      "memory usage: 460.2+ KB\n"
=======
      "dtypes: float64(2), int32(2), object(5)\n",
      "memory usage: 453.1+ KB\n"
>>>>>>> b0d584471e11d7e82561ff86bbef5fadf0392559
     ]
    }
   ],
   "source": [
    "ecom_data_new.info()\n",
    "# As we can now see that the datatype of the columns have changed to int data type"
   ]
  },
  {
   "cell_type": "code",
<<<<<<< HEAD
   "execution_count": 17,
   "metadata": {
    "ExecuteTime": {
     "end_time": "2019-11-14T15:07:09.731216Z",
     "start_time": "2019-11-14T15:07:09.722240Z"
=======
   "execution_count": 20,
   "metadata": {
    "ExecuteTime": {
     "end_time": "2019-11-10T23:38:46.837044Z",
     "start_time": "2019-11-10T23:38:46.801093Z"
=======
     "end_time": "2019-11-06T01:20:42.722166Z",
     "start_time": "2019-11-06T01:20:42.700145Z"
>>>>>>> 7c3a18fcd465bec3454600c3d9b10c5eeabef157
>>>>>>> b0d584471e11d7e82561ff86bbef5fadf0392559
    }
   },
   "outputs": [
    {
     "data": {
      "text/plain": [
<<<<<<< HEAD
=======
<<<<<<< HEAD
>>>>>>> b0d584471e11d7e82561ff86bbef5fadf0392559
       "prices.merchant\n",
       "Bestbuy.com                             2806\n",
       "bhphotovideo.com                        1509\n",
       "Walmart.com                              664\n",
       "Beach Camera                             201\n",
       "AMI Ventures Inc                          63\n",
       "buydig                                    53\n",
       "Focus Camera                              48\n",
       "gear4less                                 43\n",
       "echo-and-optics                           40\n",
       "Beach Audio Inc                           39\n",
       "Best Buy                                  38\n",
       "UnbeatableSale                            33\n",
       "DealClock                                 32\n",
       "electronic_express                        28\n",
       "World Wide Stereo                         28\n",
       "BuyVPC                                    27\n",
       "Electronics Expo (Authorized Dealer)      26\n",
       "Car Audio Closeout                        24\n",
       "Video & Audio Center                      19\n",
       "OneCall                                   18\n",
       "Electronic Express                        17\n",
       "wwstereo                                  16\n",
       "Dell.com                                  15\n",
       "The Pixel Hub                             15\n",
       "OutletPC                                  15\n",
       "antonline.com                             14\n",
       "DemProductSales                           14\n",
       "Newegg                                    13\n",
       "outletmp3                                 12\n",
       "Wholesale Connection                      12\n",
       "                                        ... \n",
       "discountparts99                            1\n",
       "discountcentralonline                      1\n",
       "directnetshopdeal                          1\n",
       "dinsdale-usa                               1\n",
       "dieg5651_8xrznj2zi                         1\n",
       "ewholesale2011                             1\n",
       "designerentrywayllc                        1\n",
       "dependix                                   1\n",
       "department75                               1\n",
       "delanodynasty                              1\n",
       "deals-all-year                             1\n",
       "daylighttechnologies                       1\n",
       "dmite30                                    1\n",
       "doitjust4fun                               1\n",
       "dr.pepper357                               1\n",
       "dream-seller                               1\n",
       "duck1648                                   1\n",
       "e-shopsave                                 1\n",
       "eGoodies                                   1\n",
       "eco-keeper7                                1\n",
       "edc-73                                     1\n",
       "efesales                                   1\n",
       "einfinityshop4                             1\n",
       "ejuky                                      1\n",
       "electric-flight-sales                      1\n",
       "elfxpress                                  1\n",
       "emeraldpg                                  1\n",
       "eternalphoto                               1\n",
       "evolving-technologies                      1\n",
       "1 Stop Electronics Center, Inc.            1\n",
       "Length: 693, dtype: int64"
      ]
     },
<<<<<<< HEAD
     "execution_count": 17,
=======
     "execution_count": 20,
=======
       "prices.amountMax        0\n",
       "prices.amountMin        0\n",
       "prices.condition        0\n",
       "prices.isSale           0\n",
       "prices.merchant         0\n",
       "dateAdded               0\n",
       "brand                   0\n",
       "manufacturer         4014\n",
       "name                    0\n",
       "primaryCategories       0\n",
       "dtype: int64"
      ]
     },
     "execution_count": 13,
>>>>>>> 7c3a18fcd465bec3454600c3d9b10c5eeabef157
>>>>>>> b0d584471e11d7e82561ff86bbef5fadf0392559
     "metadata": {},
     "output_type": "execute_result"
    }
   ],
   "source": [
<<<<<<< HEAD
=======
<<<<<<< HEAD
>>>>>>> b0d584471e11d7e82561ff86bbef5fadf0392559
    "ecom_data_new.groupby('prices.merchant').size()\n",
    "# By sorting the data we can find the sources from which customers by most of the item and hearby removing the onces that wont impact our model.\n",
    "ecom_data_new.groupby('prices.merchant').size().sort_values(ascending=False)"
   ]
  },
  {
   "cell_type": "code",
<<<<<<< HEAD
   "execution_count": 18,
   "metadata": {
    "ExecuteTime": {
     "end_time": "2019-11-14T15:07:20.626380Z",
     "start_time": "2019-11-14T15:07:20.621395Z"
=======
   "execution_count": 25,
   "metadata": {
    "ExecuteTime": {
     "end_time": "2019-11-11T00:47:33.268877Z",
     "start_time": "2019-11-11T00:47:33.256893Z"
>>>>>>> b0d584471e11d7e82561ff86bbef5fadf0392559
    }
   },
   "outputs": [],
   "source": [
    "output = ecom_data_new.groupby('prices.merchant').size().sort_values(ascending=False)"
   ]
  },
  {
   "cell_type": "code",
<<<<<<< HEAD
   "execution_count": 19,
   "metadata": {
    "ExecuteTime": {
     "end_time": "2019-11-14T15:07:23.004297Z",
     "start_time": "2019-11-14T15:07:22.999311Z"
=======
   "execution_count": 34,
   "metadata": {
    "ExecuteTime": {
     "end_time": "2019-11-11T00:51:45.315994Z",
     "start_time": "2019-11-11T00:51:45.303973Z"
>>>>>>> b0d584471e11d7e82561ff86bbef5fadf0392559
    }
   },
   "outputs": [],
   "source": [
<<<<<<< HEAD
    "threshold_output = output[output>15]\n",
    "###"
=======
    "threshold_output = output[output>15]"
>>>>>>> b0d584471e11d7e82561ff86bbef5fadf0392559
   ]
  },
  {
   "cell_type": "markdown",
   "metadata": {},
   "source": [
    "> We have taken the websites from where people have purchased more than 15 times as per the data present in the data frame"
<<<<<<< HEAD
=======
=======
    "ecom_data_new.isnull().sum()\n",
    "# Since manufacturer and brand are the same, we can remove the manufacturer column\n",
    "#ecom_data_new.groupby('Species').size()"
>>>>>>> 7c3a18fcd465bec3454600c3d9b10c5eeabef157
>>>>>>> b0d584471e11d7e82561ff86bbef5fadf0392559
   ]
  },
  {
   "cell_type": "code",
<<<<<<< HEAD
   "execution_count": 20,
   "metadata": {
    "ExecuteTime": {
     "end_time": "2019-11-14T15:07:25.527206Z",
     "start_time": "2019-11-14T15:07:25.523181Z"
=======
<<<<<<< HEAD
   "execution_count": 35,
   "metadata": {
    "ExecuteTime": {
     "end_time": "2019-11-11T00:51:48.637059Z",
     "start_time": "2019-11-11T00:51:48.625046Z"
=======
   "execution_count": 16,
   "metadata": {
    "ExecuteTime": {
     "end_time": "2019-11-06T01:39:00.596581Z",
     "start_time": "2019-11-06T01:39:00.512731Z"
>>>>>>> 7c3a18fcd465bec3454600c3d9b10c5eeabef157
>>>>>>> b0d584471e11d7e82561ff86bbef5fadf0392559
    }
   },
   "outputs": [
    {
     "data": {
<<<<<<< HEAD
=======
<<<<<<< HEAD
>>>>>>> b0d584471e11d7e82561ff86bbef5fadf0392559
      "text/plain": [
       "prices.merchant\n",
       "Bestbuy.com                             2806\n",
       "bhphotovideo.com                        1509\n",
       "Walmart.com                              664\n",
       "Beach Camera                             201\n",
       "AMI Ventures Inc                          63\n",
       "buydig                                    53\n",
       "Focus Camera                              48\n",
       "gear4less                                 43\n",
       "echo-and-optics                           40\n",
       "Beach Audio Inc                           39\n",
       "Best Buy                                  38\n",
       "UnbeatableSale                            33\n",
       "DealClock                                 32\n",
       "electronic_express                        28\n",
       "World Wide Stereo                         28\n",
       "BuyVPC                                    27\n",
       "Electronics Expo (Authorized Dealer)      26\n",
       "Car Audio Closeout                        24\n",
       "Video & Audio Center                      19\n",
       "OneCall                                   18\n",
       "Electronic Express                        17\n",
       "wwstereo                                  16\n",
       "dtype: int64"
      ]
     },
<<<<<<< HEAD
     "execution_count": 20,
     "metadata": {},
     "output_type": "execute_result"
    }
   ],
   "source": [
    "threshold_output"
   ]
  },
  {
   "cell_type": "code",
   "execution_count": 21,
   "metadata": {
    "ExecuteTime": {
     "end_time": "2019-11-14T15:07:26.473356Z",
     "start_time": "2019-11-14T15:07:26.469334Z"
    }
   },
   "outputs": [],
   "source": [
    "values = ['Bestbuy.com','bhphotovideo.com','Walmart.com,Beach Camera','AMI Ventures Inc','buydig','Focus Camera','gear4less','echo-and-optics','Beach Audio Inc','Best Buy','UnbeatableSale','DealClock','electronic_express','World Wide Stereo','BuyVPC','Electronics Expo (Authorized Dealer)','Car Audio Closeout','Video & Audio Center','OneCall','Electronic Express','wwstereo']"
   ]
  },
  {
   "cell_type": "code",
   "execution_count": 56,
   "metadata": {
    "ExecuteTime": {
     "end_time": "2019-11-14T22:07:03.356295Z",
     "start_time": "2019-11-14T22:07:03.352270Z"
    }
   },
   "outputs": [],
   "source": [
    "ecom_data_upd = ecom_data_new.loc[ecom_data_new['prices.merchant'].isin(values)]\n",
    "#ecom_data_upd['brand']"
   ]
  },
  {
   "cell_type": "code",
   "execution_count": 57,
   "metadata": {
    "ExecuteTime": {
     "end_time": "2019-11-14T22:07:04.910678Z",
     "start_time": "2019-11-14T22:07:04.546255Z"
    }
   },
   "outputs": [
    {
     "data": {
      "text/plain": [
       "prices.merchant\n",
       "Bestbuy.com                             2844\n",
       "bhphotovideo.com                        1509\n",
       "AMI Ventures Inc                          63\n",
       "buydig                                    53\n",
       "Focus Camera                              48\n",
       "gear4less                                 43\n",
       "echo-and-optics                           40\n",
       "Beach Audio Inc                           39\n",
       "UnbeatableSale                            33\n",
       "DealClock                                 32\n",
       "electronic_express                        28\n",
       "World Wide Stereo                         28\n",
       "BuyVPC                                    27\n",
       "Electronics Expo (Authorized Dealer)      26\n",
       "Car Audio Closeout                        24\n",
       "Video & Audio Center                      19\n",
       "OneCall                                   18\n",
       "Electronic Express                        17\n",
       "wwstereo                                  16\n",
       "dtype: int64"
      ]
     },
     "execution_count": 57,
     "metadata": {},
     "output_type": "execute_result"
    }
   ],
   "source": [
    "ecom_data_upd[['prices.merchant']] = ecom_data_upd[['prices.merchant']].replace(['Best Buy'], ['Bestbuy.com'])\n",
    "ecom_data_upd.groupby('prices.merchant').size().sort_values(ascending=False)"
   ]
  },
  {
   "cell_type": "code",
   "execution_count": 58,
   "metadata": {
    "ExecuteTime": {
     "end_time": "2019-11-14T22:07:09.111348Z",
     "start_time": "2019-11-14T22:07:05.918954Z"
    }
   },
   "outputs": [
    {
     "name": "stdout",
     "output_type": "stream",
     "text": [
      "prices.condition\n",
      "New                         4143\n",
      "new                          665\n",
      "Used                          65\n",
      "New other (see details)       16\n",
      "Refurbished                   11\n",
      "pre-owned                      3\n",
      "refurbished                    2\n",
      "Manufacturer refurbished       2\n",
      "dtype: int64\n",
      "prices.isSale\n",
      "False    3755\n",
      "True     1152\n",
      "dtype: int64\n",
      "prices.condition\n",
      "New     4808\n",
      "Used      99\n",
      "dtype: int64\n",
      "<class 'pandas.core.frame.DataFrame'>\n",
      "Int64Index: 4907 entries, 0 to 7247\n",
      "Data columns (total 9 columns):\n",
      "prices.amountMax     4907 non-null float64\n",
      "prices.amountMin     4907 non-null float64\n",
      "prices.condition     4907 non-null object\n",
      "prices.isSale        4907 non-null object\n",
      "prices.merchant      4907 non-null object\n",
      "dateAdded            4907 non-null object\n",
      "brand                4907 non-null object\n",
      "name                 4907 non-null object\n",
      "primaryCategories    4907 non-null object\n",
      "dtypes: float64(2), object(7)\n",
      "memory usage: 383.4+ KB\n",
      "0       New_False\n",
      "3       New_False\n",
      "4       New_False\n",
      "7       New_False\n",
      "10      New_False\n",
      "12      New_False\n",
      "13      New_False\n",
      "15       New_True\n",
      "17      New_False\n",
      "18      New_False\n",
      "19      New_False\n",
      "20      New_False\n",
      "21       New_True\n",
      "22      New_False\n",
      "24       New_True\n",
      "25      New_False\n",
      "26       New_True\n",
      "27       New_True\n",
      "28       New_True\n",
      "29       New_True\n",
      "30      New_False\n",
      "31       New_True\n",
      "32      New_False\n",
      "33      New_False\n",
      "34      New_False\n",
      "35      New_False\n",
      "37      New_False\n",
      "38       New_True\n",
      "39      New_False\n",
      "40      New_False\n",
      "          ...    \n",
      "7203    New_False\n",
      "7206    New_False\n",
      "7207    New_False\n",
      "7212    New_False\n",
      "7215    New_False\n",
      "7217    New_False\n",
      "7219    New_False\n",
      "7221    New_False\n",
      "7222    New_False\n",
      "7223    New_False\n",
      "7224     New_True\n",
      "7225     New_True\n",
      "7226    New_False\n",
      "7228     New_True\n",
      "7229    New_False\n",
      "7230    New_False\n",
      "7231    New_False\n",
      "7234     New_True\n",
      "7236     New_True\n",
      "7237    New_False\n",
      "7238    New_False\n",
      "7239    New_False\n",
      "7240    New_False\n",
      "7241    New_False\n",
      "7242    New_False\n",
      "7243    New_False\n",
      "7244    New_False\n",
      "7245    New_False\n",
      "7246    New_False\n",
      "7247    New_False\n",
      "Name: cond_sale, Length: 4907, dtype: object\n",
      "<class 'pandas.core.frame.DataFrame'>\n",
      "Int64Index: 4907 entries, 0 to 7247\n",
      "Data columns (total 8 columns):\n",
      "prices.amountMax     4907 non-null float64\n",
      "prices.amountMin     4907 non-null float64\n",
      "prices.merchant      4907 non-null object\n",
      "dateAdded            4907 non-null object\n",
      "brand                4907 non-null object\n",
      "name                 4907 non-null object\n",
      "primaryCategories    4907 non-null object\n",
      "cond_sale            4907 non-null object\n",
      "dtypes: float64(2), object(6)\n",
      "memory usage: 345.0+ KB\n"
     ]
    }
   ],
   "source": [
    "#print(ecom_data_upd[['prices.condition','prices.isSale']])\n",
    "print(ecom_data_upd.groupby('prices.condition').size().sort_values(ascending=False))\n",
    "print(ecom_data_upd.groupby('prices.isSale').size().sort_values(ascending=False))\n",
    "#change the values of the column to Used which are not new\n",
    "ecom_data_upd[['prices.condition']] = ecom_data_upd[['prices.condition']].replace(['new'], ['New'])\n",
    "ecom_data_upd[['prices.condition']] = ecom_data_upd[['prices.condition']].replace(['New other (see details)'], ['Used'])\n",
    "ecom_data_upd[['prices.condition']] = ecom_data_upd[['prices.condition']].replace(['Refurbished'], ['Used'])\n",
    "ecom_data_upd[['prices.condition']] = ecom_data_upd[['prices.condition']].replace(['pre-owned'], ['Used'])\n",
    "ecom_data_upd[['prices.condition']] = ecom_data_upd[['prices.condition']].replace(['refurbished'], ['Used'])\n",
    "ecom_data_upd[['prices.condition']] = ecom_data_upd[['prices.condition']].replace(['Manufacturer refurbished'], ['Used'])\n",
    "print(ecom_data_upd.groupby('prices.condition').size().sort_values(ascending=False))\n",
    "\n",
    "ecom_data_upd['prices.condition'] = ecom_data_upd['prices.condition'].astype(str)\n",
    "ecom_data_upd['prices.isSale'] = ecom_data_upd['prices.isSale'].astype(str)\n",
    "ecom_data_upd.info()\n",
    "ecom_data_upd['cond_sale'] = ecom_data_upd['prices.condition'] + '_' + ecom_data_upd['prices.isSale']\n",
    "#df['AllTogether'] = df['Country'].str.cat(df[['State', 'City']], sep=' - ')\n",
    "#ecom_data_upd['cond_sale'] = ecom_data_upd['prices.condition'].str.cat(ecom_data_upd['prices.isSale'].str, sep ='_')\n",
    "print(ecom_data_upd['cond_sale'])\n",
    "ecom_data_upd = ecom_data_upd.drop(['prices.condition'], axis=1)\n",
    "ecom_data_upd = ecom_data_upd.drop(['prices.isSale'], axis=1)\n",
    "ecom_data_upd.info()"
   ]
  },
  {
   "cell_type": "code",
   "execution_count": 60,
   "metadata": {
    "ExecuteTime": {
     "end_time": "2019-11-15T00:40:47.417817Z",
     "start_time": "2019-11-15T00:40:46.547991Z"
    }
   },
   "outputs": [
    {
     "data": {
      "image/png": "iVBORw0KGgoAAAANSUhEUgAAAYMAAAEICAYAAAC9E5gJAAAABHNCSVQICAgIfAhkiAAAAAlwSFlzAAALEgAACxIB0t1+/AAAADh0RVh0U29mdHdhcmUAbWF0cGxvdGxpYiB2ZXJzaW9uMy4xLjAsIGh0dHA6Ly9tYXRwbG90bGliLm9yZy+17YcXAAAdeElEQVR4nO3df7RU9Xnv8fdHEOWqEfDHKQUS8Eq7gmEV9VSxtrnnaiJIeovpiqtYb0RjF2mDbbLCbQM2qxoNd2lviV6NMSGViAkGiYmFZTCGEufmx62iJAREQjkqkSMoRtDkaEMv9rl/7O/RzXHmnJlhzvxgPq+1Zp29v/u793725hme/WtmFBGYmVl7O6rRAZiZWeO5GJiZmYuBmZm5GJiZGS4GZmaGi4GZmeFiUJSkP5C0vdFxmNWbc7+2JL1TUq+kYY2OZTAuBkVExA8i4rcbHUczkTRRUkganmu7MrV9rl/fS1L73XUP1A6Lc//tDif3I+K5iDg+It6oc9gVczHoJ/8PbmV5GviTfvvtCuBfGxSPVcm5X7EjKvfbphhI2ilpkaSnJO2X9BVJx0rqktQj6VOSXgC+0teWm3eCpG9JeknSy5I+n5v2EUnb0jIflvSu1C5Jt0jaK+lVSZslvadEbAslPS3pVym+D+amXSnpR2lZr0h6RtLvpfZdaflzc/1PlHRPivXnkj4t6ag07XpJX8v1PeSIR1JB0o1pfb+S9F1JJ6fu309/X0mnveel8ReALcCMtIwxwO8Ba/pt4zckvZD2xfclnZHaR0jaJOkv0/iwtP6/K/ff1gbm3G9c7le4noZqm2KQXE72D/efgd8CPp3afwMYA7wLmJefQdm1vgeBnwMTgXHAyjTtEuBa4I+BU4AfAF9Ps14EvDetZxTwJ8DLJeJ6GvgD4ETgM8DXJI3NTT8X2AycBNyb1v+7wOnAfwc+L+n41Pf2tJzTgP9CdqRy1aB75i1/mvqfCowA/kdqf2/6Oyqd9v5Lbp570noA5gCrgQP9lvsQMDkt98fACoCI+Pe0DTdIejewEBgGLK4gZhucc39wQ5X75a6nsSKiLV7ATuDPc+OzyBKxC/h34NjctC6gJw2fB7wEDC+yzIeAq3PjRwGvk72xLiA7XZwOHFVhrJuA2Wn4SmBHbtpUIICOXNvLwDSy/0QPAFNy0z4KFNLw9cDXctMmpmUNT+MF4NO56R8DvlOsby62HwIjgRfJ3oiPAucDnwXuLrF9o9KyTsy1LQB+BuwHJjc6X46kl3O/cblfyXoa/Wq3M4NdueGfA7+Zhl+KiF+XmGcC8POIOFhk2ruA/51OYV8B9gECxkXE94DPA3cAL0paKukdxVYg6Yp0qaRvOe8B8qeOL+aG/w0gIvq3HZ/mGZG2Lb+d40psWzEv5IZfT8sdUET8G/BtsqPNkyPiR/np6dLPTelywC/J/nOCQ7dxOdkbZ21E7KggXiuPc39wNc/9Wq2nHtqtGEzIDb8T2J2GB/rq1l3AO1X85tou4KMRMSr3GhkR/xcgIm6LiLOBM8hOmf+6/wLSddYvA9cAJ0XEKOBJsjdWpX4B/D+yN2qfdwLPp+HXgP+Um/YbFSx7sK+3vYfs6P6rRab9KTAbeB/ZEdTE1J7fxi+QXZKYIen3K4jLyuPcb0zut4x2KwbzJY1PN3quBe4rY54NwB7gJknHpRtv56dpXwQW5W6Gnijp0jT8u5LOlXQ0WSL+Gij2eNlxZMn2UprvKrKjo4pF9vjaKmCxpBPSm+2TQN+Ns03Ae5U9+3wisKiCxb8E/AfZ9dhi/g/wfrLrtv2dQHYK/zLZG/J/5idK+jBwNtmp918By3PXga02nPuNyf2W0W7F4F7gu8Az6fXZwWZISfbfyG5YPQf0kN0QIyIeAG4GVqbLH08CF6dZ30F21LOf7HT1ZeAfACRdK+mhtIyngCXAv5CdEk8FyjnVLOUvyd6Az5Bd07wXWJbWtY7sP4HNwEayI/GyRMTrZDd1f5RO6af3mx4RsT4i9hWZ/R6yffA88BTZtVUg+1AOcCtwRUT0RsS9wBPALeXGZmVx7jcm91uG0k2MI56kncCfRcQ/NzoWs3py7ls52u3MwMzMinAxMDOz9rlMZGZmpfnMwMzMaOovpjr55JNj4sSJRae99tprHHfccfUN6DA43qE1ULwbN278RUScUueQqlYq74+kf5Nm1Woxl4q3qpxv9EegB3qdffbZUcojjzxSclozcrxDa6B4gSeiCfK53FepvD+S/k2aVavFXCreanK+7MtE6SsFfiLpwTQ+SdJjknZIuk/SiNR+TBrvTtMn5paxKLVvlzSjoqplZmZDppJ7Bh8HtuXGbwZuiYjJZB8uuTq1Xw3sj4jTyT44dDOApClk3+p3BjAT+IJa4Nd/rH35AMjaSVnFQNJ44APAP6ZxkX0z4f2py3LgkjQ8O42Tpl+Y+s8GVkbEgYh4FugGzqnFRpgNER8AWdso98zgVuBvyL6fA7LvFn8l3vo2wx7e+nbAcaRvSEzTX03932wvMo9ZU/EBkLWbQZ8mkvSHwN6I2Cipq6+5SNcYZNpA8+TXN4/0IxsdHR0UCoWicfX29pac1owc79Aagnj7DoBOSONlHwBJyh8Avfk9TAxwAFRO3vvfZOi1Wsy1jLecR0vPB/5I0izgWLIvoboVGCVpeHpzjOetr8TtIfu63J701bcnkn3XeV97n/w8b4qIpcBSgM7Ozujq6ioaVKFQoNS0ZuR4h1Yt4633ARCUl/ft/G9SL60Wcy3jHfQyUUQsiojxETGR7Prn9yLicuAR4EOp21yyn3uD7Pc/+36X9EOpf6T2Oelm2ySyn0DcUJOtMKutvgOgnWQ/s3gBuQOg1KfYARDVHACZNYPD+QTyp4BPSuomOyW+K7XfBZyU2j9J9pu2RMRWsu8bfwr4DjA/sq/INWsqPgCydlTRJ5AjokD2G55ExDMUuRkW2U/oXVpi/sX4h86tdX2K7Pv7Pwv8hEMPgL6aDoD2kRUQImKrpL4DoIP4AMiaWFN/HcVAtjz/Klcu/HZF8+y86QNDFI0dqZrpAKianAfnvZXHX1RnZmYuBmZm5mJgZma4GJiZGS4GZmaGi4GZmeFiYGZmuBiYmRkuBmZmhouBmZnhYmBmZrgYmJkZLgZmZoaLgZmZ4WJgZma4GJiZGS4GZmZGGcVA0rGSNkj6qaStkj6T2u+W9KykTek1LbVL0m2SuiVtlnRWbllzJe1Ir7ml1mnWSM55a0fl/OzlAeCCiOiVdDTwQ0kPpWl/HRH39+t/MdkPf08GzgXuBM6VNAa4DugEAtgoaU1E7K/FhpjVkHPe2s6gZwaR6U2jR6dXDDDLbOCeNN+jwChJY4EZwLqI2JfeDOuAmYcXvlntOeetHZVzZoCkYcBG4HTgjoh4TNJfAIsl/R2wHlgYEQeAccCu3Ow9qa1Ue/91zQPmAXR0dFAoFIrG1DESFkw9WE74byq1rHro7e1t6Por1e7x1jPn0/oGzftqch4al/etlkPQejHXMt6yikFEvAFMkzQKeEDSe4BFwAvACGAp8CngBkDFFjFAe/91LU3Lo7OzM7q6uorGdPuK1SzZUlb4b9p5efFl1UOhUKDUtjSjdo+3njmf1jdo3leT89C4vG+1HILWi7mW8Vb0NFFEvAIUgJkRsSedFh8AvgKck7r1ABNys40Hdg/Qbta0nPPWLsp5muiUdHSEpJHA+4CfpWuiSBJwCfBkmmUNcEV6wmI68GpE7AEeBi6SNFrSaOCi1GbWVJzz1o7KOeccCyxP11CPAlZFxIOSvifpFLJT4U3An6f+a4FZQDfwOnAVQETsk3Qj8Hjqd0NE7KvdppjVjHPe2s6gxSAiNgNnFmm/oET/AOaXmLYMWFZhjGZ15Zy3duRPIJuZmYuBmZm5GJiZGS4GZmaGi4GZmeFiYGZmuBiYmRkuBmZmhouBmZnhYmBmZrgYmJkZLgZmZoaLgZmZ4WJgZma4GJiZGS4GZmaGi4GZmeFiYGZmlFEMJB0raYOkn0raKukzqX2SpMck7ZB0n6QRqf2YNN6dpk/MLWtRat8uacZQbZTZ4XDOWzsq58zgAHBBRPwOMA2YKWk6cDNwS0RMBvYDV6f+VwP7I+J04JbUD0lTgDnAGcBM4AvpB8fNmo1z3trOoMUgMr1p9Oj0CuAC4P7Uvhy4JA3PTuOk6RdKUmpfGREHIuJZoBs4pyZbYVZDznlrR8PL6ZSOZjYCpwN3AE8Dr0TEwdSlBxiXhscBuwAi4qCkV4GTUvujucXm58mvax4wD6Cjo4NCoVA0po6RsGDqwaLTSim1rHro7e1t6Por1e7x1jPn0/oGzftqch4al/etlkPQejHXMt6yikFEvAFMkzQKeAB4d7Fu6a9KTCvV3n9dS4GlAJ2dndHV1VU0pttXrGbJlrLCf9POy4svqx4KhQKltqUZtXu89cz5tL5B876anIfG5X2r5RC0Xsy1jLeip4ki4hWgAEwHRknqy8zxwO403ANMAEjTTwT25duLzGPWlJzz1i7KeZrolHR0hKSRwPuAbcAjwIdSt7nA6jS8Jo2Tpn8vIiK1z0lPXkwCJgMbarUhZrXinLd2VM4551hgebqGehSwKiIelPQUsFLSZ4GfAHel/ncBX5XUTXZ0NAcgIrZKWgU8BRwE5qdTcbNm45y3tjNoMYiIzcCZRdqfociTERHxa+DSEstaDCyuPEyz+nHOWzvyJ5DNzMzFwMzMXAzMzAwXAzMzw8XAzMxwMTAzM1wMzMwMFwMzM8PFwMzMcDEwMzNcDMzMDBcDMzPDxcDMzHAxMDMzXAzMzAwXAzMzw8XAzMwo7zeQJ0h6RNI2SVslfTy1Xy/peUmb0mtWbp5FkrolbZc0I9c+M7V1S1o4NJtkdnic89aOyvkN5IPAgoj4saQTgI2S1qVpt0TEP+Q7S5pC9huwZwC/CfyzpN9Kk+8A3g/0AI9LWhMRT9ViQ8xqyDlvbaec30DeA+xJw7+StA0YN8Ass4GVEXEAeDb9SHjf78Z2p9+RRdLK1NdvDGsqznlrR+WcGbxJ0kSyHwp/DDgfuEbSFcATZEdS+8neNI/mZuvhrTfSrn7t5xZZxzxgHkBHRweFQqFoLB0jYcHUg5WEX3JZ9dDb29vQ9VfK8WbqkfNpPYPmfTU5D43L+1bLIWi9mGsZb9nFQNLxwDeBT0TELyXdCdwIRPq7BPgIoCKzB8XvT8TbGiKWAksBOjs7o6urq2g8t69YzZItFdUydl5efFn1UCgUKLUtzcjx1i/noby8rybnoXF532o5BK0Xcy3jLSuzJB1N9qZYERHfAoiIF3PTvww8mEZ7gAm52ccDu9NwqXazpuKct3ZTztNEAu4CtkXE53LtY3PdPgg8mYbXAHMkHSNpEjAZ2AA8DkyWNEnSCLIbbmtqsxlmteOct3ZUzpnB+cCHgS2SNqW2a4HLJE0jO+3dCXwUICK2SlpFdpPsIDA/It4AkHQN8DAwDFgWEVtruC1mteKct7ZTztNEP6T4NdG1A8yzGFhcpH3tQPOZNQPnvLUjfwLZzMxcDMzMzMXAzMxwMTAzM1wMzMwMFwMzM8PFwMzMcDEwMzNcDMzMDBcDMzPDxcDMzHAxMDMzXAzMzAwXAzMzw8XAzMxwMTAzM1wMzMwMFwMzM6OMYiBpgqRHJG2TtFXSx1P7GEnrJO1If0endkm6TVK3pM2Szsota27qv0PS3KHbLLPqOeetHZVzZnAQWBAR7wamA/MlTQEWAusjYjKwPo0DXAxMTq95wJ2QvZGA64BzgXOA6/reTGZNxjlvbWfQYhAReyLix2n4V8A2YBwwG1ieui0HLknDs4F7IvMoMErSWGAGsC4i9kXEfmAdMLOmW2NWA855a0fDK+ksaSJwJvAY0BEReyB780g6NXUbB+zKzdaT2kq191/HPLKjKzo6OigUCkVj6RgJC6YerCT8ksuqh97e3oauv1KON1OPnE/rGTTvq8l5aFzet1oOQevFXMt4yy4Gko4Hvgl8IiJ+Kalk1yJtMUD7oQ0RS4GlAJ2dndHV1VV0JbevWM2SLRXVMnZeXnxZ9VAoFCi1Lc3I8dYv56G8vK8m56Fxed9qOQStF3Mt4y3raSJJR5O9KVZExLdS84vpVJj0d29q7wEm5GYfD+weoN2s6Tjnrd2U8zSRgLuAbRHxudykNUDf0xFzgdW59ivSExbTgVfTqfXDwEWSRqebaBelNrOm4py3dlTOOef5wIeBLZI2pbZrgZuAVZKuBp4DLk3T1gKzgG7gdeAqgIjYJ+lG4PHU74aI2FeTrTCrLee8tZ1Bi0FE/JDi1z4BLizSP4D5JZa1DFhWSYBm9eact3bkTyCbmZmLgZmZuRiYmRkuBmZmhouBmZnhYmBmZrgYmJkZLgZmZoaLgZmZ4WJgZma4GJiZGS4GZmaGi4GZmeFiYGZmuBiYmRkuBmZmhouBmZlR3m8gL5O0V9KTubbrJT0vaVN6zcpNWySpW9J2STNy7TNTW7ekhbXfFLPacd5buynnzOBuYGaR9lsiYlp6rQWQNAWYA5yR5vmCpGGShgF3ABcDU4DLUl+zZnU3zntrI+X8BvL3JU0sc3mzgZURcQB4VlI3cE6a1h0RzwBIWpn6PlVxxGZ14Ly3djNoMRjANZKuAJ4AFkTEfmAc8GiuT09qA9jVr/3cYguVNA+YB9DR0UGhUCi68o6RsGDqwYoCLrWseujt7W3o+ivleEtqWN5Xk/PQuLxvtRyC1ou5lvFWWwzuBG4EIv1dAnwEUJG+QfHLUVFswRGxFFgK0NnZGV1dXUUDuH3FapZsqSz8nZcXX1Y9FAoFSm1LM3K8RTU076vJeWhc3rdaDkHrxVzLeKsqBhHxYt+wpC8DD6bRHmBCrut4YHcaLtVu1hKc93Ykq+rRUkljc6MfBPqeuFgDzJF0jKRJwGRgA/A4MFnSJEkjyG62rak+bLP6c97bkWzQMwNJXwe6gJMl9QDXAV2SppGd8u4EPgoQEVslrSK7QXYQmB8Rb6TlXAM8DAwDlkXE1ppvjVmNOO+t3ZTzNNFlRZrvGqD/YmBxkfa1wNqKojNrEOe9tRt/AtnMzFwMzMzMxcDMzHAxMDMzXAzMzAwXAzMzw8XAzMxwMTAzM1wMzMwMFwMzM8PFwMzMcDEwMzNcDMzMDBcDMzPDxcDMzHAxMDMzXAzMzAwXAzMzo4xiIGmZpL2Snsy1jZG0TtKO9Hd0apek2yR1S9os6azcPHNT/x2S5g7N5pjVhvPe2k05ZwZ3AzP7tS0E1kfEZGB9Gge4GJicXvOAOyF7E5H9oPi5wDnAdX1vJLMmdTfOe2sjgxaDiPg+sK9f82xgeRpeDlySa78nMo8CoySNBWYA6yJiX0TsB9bx9jeaWdNw3lu7GV7lfB0RsQcgIvZIOjW1jwN25fr1pLZS7W8jaR7Z0RUdHR0UCoXiAYyEBVMPVhR0qWXVQ29vb0PXXynHW1RD876anIfG5X2r5RC0Xsy1jLfaYlCKirTFAO1vb4xYCiwF6OzsjK6urqIrun3FapZsqSz8nZcXX1Y9FAoFSm1LM3K8FalL3leT89C4vG+1HILWi7mW8Vb7NNGL6TSY9Hdvau8BJuT6jQd2D9Bu1kqc93bEqrYYrAH6noyYC6zOtV+Rnq6YDryaTqsfBi6SNDrdQLsotZm1Eue9HbEGPeeU9HWgCzhZUg/Z0xE3AaskXQ08B1yauq8FZgHdwOvAVQARsU/SjcDjqd8NEdH/5pxZ03DeW7sZtBhExGUlJl1YpG8A80ssZxmwrKLozBrEeW/txp9ANjMzFwMzM3MxMDMzXAzMzAwXAzMzw8XAzMxwMTAzM1wMzMwMFwMzM8PFwMzMcDEwMzNcDMzMDBcDMzPDxcDMzHAxMDMzXAzMzAwXAzMz4zCLgaSdkrZI2iTpidQ2RtI6STvS39GpXZJuk9QtabOks2qxAWb15ry3I1Etzgz+a0RMi4jONL4QWB8Rk4H1aRzgYmByes0D7qzBus0axXlvR5ShuEw0G1iehpcDl+Ta74nMo8AoSWOHYP1mjeC8t5Y2/DDnD+C7kgL4UkQsBToiYg9AROyRdGrqOw7YlZu3J7XtyS9Q0jyyIyg6OjooFApFV9wxEhZMPVhRsKWWVQ+9vb0NXX+lHO+AGpL31eQ8NC7vWy2HoPVirmW8h1sMzo+I3Snx10n62QB9VaQt3taQvbGWAnR2dkZXV1fRhd2+YjVLtlQW/s7Liy+rHgqFAqW2pRk53gE1JO+ryXloXN63Wg5B68Vcy3gP6zJRROxOf/cCDwDnAC/2nQanv3tT9x5gQm728cDuw1m/WSM47+1IVHUxkHScpBP6hoGLgCeBNcDc1G0usDoNrwGuSE9XTAde7TutNmsVzns7Uh3OZaIO4AFJfcu5NyK+I+lxYJWkq4HngEtT/7XALKAbeB246jDWXZWJC79d1Xw7b/pAjSOxFtYWee+cbz9VF4OIeAb4nSLtLwMXFmkPYH616zNrBs57O1L5E8hmZuZiYGZmLgZmZoaLgZmZ4WJgZma4GJiZGS4GZmbG4X83UVvwh3as3Tjn24/PDMzMzMXAzMxcDMzMDBcDMzPDxcDMzPDTREOm/9MYC6Ye5MpBntDw0xjWypzzrc1nBmZm5mJgZma+TNRU/EEfazfO+ebhMwMzM6t/MZA0U9J2Sd2SFtZ7/Wb15py3VlDXy0SShgF3AO8HeoDHJa2JiKfqGceRxKfZzc05X3vV5Dw47wdT73sG5wDd6UfFkbQSmA34jVFH5byZynkscKgcYW9a53yTqFfet2r+1rsYjAN25cZ7gHPzHSTNA+al0V5J20ss62TgFzWPcIj8leMtm26uaraB4n1X1cEcvkFzHsrOe+fQEKtFzFXmb7VKxVtxzte7GKhIWxwyErEUWDrogqQnIqKzVoENNcc7tJo43kFzHsrL+ybexqJaLV5ovZhrGW+9byD3ABNy4+OB3XWOwayenPPWEupdDB4HJkuaJGkEMAdYU+cYzOrJOW8toa6XiSLioKRrgIeBYcCyiNha5eIGvZTUZBzv0GrKeJ3zLafVYq5ZvIp42+VLMzNrM/4EspmZuRiYmVmLFoNm+Hi/pAmSHpG0TdJWSR9P7WMkrZO0I/0dndol6bYU82ZJZ+WWNTf13yFp7hDHPUzSTyQ9mMYnSXosrfu+dJMTScek8e40fWJuGYtS+3ZJM4Y43lGS7pf0s7Svz2v2fTwUmiHnUxwtl/fO+TL3b0S01IvsJtzTwGnACOCnwJQGxDEWOCsNnwD8KzAF+HtgYWpfCNychmcBD5E9dz4deCy1jwGeSX9Hp+HRQxj3J4F7gQfT+CpgThr+IvAXafhjwBfT8BzgvjQ8Je3zY4BJ6d9i2BDGuxz4szQ8AhjV7Pv4SM35Vs1753x5+7fhiV7FjjoPeDg3vghY1ARxrSb7/pntwNjUNhbYnoa/BFyW6789Tb8M+FKu/ZB+NY5xPLAeuAB4MCXQL4Dh/fct2dMv56Xh4amf+u/vfL8hiPcdwLOkBx3677tm3MdDtB+aMudTLE2d98758vdvK14mKvbx/nENigWAdDp5JvAY0BERewDS31NTt1Jx13N7bgX+BviPNH4S8EpEHCyy7jfjStNfTf3rGe9pwEvAV9Jp/j9KOo7m3sdDoSnjb5G8d86XGXMrFoOyPt5fL5KOB74JfCIifjlQ1yJtMUB7TUn6Q2BvRGwsI6aBptVz/w8HzgLujIgzgdfITpFLaYaYh0LTxd8Kee+cL9peUisWg6b5eL+ko8neECsi4lup+UVJY9P0scDe1F4q7nptz/nAH0naCawkO22+FRglqe/Dh/l1vxlXmn4isK+O8fbF0BMRj6Xx+8neKM26j4dKU8XfQnnvnK8k5kZfc6zimtpwspshk3jrZtoZDYhDwD3Arf3a/xeH3uj5+zT8AQ690bMhtY8hu0Y4Or2eBcYMcexdvHUz7RscejPtY2l4PofeTFuVhs/g0JtpzzC0N9N+APx2Gr4+7d+m38c13gdNkfMplpbMe+f84Pu34Yle5c6aRfYUw9PA3zYoht8nO+3aDGxKr1lk1xjXAzvS3zGpv8h+5ORpYAvQmVvWR4Du9LqqDrHn3xinARvSur8BHJPaj03j3Wn6abn5/zZtx3bg4iGOdRrwRNrP/5QSu+n38RDsh4bnfIqjJfPeOT/4/vXXUZiZWUveMzAzsxpzMTAzMxcDMzNzMTAzM1wMzMwMFwMzM8PFwMzMgP8PuaAt5b2RrVQAAAAASUVORK5CYII=\n",
      "text/plain": [
       "<Figure size 432x288 with 2 Axes>"
      ]
     },
     "metadata": {
      "needs_background": "light"
     },
     "output_type": "display_data"
    },
    {
     "data": {
      "image/png": "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\n",
      "text/plain": [
       "<Figure size 432x288 with 4 Axes>"
      ]
     },
     "metadata": {
      "needs_background": "light"
     },
     "output_type": "display_data"
    }
   ],
   "source": [
    "#Plot a histogram of the Iris dataset\n",
    "ecom_data_upd.hist()\n",
    "\n",
    "#Show the histogram using plt.show()\n",
    "plt.show()\n",
    "\n",
    "scatter_matrix(ecom_data_upd)\n",
    "plt.show()"
=======
     "execution_count": 35,
=======
      "text/html": [
       "<div>\n",
       "<style scoped>\n",
       "    .dataframe tbody tr th:only-of-type {\n",
       "        vertical-align: middle;\n",
       "    }\n",
       "\n",
       "    .dataframe tbody tr th {\n",
       "        vertical-align: top;\n",
       "    }\n",
       "\n",
       "    .dataframe thead th {\n",
       "        text-align: right;\n",
       "    }\n",
       "</style>\n",
       "<table border=\"1\" class=\"dataframe\">\n",
       "  <thead>\n",
       "    <tr style=\"text-align: right;\">\n",
       "      <th></th>\n",
       "      <th>prices.amountMax</th>\n",
       "      <th>prices.amountMin</th>\n",
       "      <th>prices.condition</th>\n",
       "      <th>prices.isSale</th>\n",
       "      <th>prices.merchant</th>\n",
       "      <th>dateAdded</th>\n",
       "      <th>brand</th>\n",
       "      <th>name</th>\n",
       "      <th>primaryCategories</th>\n",
       "    </tr>\n",
       "  </thead>\n",
       "  <tbody>\n",
       "    <tr>\n",
       "      <th>0</th>\n",
       "      <td>104.99</td>\n",
       "      <td>104.99</td>\n",
       "      <td>New</td>\n",
       "      <td>False</td>\n",
       "      <td>Bestbuy.com</td>\n",
       "      <td>2015-04-13T12:00:51Z</td>\n",
       "      <td>Sanus</td>\n",
       "      <td>Sanus VLF410B1 10-Inch Super Slim Full-Motion ...</td>\n",
       "      <td>Electronics</td>\n",
       "    </tr>\n",
       "    <tr>\n",
       "      <th>1</th>\n",
       "      <td>69.00</td>\n",
       "      <td>64.99</td>\n",
       "      <td>New</td>\n",
       "      <td>True</td>\n",
       "      <td>Walmart.com</td>\n",
       "      <td>2015-05-18T14:14:56Z</td>\n",
       "      <td>Boytone</td>\n",
       "      <td>Boytone - 2500W 2.1-Ch. Home Theater System - ...</td>\n",
       "      <td>Electronics</td>\n",
       "    </tr>\n",
       "    <tr>\n",
       "      <th>2</th>\n",
       "      <td>69.00</td>\n",
       "      <td>69.00</td>\n",
       "      <td>New</td>\n",
       "      <td>False</td>\n",
       "      <td>Walmart.com</td>\n",
       "      <td>2015-05-18T14:14:56Z</td>\n",
       "      <td>Boytone</td>\n",
       "      <td>Boytone - 2500W 2.1-Ch. Home Theater System - ...</td>\n",
       "      <td>Electronics</td>\n",
       "    </tr>\n",
       "    <tr>\n",
       "      <th>3</th>\n",
       "      <td>69.99</td>\n",
       "      <td>69.99</td>\n",
       "      <td>New</td>\n",
       "      <td>False</td>\n",
       "      <td>Bestbuy.com</td>\n",
       "      <td>2015-05-18T14:14:56Z</td>\n",
       "      <td>Boytone</td>\n",
       "      <td>Boytone - 2500W 2.1-Ch. Home Theater System - ...</td>\n",
       "      <td>Electronics</td>\n",
       "    </tr>\n",
       "    <tr>\n",
       "      <th>4</th>\n",
       "      <td>66.99</td>\n",
       "      <td>66.99</td>\n",
       "      <td>New</td>\n",
       "      <td>False</td>\n",
       "      <td>Bestbuy.com</td>\n",
       "      <td>2015-05-18T14:14:56Z</td>\n",
       "      <td>Boytone</td>\n",
       "      <td>Boytone - 2500W 2.1-Ch. Home Theater System - ...</td>\n",
       "      <td>Electronics</td>\n",
       "    </tr>\n",
       "    <tr>\n",
       "      <th>5</th>\n",
       "      <td>66.00</td>\n",
       "      <td>66.00</td>\n",
       "      <td>New</td>\n",
       "      <td>False</td>\n",
       "      <td>Walmart.com</td>\n",
       "      <td>2015-05-18T14:14:56Z</td>\n",
       "      <td>Boytone</td>\n",
       "      <td>Boytone - 2500W 2.1-Ch. Home Theater System - ...</td>\n",
       "      <td>Electronics</td>\n",
       "    </tr>\n",
       "    <tr>\n",
       "      <th>6</th>\n",
       "      <td>74.99</td>\n",
       "      <td>74.99</td>\n",
       "      <td>New</td>\n",
       "      <td>False</td>\n",
       "      <td>California Electronics</td>\n",
       "      <td>2015-05-18T14:14:56Z</td>\n",
       "      <td>Boytone</td>\n",
       "      <td>Boytone - 2500W 2.1-Ch. Home Theater System - ...</td>\n",
       "      <td>Electronics</td>\n",
       "    </tr>\n",
       "    <tr>\n",
       "      <th>7</th>\n",
       "      <td>65.99</td>\n",
       "      <td>65.99</td>\n",
       "      <td>New</td>\n",
       "      <td>False</td>\n",
       "      <td>Bestbuy.com</td>\n",
       "      <td>2015-05-18T14:14:56Z</td>\n",
       "      <td>Boytone</td>\n",
       "      <td>Boytone - 2500W 2.1-Ch. Home Theater System - ...</td>\n",
       "      <td>Electronics</td>\n",
       "    </tr>\n",
       "    <tr>\n",
       "      <th>8</th>\n",
       "      <td>69.99</td>\n",
       "      <td>69.99</td>\n",
       "      <td>New</td>\n",
       "      <td>False</td>\n",
       "      <td>Walmart.com</td>\n",
       "      <td>2015-05-18T14:14:56Z</td>\n",
       "      <td>Boytone</td>\n",
       "      <td>Boytone - 2500W 2.1-Ch. Home Theater System - ...</td>\n",
       "      <td>Electronics</td>\n",
       "    </tr>\n",
       "    <tr>\n",
       "      <th>9</th>\n",
       "      <td>69.00</td>\n",
       "      <td>64.00</td>\n",
       "      <td>New</td>\n",
       "      <td>True</td>\n",
       "      <td>Walmart.com</td>\n",
       "      <td>2015-05-18T14:14:56Z</td>\n",
       "      <td>Boytone</td>\n",
       "      <td>Boytone - 2500W 2.1-Ch. Home Theater System - ...</td>\n",
       "      <td>Electronics</td>\n",
       "    </tr>\n",
       "    <tr>\n",
       "      <th>10</th>\n",
       "      <td>69.99</td>\n",
       "      <td>69.99</td>\n",
       "      <td>new</td>\n",
       "      <td>False</td>\n",
       "      <td>Bestbuy.com</td>\n",
       "      <td>2015-05-18T14:14:56Z</td>\n",
       "      <td>Boytone</td>\n",
       "      <td>Boytone - 2500W 2.1-Ch. Home Theater System - ...</td>\n",
       "      <td>Electronics</td>\n",
       "    </tr>\n",
       "    <tr>\n",
       "      <th>11</th>\n",
       "      <td>64.99</td>\n",
       "      <td>64.99</td>\n",
       "      <td>New</td>\n",
       "      <td>False</td>\n",
       "      <td>Walmart.com</td>\n",
       "      <td>2015-05-18T14:14:56Z</td>\n",
       "      <td>Boytone</td>\n",
       "      <td>Boytone - 2500W 2.1-Ch. Home Theater System - ...</td>\n",
       "      <td>Electronics</td>\n",
       "    </tr>\n",
       "    <tr>\n",
       "      <th>12</th>\n",
       "      <td>64.99</td>\n",
       "      <td>64.99</td>\n",
       "      <td>New</td>\n",
       "      <td>False</td>\n",
       "      <td>Bestbuy.com</td>\n",
       "      <td>2015-05-18T14:14:56Z</td>\n",
       "      <td>Boytone</td>\n",
       "      <td>Boytone - 2500W 2.1-Ch. Home Theater System - ...</td>\n",
       "      <td>Electronics</td>\n",
       "    </tr>\n",
       "    <tr>\n",
       "      <th>13</th>\n",
       "      <td>23.99</td>\n",
       "      <td>23.99</td>\n",
       "      <td>new</td>\n",
       "      <td>False</td>\n",
       "      <td>Bestbuy.com</td>\n",
       "      <td>2015-03-18T12:41:16Z</td>\n",
       "      <td>DENAQ</td>\n",
       "      <td>DENAQ - AC Adapter for TOSHIBA SATELLITE 1700 ...</td>\n",
       "      <td>Electronics</td>\n",
       "    </tr>\n",
       "    <tr>\n",
       "      <th>14</th>\n",
       "      <td>31.99</td>\n",
       "      <td>31.99</td>\n",
       "      <td>new</td>\n",
       "      <td>False</td>\n",
       "      <td>Wayfair - Walmart.com</td>\n",
       "      <td>2015-03-18T12:41:16Z</td>\n",
       "      <td>DENAQ</td>\n",
       "      <td>DENAQ - AC Adapter for TOSHIBA SATELLITE 1700 ...</td>\n",
       "      <td>Electronics</td>\n",
       "    </tr>\n",
       "    <tr>\n",
       "      <th>15</th>\n",
       "      <td>20.99</td>\n",
       "      <td>20.99</td>\n",
       "      <td>New</td>\n",
       "      <td>True</td>\n",
       "      <td>Bestbuy.com</td>\n",
       "      <td>2015-03-18T12:41:16Z</td>\n",
       "      <td>DENAQ</td>\n",
       "      <td>DENAQ - AC Adapter for TOSHIBA SATELLITE 1700 ...</td>\n",
       "      <td>Electronics</td>\n",
       "    </tr>\n",
       "    <tr>\n",
       "      <th>16</th>\n",
       "      <td>34.99</td>\n",
       "      <td>34.99</td>\n",
       "      <td>new</td>\n",
       "      <td>False</td>\n",
       "      <td>Wayfair - Walmart.com</td>\n",
       "      <td>2015-03-18T12:41:16Z</td>\n",
       "      <td>DENAQ</td>\n",
       "      <td>DENAQ - AC Adapter for TOSHIBA SATELLITE 1700 ...</td>\n",
       "      <td>Electronics</td>\n",
       "    </tr>\n",
       "    <tr>\n",
       "      <th>17</th>\n",
       "      <td>23.99</td>\n",
       "      <td>23.99</td>\n",
       "      <td>New</td>\n",
       "      <td>False</td>\n",
       "      <td>Bestbuy.com</td>\n",
       "      <td>2015-03-18T12:41:16Z</td>\n",
       "      <td>DENAQ</td>\n",
       "      <td>DENAQ - AC Adapter for TOSHIBA SATELLITE 1700 ...</td>\n",
       "      <td>Electronics</td>\n",
       "    </tr>\n",
       "    <tr>\n",
       "      <th>18</th>\n",
       "      <td>290.99</td>\n",
       "      <td>290.99</td>\n",
       "      <td>New</td>\n",
       "      <td>False</td>\n",
       "      <td>Bestbuy.com</td>\n",
       "      <td>2015-10-17T19:24:08Z</td>\n",
       "      <td>DreamWave</td>\n",
       "      <td>DreamWave - Tremor Portable Bluetooth Speaker ...</td>\n",
       "      <td>Electronics</td>\n",
       "    </tr>\n",
       "    <tr>\n",
       "      <th>19</th>\n",
       "      <td>279.99</td>\n",
       "      <td>279.99</td>\n",
       "      <td>New</td>\n",
       "      <td>False</td>\n",
       "      <td>Bestbuy.com</td>\n",
       "      <td>2015-10-17T19:24:08Z</td>\n",
       "      <td>DreamWave</td>\n",
       "      <td>DreamWave - Tremor Portable Bluetooth Speaker ...</td>\n",
       "      <td>Electronics</td>\n",
       "    </tr>\n",
       "    <tr>\n",
       "      <th>20</th>\n",
       "      <td>299.99</td>\n",
       "      <td>299.99</td>\n",
       "      <td>new</td>\n",
       "      <td>False</td>\n",
       "      <td>Bestbuy.com</td>\n",
       "      <td>2015-10-17T19:24:08Z</td>\n",
       "      <td>DreamWave</td>\n",
       "      <td>DreamWave - Tremor Portable Bluetooth Speaker ...</td>\n",
       "      <td>Electronics</td>\n",
       "    </tr>\n",
       "    <tr>\n",
       "      <th>21</th>\n",
       "      <td>225.99</td>\n",
       "      <td>225.99</td>\n",
       "      <td>new</td>\n",
       "      <td>True</td>\n",
       "      <td>Bestbuy.com</td>\n",
       "      <td>2015-10-17T19:24:08Z</td>\n",
       "      <td>DreamWave</td>\n",
       "      <td>DreamWave - Tremor Portable Bluetooth Speaker ...</td>\n",
       "      <td>Electronics</td>\n",
       "    </tr>\n",
       "    <tr>\n",
       "      <th>22</th>\n",
       "      <td>289.99</td>\n",
       "      <td>289.99</td>\n",
       "      <td>New</td>\n",
       "      <td>False</td>\n",
       "      <td>Bestbuy.com</td>\n",
       "      <td>2015-10-17T19:24:08Z</td>\n",
       "      <td>DreamWave</td>\n",
       "      <td>DreamWave - Tremor Portable Bluetooth Speaker ...</td>\n",
       "      <td>Electronics</td>\n",
       "    </tr>\n",
       "    <tr>\n",
       "      <th>23</th>\n",
       "      <td>244.01</td>\n",
       "      <td>244.01</td>\n",
       "      <td>New</td>\n",
       "      <td>False</td>\n",
       "      <td>Growkart</td>\n",
       "      <td>2015-07-03T18:36:05Z</td>\n",
       "      <td>Yamaha</td>\n",
       "      <td>NS-SP1800BL 5.1-Channel Home Theater System (B...</td>\n",
       "      <td>Electronics</td>\n",
       "    </tr>\n",
       "    <tr>\n",
       "      <th>24</th>\n",
       "      <td>132.99</td>\n",
       "      <td>132.99</td>\n",
       "      <td>New</td>\n",
       "      <td>True</td>\n",
       "      <td>Bestbuy.com</td>\n",
       "      <td>2015-07-03T18:36:05Z</td>\n",
       "      <td>Yamaha</td>\n",
       "      <td>NS-SP1800BL 5.1-Channel Home Theater System (B...</td>\n",
       "      <td>Electronics</td>\n",
       "    </tr>\n",
       "    <tr>\n",
       "      <th>25</th>\n",
       "      <td>149.99</td>\n",
       "      <td>149.99</td>\n",
       "      <td>New</td>\n",
       "      <td>False</td>\n",
       "      <td>Bestbuy.com</td>\n",
       "      <td>2015-07-03T18:36:05Z</td>\n",
       "      <td>Yamaha</td>\n",
       "      <td>NS-SP1800BL 5.1-Channel Home Theater System (B...</td>\n",
       "      <td>Electronics</td>\n",
       "    </tr>\n",
       "    <tr>\n",
       "      <th>26</th>\n",
       "      <td>149.95</td>\n",
       "      <td>149.95</td>\n",
       "      <td>New</td>\n",
       "      <td>True</td>\n",
       "      <td>bhphotovideo.com</td>\n",
       "      <td>2015-07-03T18:36:05Z</td>\n",
       "      <td>Yamaha</td>\n",
       "      <td>NS-SP1800BL 5.1-Channel Home Theater System (B...</td>\n",
       "      <td>Electronics</td>\n",
       "    </tr>\n",
       "    <tr>\n",
       "      <th>27</th>\n",
       "      <td>136.99</td>\n",
       "      <td>136.99</td>\n",
       "      <td>New</td>\n",
       "      <td>True</td>\n",
       "      <td>Bestbuy.com</td>\n",
       "      <td>2015-07-03T18:36:05Z</td>\n",
       "      <td>Yamaha</td>\n",
       "      <td>NS-SP1800BL 5.1-Channel Home Theater System (B...</td>\n",
       "      <td>Electronics</td>\n",
       "    </tr>\n",
       "    <tr>\n",
       "      <th>28</th>\n",
       "      <td>254.99</td>\n",
       "      <td>254.99</td>\n",
       "      <td>New</td>\n",
       "      <td>True</td>\n",
       "      <td>Bestbuy.com</td>\n",
       "      <td>2015-09-11T01:36:02Z</td>\n",
       "      <td>Universal Remote Control</td>\n",
       "      <td>Universal Remote Control - 48-Device Universal...</td>\n",
       "      <td>Electronics</td>\n",
       "    </tr>\n",
       "    <tr>\n",
       "      <th>29</th>\n",
       "      <td>209.99</td>\n",
       "      <td>209.99</td>\n",
       "      <td>New</td>\n",
       "      <td>True</td>\n",
       "      <td>Bestbuy.com</td>\n",
       "      <td>2015-09-11T01:36:02Z</td>\n",
       "      <td>Universal Remote Control</td>\n",
       "      <td>Universal Remote Control - 48-Device Universal...</td>\n",
       "      <td>Electronics</td>\n",
       "    </tr>\n",
       "    <tr>\n",
       "      <th>...</th>\n",
       "      <td>...</td>\n",
       "      <td>...</td>\n",
       "      <td>...</td>\n",
       "      <td>...</td>\n",
       "      <td>...</td>\n",
       "      <td>...</td>\n",
       "      <td>...</td>\n",
       "      <td>...</td>\n",
       "      <td>...</td>\n",
       "    </tr>\n",
       "    <tr>\n",
       "      <th>7219</th>\n",
       "      <td>199.99</td>\n",
       "      <td>199.99</td>\n",
       "      <td>New</td>\n",
       "      <td>False</td>\n",
       "      <td>Bestbuy.com</td>\n",
       "      <td>2016-12-28T22:22:15Z</td>\n",
       "      <td>Skybell</td>\n",
       "      <td>Details About Skybell Hd Wifi 1080p Video Door...</td>\n",
       "      <td>Electronics</td>\n",
       "    </tr>\n",
       "    <tr>\n",
       "      <th>7220</th>\n",
       "      <td>197.99</td>\n",
       "      <td>197.99</td>\n",
       "      <td>New</td>\n",
       "      <td>False</td>\n",
       "      <td>Top Rated Seller</td>\n",
       "      <td>2016-12-28T22:22:15Z</td>\n",
       "      <td>Skybell</td>\n",
       "      <td>Details About Skybell Hd Wifi 1080p Video Door...</td>\n",
       "      <td>Electronics</td>\n",
       "    </tr>\n",
       "    <tr>\n",
       "      <th>7221</th>\n",
       "      <td>289.98</td>\n",
       "      <td>289.98</td>\n",
       "      <td>new</td>\n",
       "      <td>False</td>\n",
       "      <td>Bestbuy.com</td>\n",
       "      <td>2015-05-19T05:45:24Z</td>\n",
       "      <td>AudioQuest</td>\n",
       "      <td>AudioQuest - Chocolate 16.5' 4K Ultra HD In-Wa...</td>\n",
       "      <td>Electronics</td>\n",
       "    </tr>\n",
       "    <tr>\n",
       "      <th>7222</th>\n",
       "      <td>289.98</td>\n",
       "      <td>289.98</td>\n",
       "      <td>New</td>\n",
       "      <td>False</td>\n",
       "      <td>Bestbuy.com</td>\n",
       "      <td>2015-05-19T05:45:24Z</td>\n",
       "      <td>AudioQuest</td>\n",
       "      <td>AudioQuest - Chocolate 16.5' 4K Ultra HD In-Wa...</td>\n",
       "      <td>Electronics</td>\n",
       "    </tr>\n",
       "    <tr>\n",
       "      <th>7223</th>\n",
       "      <td>299.99</td>\n",
       "      <td>299.99</td>\n",
       "      <td>New</td>\n",
       "      <td>False</td>\n",
       "      <td>bhphotovideo.com</td>\n",
       "      <td>2017-02-04T18:51:08Z</td>\n",
       "      <td>V-MODA</td>\n",
       "      <td>V-MODA - Crossfade Wireless Headphones - Gunme...</td>\n",
       "      <td>Electronics</td>\n",
       "    </tr>\n",
       "    <tr>\n",
       "      <th>7224</th>\n",
       "      <td>184.99</td>\n",
       "      <td>184.99</td>\n",
       "      <td>new</td>\n",
       "      <td>True</td>\n",
       "      <td>Bestbuy.com</td>\n",
       "      <td>2017-02-04T18:51:08Z</td>\n",
       "      <td>V-MODA</td>\n",
       "      <td>V-MODA - Crossfade Wireless Headphones - Gunme...</td>\n",
       "      <td>Electronics</td>\n",
       "    </tr>\n",
       "    <tr>\n",
       "      <th>7225</th>\n",
       "      <td>179.99</td>\n",
       "      <td>179.99</td>\n",
       "      <td>New</td>\n",
       "      <td>True</td>\n",
       "      <td>bhphotovideo.com</td>\n",
       "      <td>2017-02-04T18:51:08Z</td>\n",
       "      <td>V-MODA</td>\n",
       "      <td>V-MODA - Crossfade Wireless Headphones - Gunme...</td>\n",
       "      <td>Electronics</td>\n",
       "    </tr>\n",
       "    <tr>\n",
       "      <th>7226</th>\n",
       "      <td>299.98</td>\n",
       "      <td>299.98</td>\n",
       "      <td>New</td>\n",
       "      <td>False</td>\n",
       "      <td>Bestbuy.com</td>\n",
       "      <td>2017-02-04T18:51:08Z</td>\n",
       "      <td>V-MODA</td>\n",
       "      <td>V-MODA - Crossfade Wireless Headphones - Gunme...</td>\n",
       "      <td>Electronics</td>\n",
       "    </tr>\n",
       "    <tr>\n",
       "      <th>7227</th>\n",
       "      <td>148.00</td>\n",
       "      <td>148.00</td>\n",
       "      <td>Used</td>\n",
       "      <td>False</td>\n",
       "      <td>stay_at_home_dads</td>\n",
       "      <td>2017-02-04T18:51:08Z</td>\n",
       "      <td>V-MODA</td>\n",
       "      <td>V-MODA - Crossfade Wireless Headphones - Gunme...</td>\n",
       "      <td>Electronics</td>\n",
       "    </tr>\n",
       "    <tr>\n",
       "      <th>7228</th>\n",
       "      <td>299.00</td>\n",
       "      <td>179.00</td>\n",
       "      <td>New</td>\n",
       "      <td>True</td>\n",
       "      <td>Focus Camera</td>\n",
       "      <td>2017-02-04T18:51:08Z</td>\n",
       "      <td>V-MODA</td>\n",
       "      <td>V-MODA - Crossfade Wireless Headphones - Gunme...</td>\n",
       "      <td>Electronics</td>\n",
       "    </tr>\n",
       "    <tr>\n",
       "      <th>7229</th>\n",
       "      <td>199.99</td>\n",
       "      <td>199.99</td>\n",
       "      <td>New</td>\n",
       "      <td>False</td>\n",
       "      <td>bhphotovideo.com</td>\n",
       "      <td>2017-02-04T18:51:08Z</td>\n",
       "      <td>V-MODA</td>\n",
       "      <td>V-MODA - Crossfade Wireless Headphones - Gunme...</td>\n",
       "      <td>Electronics</td>\n",
       "    </tr>\n",
       "    <tr>\n",
       "      <th>7230</th>\n",
       "      <td>199.98</td>\n",
       "      <td>199.98</td>\n",
       "      <td>new</td>\n",
       "      <td>False</td>\n",
       "      <td>Bestbuy.com</td>\n",
       "      <td>2017-02-04T18:51:08Z</td>\n",
       "      <td>V-MODA</td>\n",
       "      <td>V-MODA - Crossfade Wireless Headphones - Gunme...</td>\n",
       "      <td>Electronics</td>\n",
       "    </tr>\n",
       "    <tr>\n",
       "      <th>7231</th>\n",
       "      <td>59.99</td>\n",
       "      <td>59.99</td>\n",
       "      <td>new</td>\n",
       "      <td>False</td>\n",
       "      <td>Bestbuy.com</td>\n",
       "      <td>2018-01-30T02:57:44Z</td>\n",
       "      <td>Logitech</td>\n",
       "      <td>Details About New Logitech G230 981000541 Headset</td>\n",
       "      <td>Electronics</td>\n",
       "    </tr>\n",
       "    <tr>\n",
       "      <th>7232</th>\n",
       "      <td>78.67</td>\n",
       "      <td>78.67</td>\n",
       "      <td>New</td>\n",
       "      <td>False</td>\n",
       "      <td>apc_sales</td>\n",
       "      <td>2018-01-30T02:57:44Z</td>\n",
       "      <td>Logitech</td>\n",
       "      <td>Details About New Logitech G230 981000541 Headset</td>\n",
       "      <td>Electronics</td>\n",
       "    </tr>\n",
       "    <tr>\n",
       "      <th>7233</th>\n",
       "      <td>24.99</td>\n",
       "      <td>24.99</td>\n",
       "      <td>New other (see details)</td>\n",
       "      <td>False</td>\n",
       "      <td>bigdeals</td>\n",
       "      <td>2018-01-30T02:57:44Z</td>\n",
       "      <td>Logitech</td>\n",
       "      <td>Details About New Logitech G230 981000541 Headset</td>\n",
       "      <td>Electronics</td>\n",
       "    </tr>\n",
       "    <tr>\n",
       "      <th>7234</th>\n",
       "      <td>34.99</td>\n",
       "      <td>34.99</td>\n",
       "      <td>New</td>\n",
       "      <td>True</td>\n",
       "      <td>bhphotovideo.com</td>\n",
       "      <td>2018-01-30T02:57:44Z</td>\n",
       "      <td>Logitech</td>\n",
       "      <td>Details About New Logitech G230 981000541 Headset</td>\n",
       "      <td>Electronics</td>\n",
       "    </tr>\n",
       "    <tr>\n",
       "      <th>7235</th>\n",
       "      <td>26.99</td>\n",
       "      <td>26.99</td>\n",
       "      <td>New other (see details)</td>\n",
       "      <td>False</td>\n",
       "      <td>poppy9780</td>\n",
       "      <td>2018-01-30T02:57:44Z</td>\n",
       "      <td>Logitech</td>\n",
       "      <td>Details About New Logitech G230 981000541 Headset</td>\n",
       "      <td>Electronics</td>\n",
       "    </tr>\n",
       "    <tr>\n",
       "      <th>7236</th>\n",
       "      <td>29.99</td>\n",
       "      <td>29.99</td>\n",
       "      <td>new</td>\n",
       "      <td>True</td>\n",
       "      <td>Bestbuy.com</td>\n",
       "      <td>2018-01-30T02:57:44Z</td>\n",
       "      <td>Logitech</td>\n",
       "      <td>Details About New Logitech G230 981000541 Headset</td>\n",
       "      <td>Electronics</td>\n",
       "    </tr>\n",
       "    <tr>\n",
       "      <th>7237</th>\n",
       "      <td>59.99</td>\n",
       "      <td>59.99</td>\n",
       "      <td>New</td>\n",
       "      <td>False</td>\n",
       "      <td>bhphotovideo.com</td>\n",
       "      <td>2018-01-30T02:57:44Z</td>\n",
       "      <td>Logitech</td>\n",
       "      <td>Details About New Logitech G230 981000541 Headset</td>\n",
       "      <td>Electronics</td>\n",
       "    </tr>\n",
       "    <tr>\n",
       "      <th>7238</th>\n",
       "      <td>62.99</td>\n",
       "      <td>62.99</td>\n",
       "      <td>New</td>\n",
       "      <td>False</td>\n",
       "      <td>bhphotovideo.com</td>\n",
       "      <td>2016-06-10T18:41:15Z</td>\n",
       "      <td>Lowepro</td>\n",
       "      <td>Lowepro - Slingshot Edge 250 AW Camera Backpac...</td>\n",
       "      <td>Electronics</td>\n",
       "    </tr>\n",
       "    <tr>\n",
       "      <th>7239</th>\n",
       "      <td>81.99</td>\n",
       "      <td>81.99</td>\n",
       "      <td>new</td>\n",
       "      <td>False</td>\n",
       "      <td>Bestbuy.com</td>\n",
       "      <td>2016-06-10T18:41:15Z</td>\n",
       "      <td>Lowepro</td>\n",
       "      <td>Lowepro - Slingshot Edge 250 AW Camera Backpac...</td>\n",
       "      <td>Electronics</td>\n",
       "    </tr>\n",
       "    <tr>\n",
       "      <th>7240</th>\n",
       "      <td>79.95</td>\n",
       "      <td>79.95</td>\n",
       "      <td>New</td>\n",
       "      <td>False</td>\n",
       "      <td>bhphotovideo.com</td>\n",
       "      <td>2016-06-10T18:41:15Z</td>\n",
       "      <td>Lowepro</td>\n",
       "      <td>Lowepro - Slingshot Edge 250 AW Camera Backpac...</td>\n",
       "      <td>Electronics</td>\n",
       "    </tr>\n",
       "    <tr>\n",
       "      <th>7241</th>\n",
       "      <td>77.82</td>\n",
       "      <td>77.82</td>\n",
       "      <td>New</td>\n",
       "      <td>False</td>\n",
       "      <td>bhphotovideo.com</td>\n",
       "      <td>2016-06-10T18:41:15Z</td>\n",
       "      <td>Lowepro</td>\n",
       "      <td>Lowepro - Slingshot Edge 250 AW Camera Backpac...</td>\n",
       "      <td>Electronics</td>\n",
       "    </tr>\n",
       "    <tr>\n",
       "      <th>7242</th>\n",
       "      <td>67.49</td>\n",
       "      <td>67.49</td>\n",
       "      <td>New</td>\n",
       "      <td>False</td>\n",
       "      <td>bhphotovideo.com</td>\n",
       "      <td>2016-06-10T18:41:15Z</td>\n",
       "      <td>Lowepro</td>\n",
       "      <td>Lowepro - Slingshot Edge 250 AW Camera Backpac...</td>\n",
       "      <td>Electronics</td>\n",
       "    </tr>\n",
       "    <tr>\n",
       "      <th>7243</th>\n",
       "      <td>67.72</td>\n",
       "      <td>67.72</td>\n",
       "      <td>New</td>\n",
       "      <td>False</td>\n",
       "      <td>bhphotovideo.com</td>\n",
       "      <td>2016-06-10T18:41:15Z</td>\n",
       "      <td>Lowepro</td>\n",
       "      <td>Lowepro - Slingshot Edge 250 AW Camera Backpac...</td>\n",
       "      <td>Electronics</td>\n",
       "    </tr>\n",
       "    <tr>\n",
       "      <th>7244</th>\n",
       "      <td>79.99</td>\n",
       "      <td>79.99</td>\n",
       "      <td>New</td>\n",
       "      <td>False</td>\n",
       "      <td>Bestbuy.com</td>\n",
       "      <td>2016-06-10T18:41:15Z</td>\n",
       "      <td>Lowepro</td>\n",
       "      <td>Lowepro - Slingshot Edge 250 AW Camera Backpac...</td>\n",
       "      <td>Electronics</td>\n",
       "    </tr>\n",
       "    <tr>\n",
       "      <th>7245</th>\n",
       "      <td>68.75</td>\n",
       "      <td>68.75</td>\n",
       "      <td>New</td>\n",
       "      <td>False</td>\n",
       "      <td>bhphotovideo.com</td>\n",
       "      <td>2016-06-10T18:41:15Z</td>\n",
       "      <td>Lowepro</td>\n",
       "      <td>Lowepro - Slingshot Edge 250 AW Camera Backpac...</td>\n",
       "      <td>Electronics</td>\n",
       "    </tr>\n",
       "    <tr>\n",
       "      <th>7246</th>\n",
       "      <td>70.99</td>\n",
       "      <td>70.99</td>\n",
       "      <td>New</td>\n",
       "      <td>False</td>\n",
       "      <td>Bestbuy.com</td>\n",
       "      <td>2016-06-10T18:41:15Z</td>\n",
       "      <td>Lowepro</td>\n",
       "      <td>Lowepro - Slingshot Edge 250 AW Camera Backpac...</td>\n",
       "      <td>Electronics</td>\n",
       "    </tr>\n",
       "    <tr>\n",
       "      <th>7247</th>\n",
       "      <td>71.99</td>\n",
       "      <td>71.99</td>\n",
       "      <td>New</td>\n",
       "      <td>False</td>\n",
       "      <td>Bestbuy.com</td>\n",
       "      <td>2016-06-10T18:41:15Z</td>\n",
       "      <td>Lowepro</td>\n",
       "      <td>Lowepro - Slingshot Edge 250 AW Camera Backpac...</td>\n",
       "      <td>Electronics</td>\n",
       "    </tr>\n",
       "    <tr>\n",
       "      <th>7248</th>\n",
       "      <td>67.77</td>\n",
       "      <td>67.77</td>\n",
       "      <td>New</td>\n",
       "      <td>False</td>\n",
       "      <td>Walmart.com</td>\n",
       "      <td>2016-06-10T18:41:15Z</td>\n",
       "      <td>Lowepro</td>\n",
       "      <td>Lowepro - Slingshot Edge 250 AW Camera Backpac...</td>\n",
       "      <td>Electronics</td>\n",
       "    </tr>\n",
       "  </tbody>\n",
       "</table>\n",
       "<p>7249 rows × 9 columns</p>\n",
       "</div>"
      ],
      "text/plain": [
       "      prices.amountMax  prices.amountMin         prices.condition  \\\n",
       "0               104.99            104.99                      New   \n",
       "1                69.00             64.99                      New   \n",
       "2                69.00             69.00                      New   \n",
       "3                69.99             69.99                      New   \n",
       "4                66.99             66.99                      New   \n",
       "5                66.00             66.00                      New   \n",
       "6                74.99             74.99                      New   \n",
       "7                65.99             65.99                      New   \n",
       "8                69.99             69.99                      New   \n",
       "9                69.00             64.00                      New   \n",
       "10               69.99             69.99                      new   \n",
       "11               64.99             64.99                      New   \n",
       "12               64.99             64.99                      New   \n",
       "13               23.99             23.99                      new   \n",
       "14               31.99             31.99                      new   \n",
       "15               20.99             20.99                      New   \n",
       "16               34.99             34.99                      new   \n",
       "17               23.99             23.99                      New   \n",
       "18              290.99            290.99                      New   \n",
       "19              279.99            279.99                      New   \n",
       "20              299.99            299.99                      new   \n",
       "21              225.99            225.99                      new   \n",
       "22              289.99            289.99                      New   \n",
       "23              244.01            244.01                      New   \n",
       "24              132.99            132.99                      New   \n",
       "25              149.99            149.99                      New   \n",
       "26              149.95            149.95                      New   \n",
       "27              136.99            136.99                      New   \n",
       "28              254.99            254.99                      New   \n",
       "29              209.99            209.99                      New   \n",
       "...                ...               ...                      ...   \n",
       "7219            199.99            199.99                      New   \n",
       "7220            197.99            197.99                      New   \n",
       "7221            289.98            289.98                      new   \n",
       "7222            289.98            289.98                      New   \n",
       "7223            299.99            299.99                      New   \n",
       "7224            184.99            184.99                      new   \n",
       "7225            179.99            179.99                      New   \n",
       "7226            299.98            299.98                      New   \n",
       "7227            148.00            148.00                     Used   \n",
       "7228            299.00            179.00                      New   \n",
       "7229            199.99            199.99                      New   \n",
       "7230            199.98            199.98                      new   \n",
       "7231             59.99             59.99                      new   \n",
       "7232             78.67             78.67                      New   \n",
       "7233             24.99             24.99  New other (see details)   \n",
       "7234             34.99             34.99                      New   \n",
       "7235             26.99             26.99  New other (see details)   \n",
       "7236             29.99             29.99                      new   \n",
       "7237             59.99             59.99                      New   \n",
       "7238             62.99             62.99                      New   \n",
       "7239             81.99             81.99                      new   \n",
       "7240             79.95             79.95                      New   \n",
       "7241             77.82             77.82                      New   \n",
       "7242             67.49             67.49                      New   \n",
       "7243             67.72             67.72                      New   \n",
       "7244             79.99             79.99                      New   \n",
       "7245             68.75             68.75                      New   \n",
       "7246             70.99             70.99                      New   \n",
       "7247             71.99             71.99                      New   \n",
       "7248             67.77             67.77                      New   \n",
       "\n",
       "      prices.isSale         prices.merchant             dateAdded  \\\n",
       "0             False             Bestbuy.com  2015-04-13T12:00:51Z   \n",
       "1              True             Walmart.com  2015-05-18T14:14:56Z   \n",
       "2             False             Walmart.com  2015-05-18T14:14:56Z   \n",
       "3             False             Bestbuy.com  2015-05-18T14:14:56Z   \n",
       "4             False             Bestbuy.com  2015-05-18T14:14:56Z   \n",
       "5             False             Walmart.com  2015-05-18T14:14:56Z   \n",
       "6             False  California Electronics  2015-05-18T14:14:56Z   \n",
       "7             False             Bestbuy.com  2015-05-18T14:14:56Z   \n",
       "8             False             Walmart.com  2015-05-18T14:14:56Z   \n",
       "9              True             Walmart.com  2015-05-18T14:14:56Z   \n",
       "10            False             Bestbuy.com  2015-05-18T14:14:56Z   \n",
       "11            False             Walmart.com  2015-05-18T14:14:56Z   \n",
       "12            False             Bestbuy.com  2015-05-18T14:14:56Z   \n",
       "13            False             Bestbuy.com  2015-03-18T12:41:16Z   \n",
       "14            False   Wayfair - Walmart.com  2015-03-18T12:41:16Z   \n",
       "15             True             Bestbuy.com  2015-03-18T12:41:16Z   \n",
       "16            False   Wayfair - Walmart.com  2015-03-18T12:41:16Z   \n",
       "17            False             Bestbuy.com  2015-03-18T12:41:16Z   \n",
       "18            False             Bestbuy.com  2015-10-17T19:24:08Z   \n",
       "19            False             Bestbuy.com  2015-10-17T19:24:08Z   \n",
       "20            False             Bestbuy.com  2015-10-17T19:24:08Z   \n",
       "21             True             Bestbuy.com  2015-10-17T19:24:08Z   \n",
       "22            False             Bestbuy.com  2015-10-17T19:24:08Z   \n",
       "23            False                Growkart  2015-07-03T18:36:05Z   \n",
       "24             True             Bestbuy.com  2015-07-03T18:36:05Z   \n",
       "25            False             Bestbuy.com  2015-07-03T18:36:05Z   \n",
       "26             True        bhphotovideo.com  2015-07-03T18:36:05Z   \n",
       "27             True             Bestbuy.com  2015-07-03T18:36:05Z   \n",
       "28             True             Bestbuy.com  2015-09-11T01:36:02Z   \n",
       "29             True             Bestbuy.com  2015-09-11T01:36:02Z   \n",
       "...             ...                     ...                   ...   \n",
       "7219          False             Bestbuy.com  2016-12-28T22:22:15Z   \n",
       "7220          False        Top Rated Seller  2016-12-28T22:22:15Z   \n",
       "7221          False             Bestbuy.com  2015-05-19T05:45:24Z   \n",
       "7222          False             Bestbuy.com  2015-05-19T05:45:24Z   \n",
       "7223          False        bhphotovideo.com  2017-02-04T18:51:08Z   \n",
       "7224           True             Bestbuy.com  2017-02-04T18:51:08Z   \n",
       "7225           True        bhphotovideo.com  2017-02-04T18:51:08Z   \n",
       "7226          False             Bestbuy.com  2017-02-04T18:51:08Z   \n",
       "7227          False       stay_at_home_dads  2017-02-04T18:51:08Z   \n",
       "7228           True            Focus Camera  2017-02-04T18:51:08Z   \n",
       "7229          False        bhphotovideo.com  2017-02-04T18:51:08Z   \n",
       "7230          False             Bestbuy.com  2017-02-04T18:51:08Z   \n",
       "7231          False             Bestbuy.com  2018-01-30T02:57:44Z   \n",
       "7232          False               apc_sales  2018-01-30T02:57:44Z   \n",
       "7233          False                bigdeals  2018-01-30T02:57:44Z   \n",
       "7234           True        bhphotovideo.com  2018-01-30T02:57:44Z   \n",
       "7235          False               poppy9780  2018-01-30T02:57:44Z   \n",
       "7236           True             Bestbuy.com  2018-01-30T02:57:44Z   \n",
       "7237          False        bhphotovideo.com  2018-01-30T02:57:44Z   \n",
       "7238          False        bhphotovideo.com  2016-06-10T18:41:15Z   \n",
       "7239          False             Bestbuy.com  2016-06-10T18:41:15Z   \n",
       "7240          False        bhphotovideo.com  2016-06-10T18:41:15Z   \n",
       "7241          False        bhphotovideo.com  2016-06-10T18:41:15Z   \n",
       "7242          False        bhphotovideo.com  2016-06-10T18:41:15Z   \n",
       "7243          False        bhphotovideo.com  2016-06-10T18:41:15Z   \n",
       "7244          False             Bestbuy.com  2016-06-10T18:41:15Z   \n",
       "7245          False        bhphotovideo.com  2016-06-10T18:41:15Z   \n",
       "7246          False             Bestbuy.com  2016-06-10T18:41:15Z   \n",
       "7247          False             Bestbuy.com  2016-06-10T18:41:15Z   \n",
       "7248          False             Walmart.com  2016-06-10T18:41:15Z   \n",
       "\n",
       "                         brand  \\\n",
       "0                        Sanus   \n",
       "1                      Boytone   \n",
       "2                      Boytone   \n",
       "3                      Boytone   \n",
       "4                      Boytone   \n",
       "5                      Boytone   \n",
       "6                      Boytone   \n",
       "7                      Boytone   \n",
       "8                      Boytone   \n",
       "9                      Boytone   \n",
       "10                     Boytone   \n",
       "11                     Boytone   \n",
       "12                     Boytone   \n",
       "13                       DENAQ   \n",
       "14                       DENAQ   \n",
       "15                       DENAQ   \n",
       "16                       DENAQ   \n",
       "17                       DENAQ   \n",
       "18                   DreamWave   \n",
       "19                   DreamWave   \n",
       "20                   DreamWave   \n",
       "21                   DreamWave   \n",
       "22                   DreamWave   \n",
       "23                      Yamaha   \n",
       "24                      Yamaha   \n",
       "25                      Yamaha   \n",
       "26                      Yamaha   \n",
       "27                      Yamaha   \n",
       "28    Universal Remote Control   \n",
       "29    Universal Remote Control   \n",
       "...                        ...   \n",
       "7219                   Skybell   \n",
       "7220                   Skybell   \n",
       "7221                AudioQuest   \n",
       "7222                AudioQuest   \n",
       "7223                    V-MODA   \n",
       "7224                    V-MODA   \n",
       "7225                    V-MODA   \n",
       "7226                    V-MODA   \n",
       "7227                    V-MODA   \n",
       "7228                    V-MODA   \n",
       "7229                    V-MODA   \n",
       "7230                    V-MODA   \n",
       "7231                  Logitech   \n",
       "7232                  Logitech   \n",
       "7233                  Logitech   \n",
       "7234                  Logitech   \n",
       "7235                  Logitech   \n",
       "7236                  Logitech   \n",
       "7237                  Logitech   \n",
       "7238                   Lowepro   \n",
       "7239                   Lowepro   \n",
       "7240                   Lowepro   \n",
       "7241                   Lowepro   \n",
       "7242                   Lowepro   \n",
       "7243                   Lowepro   \n",
       "7244                   Lowepro   \n",
       "7245                   Lowepro   \n",
       "7246                   Lowepro   \n",
       "7247                   Lowepro   \n",
       "7248                   Lowepro   \n",
       "\n",
       "                                                   name primaryCategories  \n",
       "0     Sanus VLF410B1 10-Inch Super Slim Full-Motion ...       Electronics  \n",
       "1     Boytone - 2500W 2.1-Ch. Home Theater System - ...       Electronics  \n",
       "2     Boytone - 2500W 2.1-Ch. Home Theater System - ...       Electronics  \n",
       "3     Boytone - 2500W 2.1-Ch. Home Theater System - ...       Electronics  \n",
       "4     Boytone - 2500W 2.1-Ch. Home Theater System - ...       Electronics  \n",
       "5     Boytone - 2500W 2.1-Ch. Home Theater System - ...       Electronics  \n",
       "6     Boytone - 2500W 2.1-Ch. Home Theater System - ...       Electronics  \n",
       "7     Boytone - 2500W 2.1-Ch. Home Theater System - ...       Electronics  \n",
       "8     Boytone - 2500W 2.1-Ch. Home Theater System - ...       Electronics  \n",
       "9     Boytone - 2500W 2.1-Ch. Home Theater System - ...       Electronics  \n",
       "10    Boytone - 2500W 2.1-Ch. Home Theater System - ...       Electronics  \n",
       "11    Boytone - 2500W 2.1-Ch. Home Theater System - ...       Electronics  \n",
       "12    Boytone - 2500W 2.1-Ch. Home Theater System - ...       Electronics  \n",
       "13    DENAQ - AC Adapter for TOSHIBA SATELLITE 1700 ...       Electronics  \n",
       "14    DENAQ - AC Adapter for TOSHIBA SATELLITE 1700 ...       Electronics  \n",
       "15    DENAQ - AC Adapter for TOSHIBA SATELLITE 1700 ...       Electronics  \n",
       "16    DENAQ - AC Adapter for TOSHIBA SATELLITE 1700 ...       Electronics  \n",
       "17    DENAQ - AC Adapter for TOSHIBA SATELLITE 1700 ...       Electronics  \n",
       "18    DreamWave - Tremor Portable Bluetooth Speaker ...       Electronics  \n",
       "19    DreamWave - Tremor Portable Bluetooth Speaker ...       Electronics  \n",
       "20    DreamWave - Tremor Portable Bluetooth Speaker ...       Electronics  \n",
       "21    DreamWave - Tremor Portable Bluetooth Speaker ...       Electronics  \n",
       "22    DreamWave - Tremor Portable Bluetooth Speaker ...       Electronics  \n",
       "23    NS-SP1800BL 5.1-Channel Home Theater System (B...       Electronics  \n",
       "24    NS-SP1800BL 5.1-Channel Home Theater System (B...       Electronics  \n",
       "25    NS-SP1800BL 5.1-Channel Home Theater System (B...       Electronics  \n",
       "26    NS-SP1800BL 5.1-Channel Home Theater System (B...       Electronics  \n",
       "27    NS-SP1800BL 5.1-Channel Home Theater System (B...       Electronics  \n",
       "28    Universal Remote Control - 48-Device Universal...       Electronics  \n",
       "29    Universal Remote Control - 48-Device Universal...       Electronics  \n",
       "...                                                 ...               ...  \n",
       "7219  Details About Skybell Hd Wifi 1080p Video Door...       Electronics  \n",
       "7220  Details About Skybell Hd Wifi 1080p Video Door...       Electronics  \n",
       "7221  AudioQuest - Chocolate 16.5' 4K Ultra HD In-Wa...       Electronics  \n",
       "7222  AudioQuest - Chocolate 16.5' 4K Ultra HD In-Wa...       Electronics  \n",
       "7223  V-MODA - Crossfade Wireless Headphones - Gunme...       Electronics  \n",
       "7224  V-MODA - Crossfade Wireless Headphones - Gunme...       Electronics  \n",
       "7225  V-MODA - Crossfade Wireless Headphones - Gunme...       Electronics  \n",
       "7226  V-MODA - Crossfade Wireless Headphones - Gunme...       Electronics  \n",
       "7227  V-MODA - Crossfade Wireless Headphones - Gunme...       Electronics  \n",
       "7228  V-MODA - Crossfade Wireless Headphones - Gunme...       Electronics  \n",
       "7229  V-MODA - Crossfade Wireless Headphones - Gunme...       Electronics  \n",
       "7230  V-MODA - Crossfade Wireless Headphones - Gunme...       Electronics  \n",
       "7231  Details About New Logitech G230 981000541 Headset       Electronics  \n",
       "7232  Details About New Logitech G230 981000541 Headset       Electronics  \n",
       "7233  Details About New Logitech G230 981000541 Headset       Electronics  \n",
       "7234  Details About New Logitech G230 981000541 Headset       Electronics  \n",
       "7235  Details About New Logitech G230 981000541 Headset       Electronics  \n",
       "7236  Details About New Logitech G230 981000541 Headset       Electronics  \n",
       "7237  Details About New Logitech G230 981000541 Headset       Electronics  \n",
       "7238  Lowepro - Slingshot Edge 250 AW Camera Backpac...       Electronics  \n",
       "7239  Lowepro - Slingshot Edge 250 AW Camera Backpac...       Electronics  \n",
       "7240  Lowepro - Slingshot Edge 250 AW Camera Backpac...       Electronics  \n",
       "7241  Lowepro - Slingshot Edge 250 AW Camera Backpac...       Electronics  \n",
       "7242  Lowepro - Slingshot Edge 250 AW Camera Backpac...       Electronics  \n",
       "7243  Lowepro - Slingshot Edge 250 AW Camera Backpac...       Electronics  \n",
       "7244  Lowepro - Slingshot Edge 250 AW Camera Backpac...       Electronics  \n",
       "7245  Lowepro - Slingshot Edge 250 AW Camera Backpac...       Electronics  \n",
       "7246  Lowepro - Slingshot Edge 250 AW Camera Backpac...       Electronics  \n",
       "7247  Lowepro - Slingshot Edge 250 AW Camera Backpac...       Electronics  \n",
       "7248  Lowepro - Slingshot Edge 250 AW Camera Backpac...       Electronics  \n",
       "\n",
       "[7249 rows x 9 columns]"
      ]
     },
     "execution_count": 16,
     "metadata": {},
     "output_type": "execute_result"
    }
   ],
   "source": [
    "ecom_data_new.drop(['manufacturer'], axis=1)"
>>>>>>> b0d584471e11d7e82561ff86bbef5fadf0392559
   ]
  },
  {
   "cell_type": "code",
<<<<<<< HEAD
   "execution_count": 25,
   "metadata": {
    "ExecuteTime": {
     "end_time": "2019-11-14T15:08:37.856311Z",
     "start_time": "2019-11-14T15:07:46.096392Z"
=======
   "execution_count": 18,
   "metadata": {
    "ExecuteTime": {
     "end_time": "2019-11-06T01:42:58.835202Z",
     "start_time": "2019-11-06T01:42:58.819225Z"
>>>>>>> b0d584471e11d7e82561ff86bbef5fadf0392559
    }
   },
   "outputs": [
    {
<<<<<<< HEAD
     "name": "stdout",
     "output_type": "stream",
     "text": [
      "<class 'pandas.core.frame.DataFrame'>\n",
      "Int64Index: 4907 entries, 0 to 7247\n",
      "Data columns (total 9 columns):\n",
      "prices.amountMax     4907 non-null float64\n",
      "prices.amountMin     4907 non-null float64\n",
      "prices.condition     4907 non-null object\n",
      "prices.isSale        4907 non-null bool\n",
      "prices.merchant      4907 non-null category\n",
      "dateAdded            4907 non-null object\n",
      "brand                4907 non-null object\n",
      "name                 4907 non-null object\n",
      "primaryCategories    4907 non-null object\n",
      "dtypes: bool(1), category(1), float64(2), object(5)\n",
      "memory usage: 317.0+ KB\n"
     ]
    },
    {
     "data": {
      "image/png": "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\n",
      "text/plain": [
       "<Figure size 720x288 with 1 Axes>"
      ]
     },
     "metadata": {
      "needs_background": "light"
     },
     "output_type": "display_data"
    },
    {
     "data": {
      "image/png": "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\n",
      "text/plain": [
       "<Figure size 720x288 with 1 Axes>"
      ]
     },
     "metadata": {
      "needs_background": "light"
     },
     "output_type": "display_data"
    },
    {
     "data": {
      "image/png": "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\n",
      "text/plain": [
       "<Figure size 720x288 with 1 Axes>"
      ]
     },
     "metadata": {
      "needs_background": "light"
     },
     "output_type": "display_data"
    },
    {
     "data": {
      "image/png": "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\n",
      "text/plain": [
       "<Figure size 720x288 with 1 Axes>"
      ]
     },
     "metadata": {
      "needs_background": "light"
     },
     "output_type": "display_data"
    },
    {
     "data": {
      "image/png": "iVBORw0KGgoAAAANSUhEUgAAAsgAAAEYCAYAAABBfQDEAAAABHNCSVQICAgIfAhkiAAAAAlwSFlzAAALEgAACxIB0t1+/AAAADh0RVh0U29mdHdhcmUAbWF0cGxvdGxpYiB2ZXJzaW9uMy4xLjAsIGh0dHA6Ly9tYXRwbG90bGliLm9yZy+17YcXAAAgAElEQVR4nOzdd5hdVb3/8feHIgFC732uoYQeyIBSpAjGhgoCBsQSLAgiiAper3AFVAR+WK6CgLlIlSb1cgHphBIDZNITqgiIF6R3Qguf3x97Hdg5OVMSJoXM5/U888w5a6+2d4aH76xZZ31lm4iIiIiIqCwwtycQERERETEvSYAcEREREVGTADkiIiIioiYBckRERERETQLkiIiIiIiaBMgRERERETUJkCMiYo6T9BFJ983tecxuknaQ9M+5PY+ImDkJkCMiYo6zfZvt9eb2PN7PJB0l6U9zex4R86MEyBERMUdJWmhuz6G3qJL/l0bMZ/IfdURE9ApJD0v6D0l3S3pO0hmS+jW2GUj6d0n/As5o3nogaQ1Jl0p6StIzkk6qXfuapHtKn9dKWquUS9JvJD0p6QVJEyVt1MXcDit1XpH0R0krSfqLpJck3SBpmVr9D0v6q6TnJU2QtEPt2ghJx0gaCbwKfFDSsuV+HyvzvLxp/B+UeT4uad9a+acljZP0oqRHJR1Vu9YmyZK+Kukfkp6WdHi59gngx8BQSS9LmjCL/2wR0UIC5IiI6E37AB8HBgDrAkeU8pWBZYG1gP3qDSQtCFwJPAK0AasBF5Rru1IFgp8HVgBuA84vTYcA25VxlgaGAs90MbfdgY+V+p8B/lL6Xp7q/4cHlzFXA64Cfl7mfChwiaQVan19udzHEmXe5wCLARsCKwK/qdVdGViq3NfXgd/XgvFXgK+U+X8aOKDcc922wHrATsBPJK1v+xrgF8CFtvvb3rSL+46ImZQAOSIietNJth+1/SxwDLB3KX8bONL267anNrXZElgVOMz2K7Zfs317ufYt4Fjb99h+iyooHFRWkd+kClAHAip1Hu9ibifafsL2/1EF2nfaHmf7deAyYLNS70vA1bavtv227euBDuBTtb7OtD2lzGl54JPA/rafs/2m7Vtqdd8EflrKrwZepgp4sT3C9qQyzkSq4H/7pnkfbXuq7QnABCDBcMRslgA5IiJ606O1149QBb4AT9l+rZM2awCPlGCz2VrAb8tWh+eBZwEBq9m+CTgJ+D3whKThkpbsYm5P1F5PbfG+f23MPRtjlnG3BVbp5D7XAJ61/Vwn4z7TdG+vNsaS9CFJN5etJS8A+1MF3HX/atU2ImafBMgREdGb1qi9XhN4rLx2F20eBdbs5MN7jwLfsr107WtR238FsP0724OptjasCxz23m+BR4FzmsZc3PZxtTpuqr+spKVnYazzgCuANWwvBZxK9QtAT3T1TCPiPUiAHBERvelASatLWpZqf++FPWhzF/A4cJykxcsH+7Yp104F/kPShgCSlpK0Z3m9RVmBXZhqL+9rwLReuIc/AZ+R9HFJC9Y+aLh6q8plW8dfgJMlLSNpYUnb9XCsJahWn1+TtCXwxZmY5xNAW07RiOh9+Y8qIiJ603nAdcDfy9fPu2tgexrVh+bWBv4B/JPqA3fYvgw4HrhA0ovAZKr9vgBLAv8NPEe1neMZ4JcAkn4s6S+zcgO2HwU+RxXgP0W1QnwYXf8/88tUe43vBZ4EDunhcN8GfirpJeAnwJ9nYqoXle/PSBo7E+0iohuy8xeaiIh47yQ9DHzD9g1zey4REe9FVpAjIiIiImoSIEdERERE1GSLRURERERETVaQIyIiIiJqWp05GdHnLb/88m5ra5vb04iIiIjZaMyYMU/bXqG5PAFyRAttbW10dHTM7WlERETEbCTpkVblCZAjWnjrqWd56pQ/dVtvhQO+NAdmExEREXNS9iC/z0jaTZIlDayVtZWyn9XKlpf0pqSTyvujJB3a1NcOkkY1lS0k6QlJq8zC3NokzUwWqPes3MOVc3LMiIiImL8lQH7/2Ru4HdirqfzvwC6193sCU7rp61ZgdUlttbKdgcklderMamPm0qQCIGnBWRgrIiIiYrZIgPw+Iqk/sA3wdWYMkKcC90hqL++H0k3KUttvU6UqHVor3gs4v4w3QNI1ksZIuq2xai3pTEm/k/RXSX+XtEdpexzwEUnjJX1P0rDGCnZpd6WkHcrrlyX9VNKdwFaSBku6pYx1bWMFW9LBku6WNFHSBd08n6MknS5pRJnXwbVrXyl9TJB0Tlf9RERERN+WAPn9ZVfgGtv3A89K2rzp+gXAXpJWB6YBj/Wgz/MpwbakRYBPAZeUa8OBg2wPBg4FTq61WwXYlmrV+rhS9iPgNtuDbP+mm3EXp1qp/hBwJ3AisEcZ63TgmFqfm9neBNi/B/czEPg4sCVwpKSFJW0IHA581PamwHd70E9ERET0UfmQ3vvL3sB/ldcXlPdja9evAX4GPAFc2JMObY+W1F/SesD6wB22nyur1VsDF0lqVF+k1vTysgJ9t6SVZuFepvFuIL4esBFwfRlrQaCxxWMicK6ky4HLe9DvVbZfB16X9CSwEvBR4GLbT5d7frZVQ0n7AfsBrL7scrNwSxERETE/SID8PiFpOapAbyNJpgoiLemHjTq235A0BvgBsCHwmR52fwHVKvL6lO0VVH9deN72oE7avF6fXid13mL6v1L0q71+zfa0Wvsptrdq0cenge2AzwL/KWlD2291eifTz2sa1c+4gG5TRtoeTrVqzqC1PpgUkxEREX1Utli8f+wBnG17LdttttcAHqLa5lD3K+DfbT8zE32fD3yJKgC/AsD2i8BDkvYEUGXTbvp5CVii9v5hYJCkBSStQbXtoZX7gBUkbVXGWljShpIWANawfTPwQ2BpoP9M3FfDjcAXyi8ZSFp2FvqIiIiIPiIB8vvH3sBlTWWX0HRqhO0pts+amY5t3w28Ctxk+5XapX2Ar0uaQHUixue66Woi8Fb5INz3gJFUQfwk4JdMvx2kPv4bVL8AHF/GGk+1vWNB4E+SJgHjgN/Yfn5m7q30P4VqT/Mtpf9fz2wfERER0XfIzl+SI5q1t7c7mfQiIiLmb5LG2G5vLs8KckRERERETQLkiIiIiIianGIR0cKbTz3Gv045eobylQ84ci7MJiIiIuakrCBHRERERNQkQH4fkzStpHWeIGmspK17uf+jJB3aw7qbSbKkj8/COG2SJpfX7ZJ+NxNtd5B05cyOGREREdGZbLF4f5vaSORRAtNjge3n0lz2Bm4v36+d1U5sdwA5PiIiIiLmmqwgzz+WBJ5rvJF0mKTRkiZKOrpWfrmkMZKmlNTKjfJPlFXoCZJurPW7gaQRkv4u6eBWA6vKD70HMAwYIqlfKX9nZbi8P1TSUeX14DLWKODAWp13VoQlLVvmO1HSHZI26eoBlBXv01vNV9JXSj8TJJ3TVT8RERHRt2UF+f1tUUnjqVI4r0KVCQ9JQ4B1qDLXCbhC0na2bwW+ZvtZSYsCoyVdQvWL0n8D29l+qCnT3EBgR6oMefdJOsX2m03z2AZ4yPaDkkYAnwIu7WbuZwAH2b5F0gmd1DkaGGd7V0kfBc4GOkt93el8gXWBw4FtbD/dWSa98gvDfgCrLbtUN8NERETE/CoryO9vU20Psj0Q+ARwdlnNHVK+xlFlrxtIFTADHFyyyd0BrFHKPwzcavshANvP1sa4yvbrtp8GngRWajGPvYELyusLyvtOSVoKWNr2LaWosxXdbRvXbN8ELFfadqXVfD8KXFzKmu/vHbaH22633b5c/8W6GSYiIiLmV1lBnk/YHiVpeWAFqlXjY23/oV5H0g7AzsBWtl8tq739Sv3OUiq+Xns9jaafGUkLArsDn5V0eOlrOUlLAG8x/S9h/RrNuhhvuu5blHXXrtV8ezpeRERERFaQ5xeSBgILAs9QfUjua5L6l2urSVoRWAp4rgTHA6lWjgFGAdtL+rdSv+UWhE7sDEywvYbtNttrAZcAuwJPACtKWk7SIsAuALafB16QtG3pY59O+r61ca0E90/bfnEm5tZwI/AFScuVvmbm/iIiIqKPyQry+1tjDzJUq6RftT0NuE7S+sCoascFLwNfAq4B9pc0EbiPapsFtp8q+28vlbQA1daEj/VwDnsDlzWVXQIcYPscST8F7gQeAu6t1dkXOF3Sq3R+6sVRwBllvq8CX+3hnKZje4qkY4BbJE2j2noybFb6ioiIiPmf7PzlOaJZe3u7Ozpy2lxERMT8TNIY2+3N5dliERERERFRky0WES1MfepvTDn5s3N7GhEREX3Wht++Yq6NnRXkiIiIiIiaBMh9mKRpksaX7HJjJW09i/0cImmx2vuXe2+WEREREXNWAuS+rZFoZFPgP4BjZ7GfQ4Bk1oiIiIj5QgLkaFgSeK7xRtJhkkZLmijp6FK2uKSryorzZElDJR0MrArcLOnmWvtflVXpGyWtUMpGSGovr5eX9HB5fZukQbW2IyVt0jxBST+WNKmMf0wp21zSnWWelzQy7Um6XdKvS993S2qXdJmkByQd1etPLyIiIuYbCZD7tkXLFot7gdOAnwFIGkKVgnpLYBAwWNJ2VOmsH7O9qe2NgGts/w54DNjR9o6l38WBsbY3B24BjuxmHqdRziWWtC6wiO2J9QqSPgN8EtiyrHj/qlz6E/AD25tQne38n7VmU21/BPgjcDmwP7AxsJ+kpZsnIWk/SR2SOp57+Y1uphwRERHzqwTIfVtji8VAquD3bFWZRYaUr3HAWGAgVcA8CdhZ0vGSPmL7hU76fRu4sLz+E7BtJ/UaLgJ2kbQw8DXgzBZ1dgZOtz0VwPazJTNeP9u3lzpnAdvV2jQ+/joJmGT7CduvAQ8DqzcPYHu47Xbb7cv0/0A3U46IiIj5VY55CwBsj5K0PLACVVa+Y23/obmepMHAp4BjJV1n+6c96b58f4t3fynrVxv7VUnXA58DvgDMcGB3mVNzVht1M+7r5fvbtdeN9/nZj4iIiJayghwASBoILAg8Q5X6+WuS+pdrq0laUdKqwKu2/wT8Eti8NH8JWKLW3QLAHuX1F4HGCu/DwODyeg+mdxrwO2C07WdbTPE64OuSFi1zWtb208DU2ukbX6ba0hERERExy7KK1rctKml8eS3gq7anAddJWh8YVe244GXgS8DawAmS3gbeBA4obYcDf5H0eNmH/AqwoaQxwAvA0FLvl8CfJX0ZuKk+EdtjJL0InNEok/QhYF/b+9u+UtKmQIekN4H/pdpv/GXglBI4/w3Yt9eeTkRERPRJspv/ah0x55XV6RHAQNtvz+Xp0N7e7o6Ojrk9jYiIiJiNJI2xPcPWzmyxiLlO0leAO4HD54XgOCIiIvq2rCBHtLBe21I++Yh3D9/Y6RtXzcXZRERExOyQFeSIiIiIiB5IgByznaRpJSHJhJJdb+vuW7Xs50xJ32oq21XS1U3jTJZ0kaTFSvnKki6Q9GDJqnd1SUgSERERMYMEyDEnNBKSbAr8B3DsLPZzPrBXU9lepbw+zkbAG8D+JfHJZcAI2wNsbwD8GFhpFucQERER87kEyDGnLQk8ByBpB0lXNi5IOknSMEk7SbqsVv4xSZcCNwADJa1SyhejyrB3eYtxbqM6lm5H4E3bpzYu2B5v+7bZcG8RERExH0iAHHPComXrw71UCUF+1k39m4D1Ja1Q3u8LnFHOaL6UKtsewGeBm22/VG8saSHgk1QppjcCxvRkkpL2k9QhqeP5l97oSZOIiIiYDyVAjjmhsfVhIPAJ4Oyy9aElV0ernAN8SdLSwFbAX8rl+jaL+vYKeDfxSQfwD+CPMzNJ28Ntt9tuX3qJD8xM04iIiJiPJJNezFG2R0laHlgBeIvpf0nrV3t9BlW2vNeAi2y/VcpHAquUrHpbM/2e5Km2B9XHkzSFGdNaR0RERHQqK8gxR0kaCCwIPAM8AmwgaRFJSwE7NerZfgx4DDgCOLNWbuDPwFnA1bZf62bIm4BFJH2zNoctJG3fO3cUERER85usIMec0Nj6ACDgq2U/8aOS/gxMBB4AxjW1OxdYwfbdTeXnA4cBP+puYNuWtBvwX5J+RLUi/TBwyKzeTERERMzfkkkv5lmSTgLG2Z6pvcS9ob293R0dHXN62IiIiJiDOsuklxXkmCdJGgO8Avxgbs8lIiIi+pYEyDFPsj14bs8hIiIi+qYEyBEtPPv0A1xwxsffeb/XvtfOxdlERETEnJRTLOYySStLukDSg5LulnS1pHXfY58rSHpT0rdmsf3L5fuqki6eybbrlnv4m6R7JP1Z0krNWfPmhpKlb9W5OYeIiIiY9yVAnotKsozLgBG2B9jeAPgxsFJP20tq9W+4J3AHsPd7mZ/tx2z3+AxhSf2Aq4BTbK9te33gFKozj+cFw4AEyBEREdGlBMhz147Am7ZPbRTYHm/7Nkn9Jd0oaaykSZI+ByCprazMngyMBdZo0e/eVB9uW13Sao3Cxspweb2HpDPL63+TNErSaEk/q9VpkzS5vO4n6Ywyl3GSdmwx7heBUbb/t3Y/N9ueXK8kaVlJl0uaKOkOSZuU8u1LSurxZYwlSvlhZW4TJR1d6+f7kiaXr0Oa51zeHyrpKEl7AO3AuaX/RTv5N4mIiIg+LgHy3LURMKaTa68Bu9nenCqQ/lUtPfN6wNm2N7P9SL2RpDWAlW3fRZVQY2gP5vFbqlXfLYB/dVLnQADbG1MF4GeVFeOe3k/d0VTHt21CtWJ+dik/FDiwZMP7CDBV0hBgHWBLYBAwWNJ2kgYD+wIfAj4MfFPSZp0NaPtiqhTU+5S011N7MM+IiIjogxIgz7sE/ELSROAGYDXe3XrxiO07Omm3F1VgDHABPdtmsQ1V8g2Aczqps23jmu17qbLgzepe6XpfNwHLlUx6I4FfSzoYWLqklx5SvsZRrZgPpAqYtwUus/2K7ZeBS6mC6lkmaT9JHZI6Xnr5jffSVURERLyPJUCeu6YAnR1ntg/V3t3BZUX1CaCxYvtKF33uDQyT9DBwBbCppHXKtXpWmObV3+4yxqib69D1/XTXl20fB3wDWBS4o6SlFnBsWfUdVPY2/7GL+bzF9D/XzffZKdvDbbfbbl+i/wd62iwiIiLmMwmQ566bgEUkfbNRIGkLSdsDSwFP2n6z7Pddq7vOJK0HLG57NdttttuAY6lWlQGekLR++WDfbrWmI2t19umk+1sb18opG2sC9zXVOQ/YWtKna3P6hKSNu+hrB+Bp2y9KGmB7ku3jqbZDDASuBb4mqX+pv5qkFUsfu0paTNLi5X5uo/pFYkVJy0laBNilNu5LwBKd3F9EREQEkAB5rnKV53s34GPlmLcpwFHAY8C5QLukDqpg8t4edLk31akYdZfw7jaLHwFXUgXmj9fqfBc4UNJoqsC8lZOBBSVNAi4Ehtl+vel+plIFpAdJekDS3VQnRzzZ1NdR5d4mAscBXy3lh5QP3E0ApgJ/sX0dVeA9qox9MbCE7bHAmcBdwJ3AabbH2X4T+Gkpu5Lpn9uZwKn5kF5ERER0RVWMFhF1H2xbyr848sPvvE+ikIiIiPmPpDG225vLk0kvooVll18nQXFEREQflS0WERERERE1WUGOaOHJZx/gxHM/Pl3ZQftkRTkiIqIvyApyRERERERNAuSYJZKmldMgpkiaUNI+z/LPU1Ma7HUlXS3pbyWt9p8lrSRpB0lXvtf+IyIiIrqSLRYxq6aWBCaUc4nPozoi7sj30mlJX30V8H3b/1vKdqRKmhIREREx22UFOd4z208C+wHfUWVBSSdIGi1poqRvAUjqL+lGSWMlTZL0uRbdfREY1QiOS/83255cryRpWUmXl/7vkLRJbYwzSv8TJe3e1G55SaPqyUwiIiIi6rKCHL3C9t/LFosVgc8BL9jeomSzGynpOuBRYLeSNW95qnTSV3j6w7g3Asb0YMijgXG2d5X0UeBsYBDwn2XsjQEkLdNoIGklqvTbR9i+vrlDSftRBfoss1yPM1RHRETEfCYBcvQmle9DgE0k7VHeLwWsA/wT+IWk7YC3gdWAlYB/zcJY2wK7A9i+qaSWXgrYmXfTZmP7ufJyYeBG4EDbt7Tq0PZwYDjAmh9cKhl0IiIi+qgEyNErJH0QmEaVVlrAQbavbaozjGov8WDbb0p6GGheqp0CbN+TIVuUuZS3Cm7folqZ/jjQMkCOiIiIgOxBjl4gaQXgVOCksl3iWuAASQuX6+tKWpxqJfnJEhzvCKzVorvzgK3re4QlfULSxk31bgX2Kdd3AJ62/SJwHfCdWtvGFgsDXwMGSvrRe73niIiImH8lQI5ZtWjjmDfgBqrA9Ohy7TTgbmCspMnAH6j+WnEu0C6pgyq4vbe5U9tTgV2AgyQ9IOluYBjVynTdUaWvicBxwFdL+c+BZSRNljQB2LHW9zSq7Rc7Svr2e7z/iIiImE9p+s9HRQRAe3u7Ozo65vY0IiIiYjaSNMZ2e3N5VpAjIiIiImoSIEe08M/nHuDQiz/BoRd/Ym5PJSIiIuawBMgRERERETUJkOcxkqaVD781vn5UykdImmGPTA/6GyTpU708x6slLd3DusMkPdV0Txv05nwiIiIielPOQZ73TLU9qBf7GwS0A1c3X5C0kO23ZrZD2zMbcF9o+zvdV+sZSaL6gOnbvdVnRERERENWkN+HJA2RNErSWEkXSepfyreQ9FdJEyTdVTLL/RQYWlZuh0o6StLwkvr5bEn9JJ0haZKkceV84sbK76WSrinHrf2/2vgPl1TRSPqKpIllzHNm4h52k3SDKqtIul/SymXc/ynj3ifpyFK/TdI9kk4GxgJrdPEcjpN0d5nXL0vZno2j3yTd2iv/EBERETFfygryvGdRSeNr74+1fWHjTQlMjwB2tv2KpH8Hvi/pOOBCYKjt0ZKWBF4FfgK0N1ZwJR0FDAa2tT1V0g8AbG8saSBwnaR1y3CDgM2A14H7JJ1o+9HaXDYEDge2sf20pGU7uaehkratvd/K9mWSdgcOBD4BHGn7X9XiMFsCG5X5j5Z0FfA0sB6wr+1vd/EcTgJ2Awbadm0ryE+Aj9v+v862h0jaD9gPYInlmxP8RURERF+RAHne090Wiw8DGwAjSzD5AWAUVfD4uO3RACWrHKVOsytKQg6AbYETS5t7JT0CNALkG22/UPq5myrz3aO1fj4KXGz76dL+2U7m3NkWi4OAycAdts+vlV9v+5ky7qVljpcDj9i+o5vn8CLwGnBaCayvLPVHAmdK+jNwaatJ2h4ODAdYecBSOSA8IiKij0qA/P4jqgBy7+kKpU2o0in3xCtN/XXm9drracz486KZGLOV1YC3gZUkLVDbU9zcZ+N987xneA4AkrYEdqLKmvcd4KO295f0IeDTwHhJgxpBeERERERd9iC//9wBbCNpbQBJi5UtEfcCq0raopQvIWkh4CVgiS76u5Uq7TOlnzWB+3o4lxuBL0harrTvbIvFDMrczgC+CNwDfL92+WOSlpW0KLAr1epvs5bPoexDXsr21cAhVNtEkDTA9p22f0K1XWONns41IiIi+pasIM97mvcgX2P7R403tp+SNAw4X9IipfgI2/dLGgqcWALLqcDOwM3Aj0qfx7YY72TgVEmTgLeAYbZf72RrxnRsT5F0DHCLpGnAOGBYi6rNe5C/XeZ2m+3bytwae40BbgfOAdYGzrPdIamtaeyWz4HqF4L/kdSPapX5e+XaCZLWKWU3AhO6vcGIiIjok2Rnq2XMO0rQ297JnuU5pr293R0dHXNzChERETGbSRpje4Y8E9liERERERFRky0WMU+xfSZw5lyeRkRERPRhCZAjWnjg+X/wycsPeuf9X3Y9cS7OJiIiIuakbrdYSJpWsrA1vn5UykdImmHPRg/6GyRpZlMVd9fn1Z0lf+hh+zZJU5vu8yu9OccWY/6XpO1q71eQ9Kakb/Ww/a6SNqi9n6V/j1r7VSVdPKvta/0cJenQTsr/rzzbB1Rl6dugVR/vZZxu2uwi6ehZHTMiIiL6hp7sQZ5qe1Dt67j3OOYgoGWAXI7+mmm2P2X7+fc0K3iw6T7Pfo/9daoch/Zh2/WUx3tSHV02w7m+ndiVKlFGb8xnIduP2d6jN/rrwm/Ks12HKuvfTZJWmM1jAu/8bF0FfFbSYnNizIiIiHh/6pUP6UkaImmUpLGSLipn0SJpC0l/lTRB0l2SlgJ+SnXs13hJQ8tK4HBJ1wFnS+on6QxJkySNk7Rj6WtYWXW8pqxA/r/a+A+rSj2MpK9ImljGPKeU7Slpcim7dYYb6Py+1ipjLS9pAUm3lXttk3SvpLPKWBc3gi5JO5V5T5J0eu0Isro9gGuayvYGfgCsLmm12hxerr3eQ9KZkrYGPkt1dNl4SQNKlT3Lc75f0kdKm66e50WS/pcqvXSbpMnl2mm1lfSnJB1Zyg+TNLrc89G1eR0u6T5JN1Bl9OtWSZ99HdU5yEgaLOkWSWMkXStplVL+zTLmBEmXtApuJQ0oPxdjyr/RwFJ+pqRfS7oZON7VkS0jgF16MseIiIjom3oSIC+q6bceDK1fLIHpEcDOtjcHOoDvS/oA1Srhd21vSnXu7SvAT6hSDw8qQRLAYOBztr8IHAhge2OqoPEsVWfaQrX6PBTYmCrIni7Zg6QNgcOpMqdtCny3XPoJ8PFS9tlO7nNA031+xPYjwPHAqVTB6922ryv11wOG296EKr3xt8s8zwSGlvkvBBzQYqxtgDG1ea8BrGz7LuDP5R47ZfuvwBXAYeU5PlguLWR7S6oEGUeWsq6e51bAV21/tKn/b5R0158DnqFK0TwEWAfYkurfYbCk7SQNpspYtxnweWCLrubeZCwwUNLCVOmu97A9GDgdOKbUudT2FuXf7h7g6y36GQ4cVNoeSnW2c8O6VD+bPyjvO4CPzMQcIyIioo/pyZaGqSVY6syHqf7UP1JVcokPAKOoAsjHbY8GsP0igFonoLjC9tTyeluqYAnb90p6hCrIAbjR9guln7uBtYBHa/18FLjY9tOl/bOlfCRVkPdn4NJO7uPBVvdp+zRJewL7U7KyFY/abmR4+xNwMHA98JDt+0v5WVQB6n81dbsK8FTt/V5UgTHABcAfgV93MtI96rEAACAASURBVM+uNO5tDNBWXnf1PK+vPaPplCD6IuA7th+RdBAwhCoZCEB/qoB5CeAy26+WdlfMxHwbPwzrARsB15efjwWBx8u1jST9HFi6jHlt0zz7A1sDF9V+tuqr9hfZnlZ7/ySwaif3vB+wH0C/FfrPxG1ERETE/KQ3TrEQVaA13d5ZSZsAPc1C8kpTf515vfZ6GjPOX63GtL2/pA8BnwbGSxpk+5meTKz8SX/18rY/VaY2WozjbuZeNxXoV3u/N7CSpH3K+1UlrWP7gaZx6m1aaTyf+rPpak6vdHHtVKrV2xtq/Rxr+w/1SpIOoef/zs02o1rRFTDF9lYt6pwJ7Gp7gqokIjs0XV8AeL6LX+Ka77Ef1fOfge3hVKvRLLX2ismgExER0Uf1xh7kO4BtJK0NVUApaV3gXqpAb4tSvoSqD0q9RLXq2JlbgX1Km3WBNYH7ejiXG4EvSFqutF+2fB9g+07bPwGeBtbooo9mxwPnUm3T+O9a+ZqSGgHd3lTpke8F2hrPAvgycEuLPu+hSqOMpPWAxW2vZrvNdhtVSui9St0nJK0vaQFgt1of3T3Hhpl+npIOBJZo+kDmtcDX9O7+8tUkrVj6303SopKWAD7TgzkhaXeqFenzy3xWaDxPSQuX7TKUe3y8bMPYp7mf8peJh8oqP6ps2sXQ6wKTezLHiIiI6JtmZQ/ydKdY2H4KGAacL2kiVcA80PYbVHtpT5Q0gWr7QT/gZmCDVvuZi5OBBSVNotrDPMz26y3qzcD2FKq9q7eUMRvbFE5Q9SG1yVQB3YQWzZv3IB8saXuqPbXH2z4XeEPSvqX+PcBXyz0vC5xi+zVgX6o/908C3qZaiW12Fe+uhO4NXNZ0/RLePc3iR8CVwE28u+0Aqq0Yh6n64N0AOjcrz/NQYOPas9i/7L0+DxhV+rqYKogeW/odX+Z9Wxf9fq/09wDwJaq94k+Vn5U9gOPLv9t4qm0TAP8J3En183NvJ/3uA3y9tJ1CtXe6MztSPf+IiIiIllR9sD9mhqQ24ErbG72HPm4HdumF4+mihyStBJxne6fu6ra3t7ujo2MOzCoiIiLmFkljbM+QR6JXjnmLWfIDqu0OMeesSfXcIyIiIjqVVNOzwPbDVKcuvJc+7uyd2URPNU5UiYiIiOhKAuSIFh54/gk+femvOr1+1eezEB0RETG/yhaLiIiIiIiaBMh9gKRpTSd0tM3h8VeWdIGkByXdLenqcuRcRERExDwnWyz6hu6yIc42qtLbXQacZXuvUjYIWAm4v6u2vTT+Qrbfmt3jRERExPwjK8h9lKR+ks4o50OPk7RjKV9Q0i9L+cSSYhpJD0tavrxulzSivN6+tjI9riQLqdsReNP2O+dB2x5v+zZJ/SXdKGlsGe9zpc82SfdKOk3SZEnnStpZ0khJD0jastRbXNLpkkaXsRvth0m6SNL/Atd1Nk5EREREK1lB7hsWlTS+vH7I9m7AgQC2N5Y0kCqQXJcq0cm/AZvZfquRjbALhwIH2h5Zsuy91nR9I2BMJ21fA3az/WIJvu+QdEW5tjawJ7AfMBr4IrAt8Fngx8CuwOHATba/Jmlp4C5JjdTYWwGb2H5WVQbHGcZx0yHgkvYr49Fv+WW6ue2IiIiYXyVA7htabbHYFjgRwPa9kh6hSsO8M3BqY1uC7We76Xsk8GtJ5wKX2v7nTMxLwC8kbUeVdXA1qq0XUAXykwAkTQFutO2Sxa+t1BkCfFbSoeV9P949W/r62tw7G+df9cnYHg4MB1hq7TWSQSciIqKPyhaLvktdlLcKDt/i3Z+Xfo1C28cB3wAWpVqZHdjUbgowuJOx9gFWAAaXAP6JWt/1dNhv196/zbu/2AnY3fag8rWm7XvKtVd6OE5ERETEdBIg9123UgWOlK0VawL3AdcB+5dtCdS2WDzMu4Hu7o1OJA2wPcn28UAH0Bwg3wQsIumbtTZbSNoeWAp40vabZQ/0WjN5D9cCB5UPAiJps07qvddxIiIiog9JgNx3nQwsWLYsXAgMs/06cBrwD2CipAlUe38BjgZ+K+k2YFqtn0PKB+kmAFOBv9QHKft8dwM+Vo55mwIcBTwGnAu0S+qgCtbvncl7+BmwcJnr5PK+lfc6TkRERPQhavqcUkQA7e3t7ujomNvTiIiIiNlI0hjb7c3lWUGOiIiIiKhJgBzRwt+ee5pdLjmdXS45fW5PJSIiIuawBMgRERERETUJkGO2k7S6pP8pWfAelPRbSR+Yxb4WlnRc6WuypLskfbKbNiMktZfX72QEjIiIiGglAXLMVuUItkuBy22vQ5WMpD9wzCx2+TNgFWAj2xsBnwGa01tHREREzLJk0ovZ7aPAa7bPALA9TdL3gIckPUSVuW8xYABwme0fAkgaQnW03CLAg1QpsN8Gvgn8WzmSDttPAH8ubU4BtqBKWnKx7SPn2F1GRETEfCMryDG7bQiMqRfYfpHqrOWFgEHAUGBjYKikNcoWiCOAnW1vTpWA5PvA2sA/SvtWDi9HtWwCbC9pk5mZqKT9JHVI6njjxZdnpmlERETMR7KCHLNbZ6mrG+U32n4BQNLdVFnulgY2AEaWJHkfAEb1YKwvSNqP6ud6ldLHxJ5O1PZwYDjA0gPackB4REREH5UAOWa3KdRSUwNIWhJYgyoj3+u1S9OofiYFXG9776Z2iwFrSlrC9ktN1/4NOBTYwvZzks4E+vXyvUREREQfkC0WMbvdCCwm6SsAkhYEfgWcCbzaSZs7gG0krV3aLCZpXduvAn8Eftc4BUPSKpK+BCwJvAK8IGkloMuTLSIiIiI6kwA5ZitXucx3A/aU9ABwP/Aa8OMu2jwFDAPOlzSRKmAeWC4fATwF3C1pMnA58JTtCcA4qhXr04GRs+WGIiIiYr6nKn6JiLr29nZ3dHTM7WlERETEbCRpTPmA/3SyghwRERERUZMP6UW08LfnnmOXiy6eruzKPfeYS7OJiIiIOSkryBERERERNQmQ5wOS2soH1uplR0k6tIs2wySd1EvjH1KOYOuu3sMlCUhzeZdzLXXWkzRC0nhJ90ga3k39GZ5JRERERE8kQI7ecAhVuujZ6XfAb2wPsr0+cOJsHi8iIiL6qATI87my6nq8pLsk3S/pI7XLa0i6RtJ9ko6stflSqT9e0h/K2cVIOqWkYp4i6ehSdjCwKnCzpJs7q1dzWOn7rsY5x03zHVDmNEbSbZIax7utAvyzUc/2pFK/rdQbW762btHngpJOkDRa0kRJ35qVZxkRERF9QwLkvmEh21tSrfQeWSvfEtgHGER1TnG7pPWBocA2tgdRZbfbp9Q/vByFsgmwvaRNbP8OeAzY0faOndWrjflimctJwH+1mOtw4CDbg6ky451cyn8D3CTpL5K+J2npUv4k8DHbm5d5/65Fn18HXrC9BbAF8M2SeW86kvYrgX3HGy++2KKbiIiI6AtyisX8obPDrBvll5bvY4C22vXrbT8DIOlSYFvgLWAwMFoSwKJUQSjAFyTtR/VzswqwATCxxbhd1Tu/9v039UaS+gNbAxeVsQEWAbB9hqRrgU8AnwO+JWlTYGHgJEmNYH7dFvMZAmwiqXEMxVLAOsBD9Uq2h1MF6Cw9YEAOCI+IiOijEiDPH54BlmkqW5Z3A8DXy/dpTP9v3hwEGhBwlu3/qF8oK66HAlvYfk7SmUC/5on0oJ47eQ3VXzSeLyvXM7D9GFWWvNPLB/A2Aj4DPAFsWtq/1qKpqFalr23Vb0RERERdtljMB2y/DDwuaScASctSrbTe3k3Tj0laVtKiwK5U6ZlvBPaQtGKjL0lrAUsCrwAvSFoJ+GStn5eAJcrrrupBtQ2i8X1U0328CDwkac8ytsoqMZI+IWnh8nplYDng/6hWgx+3/TbwZWDBFvd5LXBArf26khbv5tlEREREH5UV5PnHV4DfS/pVeX+07QdrWxVauR04B1gbOM92B4CkI4DrJC0AvAkcaPsOSeOAKcDfqYLphuHAXyQ9bnvHLuoBLCLpTqpfzvZuMad9gFPKHBYGLgAmUG2T+K2kxgrxYbb/Jelk4JISVN9MFZw3O41qa8lYVQ/kKapfCCIiIiJmIDtbLSOatbe3u6OjY25PIyIiImYjSWPKwQLTyRaLiIiIiIiaBMgRERERETUJkCNa+NtzL7LrxTew68U3zO2pRERExByWALkXlax1H28qO0TSyZJWlXRxF+1m2P8yi3M4StK9kiZL2q2bugtJelrSsbM41sOSli+v/zqTbVeWdIGkByXdLelqSa3OMO5JX8MkrTorbSMiIiKaJUDuXecDezWV7QWcb/sx23u0aNNrJK1BdQrExlTZ8UZ302QIcB9VYo8uj7voju0ZUjx3pox1GTDC9gDbGwA/BlaaxeGHUaW77jFJOcElIiIiWkqA3LsuBnaRtAiApDaqwO12SW0luQWSFi2rpxMlXUiVrY5ybYikUZLGSrqoZJdD0k6SxkmaJOn0xhhN3qI6h7i/7bds/7Ob+e4N/Bb4B/Dh2hzqK8PtkkaU18tJuq7M4w9UCTgabV4u3yXphLKCPUnSUGa0I/Cm7VMbBbbH276t9HGYpNHl+RzdeJaS7pH035KmlHksWrLjtQPnShpfygZLukXSGEnXSlql9DFC0i8k3QJ8t5tnExEREX1UAuReVNI230WVpAOq1eMLPeNZegcAr9reBDiGKrUzJSg9AtjZ9uZAB/B9Sf2AM4GhtjemOr/6gBZTeJ0qq9ylnQTQ7yjJQXYCrqRa+W51JnGzI4HbbW8GXAGs2aLO56lWrzcFdgZOaASoNRtRpb1uNa8hVGmgtyz9DJa0Xbm8DvB72xsCzwO7276Y6jntUzLwvQWcCOxhezBV5r1jakMsbXt7278iIiIiooUEyL2vvs1ir/K+2XbAnwBsTwQmlvIPAxsAIyWNB74KrAWsBzxk+/5S76zSR7M/At8DbgLOk7SApB9KOrBF3V2Am22/ClwC7CapVRa6zuZ9FfBcizrbUm0pmWb7CeAWYItu+q0bUr7GAWOBgVSBMVTPYHx5PYYq+Uez9agC8OvLMzwCWL12/cLOBpa0n6QOSR1vvPjCTEw5IiIi5ifZh9n7Lgd+LWlzYFHbYzup1ypDi4DrbU+3mitpUA/H3plq5fRGSScCJ1MFjF9pUXdvYBtJD5f3y1FtfbiBahW28ctTvx7Mu/keujMF6Gw/toBjbf9husJqu8rrtaJp1LamNLWfYnurTvpvlWkPANvDqbICsvSAdZNBJyIioo/KCnIvs/0yMILqT/utVo8BbqX6MB2SNgI2KeV3UAWta5dri5WTHe4F2hrlwJepVmabTQS+VF7/kCpgft32o/VKkpakWuld03ab7TbgQN7dZvEwZdsHsHsn8/4ksEwn9zZU0oKSVqBadb6rqc5NVCmnv1mb0xaStgeuBb5W23u9mqQVW4xT9xKwRHl9H7CCpK1K+4UlbdhN+4iIiIh3JECePc6n2oN7QSfXTwH6S5pIFcjeBWD7KaoTGc4v1+4ABtp+DdgXuEjSJOBt4NQW/X4F+HJpewvwS2BBSd9vqvd54Cbb9RXZ/wE+W/YuHw38VtJtVCu1DUcD20kaS7UN4h8t5nAZVaA+gSoQ/qHtf9UrlD3ZuwEfK8e8TQGOAh6zfR1wHjCq3OvFvBv8duZM4NSypWJBqtXp4yVNAMYDPT5hIyIiIkIzfn4sIpYesK53OP5kAC7fY+e5PJuIiIiYHSSNsT1DLorsQY5oYe1llkxgHBER0Udli0VERERERE1WkCNa+PtzU9nzkonvvL9o9026qB0RERHzk6wgR0RERETUJECeB0j6jaRDau+vlXRa7f2vWpxE0V2fL3dSfmZJz1wv27ScANF4v7ekVyUtXN5vXE7GQNJpkjZo0e8wSSfNxPwWk3RuSUc9WdLtkvpLWlrSt3vaT0RERERvS4A8b/gr5SgySQsAywP1s3u3Bkb2pKMeZMNrZRKwlqTGcWpbU529vFnz+La/YfvuWRij2XeBJ2xvbHsj4OvAm8DSwEwFyKrkZzkiIiJ6RYKKecNI3j2rd0NgMvCSpGXKucTrA+NKIHhCWXGdJGkogKQdJN0s6TyqYPcdpc1Jku6WdBUwQ9IN228Do4EPlaLBwO9rc9qaKohH0ghJ7eX1vpLul3QLsE1tzBUkXSJpdPl651rNKsD/1eZwXzmX+ThggKTxkk4o/R1W+pko6ehS1ibpHkknU6WkXkPSEEmjJI2VdFEt2chOksaVZ3Z6eaYRERERLSVAngfYfgx4S9KaVMHoKOBOYCugHZho+w2qBB+DqJKQ7AycIGmV0s2WwOG2m7c/7EaVbnpj4Jt0njTjr8DWkhanSkQygukD5OlWsMu4R1MFxh8D6uP+FviN7S2oMvGdxoxOB/69BLQ/l7ROKf8R8KDtQbYPkzQEWKfc3yBgsKTtSt31gLNtb0aVQvoIYGfbmwMdwPcl9aNKJDLU9sZUH0w9oNUDkLSfpA5JHa+/+FwnjykiIiLmdwmQ5x2NVeRGgDyq9v6vpc62wPm2p9l+gipb3hbl2l22H2rR73a1No9RZbfravwtgdG2HwTWLumi+9v+e1P9DwEjbD9VgvcLa9d2Bk4q+5qvAJasbd8AwPZ44IPACcCywGhJ67eY15DyNY5qpXggVcAM8IjtO8rrD1MF6SPLuF8F1qIKoh+yfX+pd1Z5JjOwPdx2u+32RZZslUU7IiIi+oIc8zbvaOxD3phqi8WjwA+AF6lWWwHURftXurjWk3SJd1AF29tSBecA/wT24t0Avaf9LgBsZXtqVwPafhm4FLhU0tvAp4BLmqoJONb2H6YrlNqY/p4FXG9776Z6g7qaQ0RERESzrCDPO0YCuwDPltXeZ6k+sLYV7wastwJDJS1YVna3A+7qpt9bgb1Km1WAHVtVsv0SVVA+rDbeKOAQWgfIdwI7SFqunHaxZ+3adcB3Gm9aBamStpG0THn9AarV30eAl4D6avO1wNdq+4lXkzTDPmqqAH8bSWuXeotJWpfqw4ZtjXLgy1Qr7xEREREtJUCed0yiOr3ijqayF2w/Xd5fBkwEJlBtlfih7X910+9lwAOlr1PoOjgcCSxi+9HyfhTVNogZAmTbjwNHlTo3UG1/aDgYaC8fqrsb2L/FWAOAWyRNoto+0QFcYvsZqm0SkyWdYPs64DxgVKl7MdMH0I35PEUV3J9fjqS7Axho+zVgX+Ci0v5t4NQunkFERET0cbJ78tf3iL6lvb3dHR0dc3saERERMRtJGmO7vbk8K8gRERERETX5kF5EC48//ybHXPb43J5GRMwFh++2SveVImK+lhXkiIiIiIiaBMjzkJIdbnKL8oclLT8T/ewg6cqZHPsQSYvNTJum9i2PgpN0pqQ9ZrXfiIiIiDktAXI0HALMcoBsu7MMfRERERHvKwmQ5z0LSTqrHJF2cW1V9yBJYyVNkjQQQNJRks6RdJOkByR9s9ZP/9L+XknnSlJps5OkcaWf0yUtIulgYFXgZkk3l3p7lzqTJR1fyg6Q9P8aA0gaJunE8vrl8l2STpJ0t6SrgBVr9QdLukXSGEnXNtJkSxok6Y5yz5c1zkeuk9Rf0hllThMl7d7ZPBvzkXR8GesGSVtKGiHp75I++57/lSIiImK+lQB53rMeMNz2JlRZ9L5dyp+2vTnVWcaH1upvAnyaKqHITyStWso3o1oV3oDqLONtJPUDzgSG2t6Y6kOaB9j+HfAYsKPtHUsfxwMfBQYBW0jaleoM4s/Xxh7K9CmmAXYr97Ax8E2q7ICUZCInAnvYHkyVHfCY0uZs4N/LPU8CjmzxXP6T6kzojUu9m7qYJ8DiVKmwB1MlH/k58LEyv5+26B9J+0nqkNTxyovPtKoSERERfUAC5HnPo7ZHltd/okr9DFVKZoAxQFut/v/YnlqSidwMbFnK77L9T9tvA+NLm/WAh2zfX+qcRZWNr9kWVMHlU7bfAs4FtivJOP4u6cOSliv9jWxqux1wfskG+BhVQhNK3Y2A6yWNB44AVpe0FLC07UYCk87mtDPw+8Yb2891Ns9S5Q3gmvJ6EnCL7TfL6/rze4ft4bbbbbcvvuRyrapEREREH5Bj3uY9zZlbGu9fL9+nMf2/W3f1623Uwzl0Ve/C/9/evYdbVZV7HP/+QJQERYnL8Y6RpJaKuEUURbykVqfE1NI0EeuQppYmlvZ0ivKcEjXtqomGlyyvoZJXDDHAG2zuiJIe4BxvQYqCiCLge/6YY8dksda+Llj78vs8z3r2XGOOOeaYw+ni3WOPNV/gS2QpnO+N4plmipUJeC4iDt6gMAuQ69unwnZr6+eaXN8+JI1HRHwoyfe9mZmZleQZ5OZnV0k1QeSpwJQ66h8vqWOa0R0MTKul7gtAL0kfT++/yvrU0++wPoXzs8DhkrpJap/6UVNvLDAklRUurwCYBJwiqX1aY3xEKl8AdK+5NkkdJH0yIpYDb0k6rEif8sYD59W8SeuUa+unmZmZWaM4QG5+ngeGSpoDdCVbc1ybqcCDwDPAZWlZQ1ER8T4wDLhb0lyymdXfpd2jgYclTYyI14FLyZZszAZmRMT9qY23gPnAbhExtchp7gVeJFvKcB0pYI2ID4CTgFGSZpMt+6h58sVQ4Mp0zX1Ja4QlnS3p7FTnv4Dt05fxZpOtly7ZTzMzM7PGUvG/kFtLIGkksDIirqp0X1qbqqqqqK6urnQ3zMzMbBOSND0iqgrLPYNsZmZmZpbjLyu1YBExstJ9MDMzM2ttHCCbFfH2W2u57+43aq0z5OR6Z/82MzOzFsRLLGyzk9RL0rxN0G5NNr8dJd1T7vbNzMysbfAMsrU66UkeJ1W6H2ZmZtYyeQbZKmULSbdImiPpHklbS1osqRuApCpJT0hqJ+lFSd1TeTtJL6VnH+8u6WlJ0yRdVtNwfoY6tXtXOs+dkp6VtNG3Vc3MzMxqOEC2SvkEMDoi9gVWAN8sVimlyr4NOC0VHQ3MTqm1fwlcFxEHAv8ocZ5vAm+l81wGHFC+SzAzM7PWyAGyVcrLEfFk2r4NOLSWumOAM9L2WcBNaXsgcHva/kOJYw8F7gCIiHnAnFInkTRcUrWk6hUr3qz7CszMzKxVcoBslVKYoSaAtay/Jzv+a0fEy8ASSUcCBwEP19JOIdW7QxGjI6IqIqq23faj9T3MzMzMWhkHyFYpu0o6OG2fCkwBFrN+CcSJBfVvJJtpvisi1qWyJ4FT0vZpFDcF+BKApL2BfZrcczMzM2vVHCBbpTwPDJU0B+gKXAf8GPilpMnAuoL644DOrF9eAfBt4FxJ04AuJc5zLdA9ned7ZEsslpftKszMzKzVUURdf6E2q7z05IlrIuKwBh7XHugQEe9L6g1MAPpExAe1HVdVVRXV1dWN77CZmZk1e5KmR8RGT7fyc5Ct2ZN0CXAOpZdR1GZrYKKkDmTrkc+pKzg2MzOzts0BsjV7EXE5cHkjj30H8HOPzczMrN4cIJsV8e4ba5l609Ki+/oP67GZe2NmZmabk7+kZ2ZmZmaW4wC5jZA0UtKICp7/TEm/KWNbO+be35ge4WZmZmbWZF5iYS3RmcA84DWAiPh6RXtjZmZmrYpnkFs4SadLmipplqTrJbWXdJykGZJmS5qQq763pCckLZT0rVwb35E0L70uKHGe/pKekjQz/fxEKj9T0lhJj0h6UdIVuWOGSfq7pL+RpYUudQ2nSpqbzj8qV75S0s/TtUyQ1F3SSWRfuvtjuuaPpGuqSsdsdO2SDk91Z6X+b9O40TYzM7O2wAFyCyZpL+DLwMCI6EuWXON04AbgxIjYDzg5d8iewLFAf+BHkjpIOgAYRpbCeQDwH5L2L3K6F4BBEbE/8EPgp7l9fVM/9gG+LGkXSTuQJf4YCHwaKLoEIi2VGAUcmdo5UNKQtLsTMCMi+gF/A34UEfcA1cBpEdE3It7LtdW9xLWPAM5NY3QY8K9jCvoyXFK1pOq3V75ZrIqZmZm1AV5i0bIdRZaaeZokgI+QBbqTImIRQEQsy9V/MCJWA6slLQV6AocC90bEuwCSxpIFkTMLztUFuEXSHkAAHXL7JkTE8nT8fGA3oBvwRET8M5XfCfQpcg0HFtT7IzAIuA/4ELgz1bsNGFvHeAwoce1PAlentsdGxCvFDo6I0cBogL169XUGHTMzszbKM8gtm4Bb0kxq34j4BNmsbangbnVuex3ZL0gq2rB0bm5Zwo7AZcDEiPgU8HmgYx3tUqwfaQlITbs/KXX+EuoKWlWsTnqO8tfJfoF4RtKeDTinmZmZtTEOkFu2CcBJknoASOoKzAYOl7R7rqw2k4AhkraW1Ak4AZgcEb/NBd6vkc0gv5qOObMefXsWGCzpoymL3ckAEbEu1+4PU73DJXVLaaFPJVtOAdn9eVLa/gowJW2/AxRbR/x0sWuX1Dsi5kbEKLLlGQ6QzczMrCQvsWjBImK+pB8A4yW1A9YA5wLDgbGpbCnZGuBSbcyQdDMwNRXdGBGFyysAriBbYvEd4PF69O11SSPJgtbXgRlA+xL1LgUmks0APxQR96fd7wKflDQdWE62zhngZuB3kt4DDs619U9Jxa79AklHkM1uzwcerqv/ZmZm1nYpwkstrXmStDIiOlfi3FVVVVFdXV2JU5uZmdlmIml6RFQVlnuJhZmZmZlZjpdYWLNVqdljgA+WrOGVq/7xr/c7j/i3SnXFzMzMNjPPIJuZmZmZ5ThANjMzMzPLcYDczElaLKlbI44bLOmQMvflqXK2Z2ZmZtYcOUBuvQYDRQNkSY1aex4RZQ24G6ux/TczMzOrDwfIzYik0yVNTVnmrk+JM+rcL+k4STMkzZY0QVIv4GzgwlT3MEk3S7pa0kRglKSuku6TNEfSM5L2TW2NlDRG0hOSFkr6Vu78K3Pb35U0N53z8lquqbekRyRNlzS5JoudpPslnZG2v5HSQJPO+wtJT0maJ6l/rl+jJY0Hbk0Z+a6UbmLOxgAADItJREFUNC1dwzdSvR0kTUrXPS9de/t0/fNSny8s0dfhkqolVS9b+WZD//OZmZlZK+GZuGZC0l5kiTAGRsQaSdcCp9W1X9LDwA3AoIhYJKlrRCyT9DtgZURclY7/GtAHODoi1kn6NTAzIoZIOhK4FeibTrcncARZtroFkq6LiDW5vnwGGAIcFBGr6sjWNxo4OyJelHQQcC1wJFkykyclLQIuAgbkjukUEYdIGgSMAT6Vyg8ADo2I91JCkOURcaCkrVJb44EvAo9GxH+nXyC2Tte1U0qTjaTtinU0Ikan/rLvLvv5AeFmZmZtlAPk5uMosgBwmiSAj5Blgqtr/wBgUkQsAoiIZbWc4+6IWJe2DwVOTMc8nlJCd0n7HoyI1cBqSUuBnsAruXaOBm6KiFW1nVNSZ7JlHnenPgNslY5ZIumHZBn0Tiho4/ZUZ5KkbXMB7biIeC9tHwPsK6kmFXUXYA9gGjBGWXrr+yJilqSFwMfSLwUPAuNrGSMzMzNr4xwgNx8CbomISzcolM6sY/8XgPrOdr5bcL5CNe2szpWtY+P7RPU8Zzvg7YjoW2L/PsCbwI4l+lH4vrD/50fEo4WNppnnzwF/kHRlRNwqaT/gWLJU3F8CzqpH/83MzKwN8hrk5mMCcJKkHgBpjfBu9dj/NHC4pN1rylP9d8iWSJQyibSEQ9Jg4I2IWFHPvo4HzpK0dcE5N5DaWyTp5FRPKVAlrS3+DLA/MKKm/8mXU51DyZZRLC/S/KPAOWmmGEl9JHVKY7I0Im4Afg/0U/YUkHYR8WfgP4F+9bxOMzMza4M8g9xMRMR8ST8AxktqB6whm+2sdX9EPJPW445N5UuBTwN/Ae6RdDxwfpFTjgRukjQHWAUMbUBfH5HUF6iW9AHwEPD9EtVPA65Lfe8A3CHpBbJ108Mi4jVJF5EtizgyHfOWskfKbUvpmd4bgV7ADGXrN/5Jti56MHCxpDXASuAMYKd0rTW/EF66UWsFtuzZwdnzzMzM2ihF+LtI1nxIegIYERHVlexHVVVVVFdXtAtmZma2iUmaHhFVheWeQTYrYs2SVSy5ZlbRfT0vLLWk2szMzFoDB8hWFpJ+CwwsKP5lRNzUkHYiYnDZOmVmZmbWCA6QrSwi4ty6azWMpF2B+cDI3POcV0ZE53Kfy8zMzKyGn2JhzYo2TCN9DfBwpfpiZmZmbZMDZGsSSf8p6QVJj0m6XdIIlU4v/XlJz0qaKemvknqm8g3SSKeyIcBC4Llazn1xLtX0j1NZJ0kPKkuBPU9SzSPjLpc0P9W9ahMPi5mZmbVgXmJhjSapiiwb3/5k99IMYDql00tPAQZEREj6OvBdsjTTsGEa6U7A98geVzeixLmPIcuc158saci4lCCkO/BaRHwu1euSntN8ArBnOnfRVNPpcXnDAXbefocmjIyZmZm1ZA6QrSkOBe6vSf8s6S9AR0qklwZ2Bu6UtAOwJbAo11Y+jfSPgWsiYmWujULHpNfM9L4zWcA8GbhK0ijggYiYnJZtvA/cKOlB4IFiDUbEaLLgnv122dvPPzQzM2ujHCBbUxSLXmtLL/1r4OqIGJey943M7cunkT6ILGvgFcB2wIeS3o+I3xSc+2cRcf1GnZIOAD4L/EzS+Ij4ScrcdxRwCnAe2Yy2mZmZ2Ua8BtmaYgrweUkdJXUGPkeWla9oemmgC/Bq2i6ZuS8iDouIXhHRC/gF8NOC4BiyVNNnpfMiaSdJPSTtCKyKiNuAq8hSTXcGukTEQ8AFgB9kbGZmZiV5BtkaLSKmSRoHzAb+F6gGllMkvXSqM5Js6cWrwDPA7k0493hJewFPp2UYK4HTgY8DV0r6kCwd9znANsD9kjqSzTxf2NjzmpmZWevnVNPWJJI6p7XCWwOTgOERMaPS/Woqp5o2MzNr/Zxq2jaV0ZL2Jvty3i2tITg2MzOzts0BsjVJRHyl0n0wMzMzKyd/Sc+siLVLV7D0149VuhtmZmZWAQ6QrVmRNCQt2TAzMzOrCAfI1twMARoUIKdEIGZmZmZl4QDZGk3SdyV9K21fI+nxtH2UpFWSrk7vvy1pYdruLWlK2r5c0nxJcyRdJekQ4Atkj2mbler2lvSIpOmSJkvaMx17s6SrJU0ERknqJGmMpGmSZko6PtXrKOkmSXNT+RGbfaDMzMysRfHMmzXFJOAi4FdAFbCVpA5kKahHAf+e6h0GvClpp7RvsqSuwAnAnhERkraLiLfTc5UfiIh7ACRNAM6OiBclHQRcy/oseH2AoyNinaSfAo9HxFmStgOmSvorcDZAROyTguvxkvpExPubeGzMzMyshfIMsjXFdOAASdsAq4GnyQLlw4C7gc5p3y7An4BBad9kYAXwPnCjpC+SZeDbQMqAdwhZcpFZwPXADrkqd0fEurR9DHBJqvcE2WPndiULyP8AEBEvkCU06VPsYiQNl1QtqfrNlcsbNSBmZmbW8nkG2RotItZIWgwMA54C5gBHAL2B58kC5mHAArKg+CzgYOCiiFgrqT9wFHAKcB7rZ4ZrtAPejohSqaHfzW0LODEiFuQrKKXZq+f1jAZGA/TdtY8z6JiZmbVRnkG2ppoEjEg/J5MtaZgVWYrG/L6ZZMHz6ohYnmaHu0TEQ8AFQE0Q/A5ZamgiYgWwSNLJkAW7kvYr0Y9HgfNrAmJJ++f6d1oq60M2q7ygaAtmZmZmOEC2pptMtuzh6YhYQrZsYnJu3y7ApLQU4mVgStq3DfCApDnA34ALU/kdwMXpC3W9yYLbr0maDTwHHF+iH5cBHYA5kual95CtWW4vaS5wJ3BmRKwuw3WbmZlZK6Vsos/M8vru2ifGX/xbepz/6Up3xczMzDYRSdMjoqqw3DPIZkVs0WNbB8dmZmZtlGeQzYqQ9A5eq1xu3YA3Kt2JVsZjWn4e0/LzmJafx7R8douI7oWFfoqFWXELiv3JxRpPUrXHtLw8puXnMS0/j2n5eUw3PS+xMDMzMzPLcYBsZmZmZpbjANmsuNGV7kAr5DEtP49p+XlMy89jWn4e003MX9IzMzMzM8vxDLKZmZmZWY4DZDMzMzOzHAfIZjmSjpO0QNJLki6pdH9aEkmLJc2VNEtSdSrrKukxSS+mn9unckn6VRrnOZL6Vbb3zYOkMZKWpnTpNWUNHkNJQ1P9FyUNrcS1NBclxnSkpFfTvTpL0mdz+y5NY7pA0rG5cn82JJJ2kTRR0vOSnpP07VTue7WRahlT36uVEhF++eVXBEB74H+AjwFbArOBvSvdr5byAhYD3QrKrgAuSduXAKPS9meBhwEBA4BnK93/5vACBgH9gHmNHUOgK7Aw/dw+bW9f6WtrZmM6EhhRpO7e6f/7rYDd0+dBe382bDROOwD90vY2wN/T2PleLf+Y+l6t0MszyGbr9QdeioiFEfEBcAdwfIX71NIdD9yStm8BhuTKb43MM8B2knaoRAebk4iYBCwrKG7oGB4LPBYRyyLiLeAx4LhN3/vmqcSYlnI8cEdErI6IRcBLZJ8L/mzIiYjXI2JG2n4HeB7YCd+rjVbLmJbie3UTc4Bstt5OwMu5969Q+weUbSiA8ZKmSxqeynpGxOuQ/QMA9EjlHuv6a+gYemzr57z05/4xNUsB8Jg2mKRewP7As/heLYuCMQXfqxXhANlsPRUp83MQ629gRPQDPgOcK2lQLXU91k1Xagw9tnW7DugN9AVeB36eyj2mDSCpM/Bn4IKIWFFb1SJlHtciioyp79UKcYBstt4rwC659zsDr1WoLy1ORLyWfi4F7iX7U9+SmqUT6efSVN1jXX8NHUOPbR0iYklErIuID4EbyO5V8JjWm6QOZIHcHyNibCr2vdoExcbU92rlOEA2W28asIek3SVtCZwCjKtwn1oESZ0kbVOzDRwDzCMbv5pvpg8F7k/b44Az0rfbBwDLa/40axtp6Bg+Chwjafv059hjUpklBevdTyC7VyEb01MkbSVpd2APYCr+bNiAJAG/B56PiKtzu3yvNlKpMfW9WjlbVLoDZs1FRKyVdB7ZB3R7YExEPFfhbrUUPYF7s894tgD+FBGPSJoG3CXpa8D/ASen+g+RfbP9JWAVMGzzd7n5kXQ7MBjoJukV4EfA5TRgDCNimaTLyP6hBPhJRNT3S2qtTokxHSypL9mfnhcD3wCIiOck3QXMB9YC50bEutSOPxvWGwh8FZgraVYq+z6+V5ui1Jie6nu1Mpxq2szMzMwsx0sszMzMzMxyHCCbmZmZmeU4QDYzMzMzy3GAbGZmZmaW4wDZzMzMzCzHAbKZmZmZWY4DZDMzMzOznP8HSSM/8I8b8ycAAAAASUVORK5CYII=\n",
      "text/plain": [
       "<Figure size 720x288 with 1 Axes>"
      ]
     },
     "metadata": {
      "needs_background": "light"
     },
     "output_type": "display_data"
    },
    {
     "data": {
      "image/png": "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\n",
      "text/plain": [
       "<Figure size 720x288 with 1 Axes>"
      ]
     },
     "metadata": {
      "needs_background": "light"
     },
     "output_type": "display_data"
    },
    {
     "data": {
      "image/png": "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\n",
      "text/plain": [
       "<Figure size 720x288 with 1 Axes>"
      ]
     },
     "metadata": {
      "needs_background": "light"
     },
     "output_type": "display_data"
    },
    {
     "data": {
      "image/png": "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\n",
      "text/plain": [
       "<Figure size 720x288 with 1 Axes>"
      ]
     },
     "metadata": {
      "needs_background": "light"
     },
     "output_type": "display_data"
    },
    {
     "data": {
      "image/png": "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\n",
      "text/plain": [
       "<Figure size 720x288 with 1 Axes>"
      ]
     },
     "metadata": {
      "needs_background": "light"
     },
     "output_type": "display_data"
    }
   ],
   "source": [
    "for col in ['prices.merchant']:\n",
    "    ecom_data_upd[col] = ecom_data_upd[col].astype('category')\n",
    "\n",
    "ecom_data_upd.info()\n",
    "\n",
    "for col1 in ecom_data_upd:\n",
    "    plt.figure(figsize=(10,4))\n",
    "    sns.barplot(ecom_data_upd[col1].value_counts().values, ecom_data_upd[col1].value_counts().index)\n",
    "    plt.title(col1)\n",
    "    plt.tight_layout()\n",
    "    \n",
    "    "
=======
     "data": {
      "text/plain": [
       "prices.merchant\n",
       "1 Stop Electronics Center, Inc.     1\n",
       "123Stores - Bestbuy.com             1\n",
       "17th St Photo Supply Inc            5\n",
       "17thstreetphoto                     1\n",
       "19th Hole Deals                     1\n",
       "1topwire                            2\n",
       "1win                                1\n",
       "2011dailydeals                      1\n",
       "2013-dechi                          1\n",
       "21 Motorsports                      1\n",
       "305mia65                            1\n",
       "428ypz                              1\n",
       "47st. Photo                         1\n",
       "4surpluscity                        1\n",
       "4theloveofphones                    1\n",
       "6Ave                                1\n",
       "6Ave Express LLC                    6\n",
       "6ave                                6\n",
       "702-motoring                        1\n",
       "AAAA UNIVERSE                       2\n",
       "AASKUS                              1\n",
       "AMI Ventures Inc                   63\n",
       "AUDIO WATT STORE                    5\n",
       "AV Toy Store                        7\n",
       "AVLgear                             1\n",
       "Accessories Wholesale               1\n",
       "Acer Recertified                    1\n",
       "Acumen Disc                         2\n",
       "Adorama                             6\n",
       "Adorama Camera                      4\n",
       "                                   ..\n",
       "umati_housewtp                      1\n",
       "umpquablue                          1\n",
       "underground_bargains                1\n",
       "universe-deals                      2\n",
       "us2014_bacho                        1\n",
       "vcc113                              1\n",
       "vela-llc                            1\n",
       "videoandaudiocenter                 9\n",
       "videojam-half                       1\n",
       "vikusi                              1\n",
       "vipoutlet                           6\n",
       "vminnovations                       2\n",
       "volaudio                            2\n",
       "waltstv                             1\n",
       "weaknees-dvr-superstore             2\n",
       "webtron-x.com                       2\n",
       "weoutfit                            1\n",
       "wetesco                             1\n",
       "wholesale_connection                7\n",
       "wirelessalliance                    1\n",
       "wirelessmoo                         1\n",
       "wwstereo                           16\n",
       "www-bestelectronicsoutlet-com       1\n",
       "www-sonicelectronix-com             9\n",
       "xnishatx                            1\n",
       "yogi-comp                           1\n",
       "your-best-store                     1\n",
       "zal-digital                         2\n",
       "zara4573                            2\n",
       "zoneusa                             1\n",
       "Length: 693, dtype: int64"
      ]
     },
     "execution_count": 18,
>>>>>>> 7c3a18fcd465bec3454600c3d9b10c5eeabef157
     "metadata": {},
     "output_type": "execute_result"
    }
   ],
   "source": [
<<<<<<< HEAD
    "threshold_output"
=======
    "ecom_data_new.groupby('prices.merchant').size()"
>>>>>>> 7c3a18fcd465bec3454600c3d9b10c5eeabef157
>>>>>>> b0d584471e11d7e82561ff86bbef5fadf0392559
   ]
  },
  {
   "cell_type": "code",
   "execution_count": null,
   "metadata": {},
   "outputs": [],
   "source": []
  }
 ],
 "metadata": {
  "kernelspec": {
   "display_name": "Python 3",
   "language": "python",
   "name": "python3"
  },
  "language_info": {
   "codemirror_mode": {
    "name": "ipython",
    "version": 3
   },
   "file_extension": ".py",
   "mimetype": "text/x-python",
   "name": "python",
   "nbconvert_exporter": "python",
   "pygments_lexer": "ipython3",
   "version": "3.7.3"
  },
  "varInspector": {
   "cols": {
    "lenName": 16,
    "lenType": 16,
    "lenVar": 40
   },
   "kernels_config": {
    "python": {
     "delete_cmd_postfix": "",
     "delete_cmd_prefix": "del ",
     "library": "var_list.py",
     "varRefreshCmd": "print(var_dic_list())"
    },
    "r": {
     "delete_cmd_postfix": ") ",
     "delete_cmd_prefix": "rm(",
     "library": "var_list.r",
     "varRefreshCmd": "cat(var_dic_list()) "
    }
   },
   "types_to_exclude": [
    "module",
    "function",
    "builtin_function_or_method",
    "instance",
    "_Feature"
   ],
   "window_display": false
  }
 },
 "nbformat": 4,
 "nbformat_minor": 4
}
